{
 "cells": [
  {
   "cell_type": "code",
   "execution_count": 1,
   "metadata": {},
   "outputs": [],
   "source": [
    "import pandas as pd\n",
    "from torch.utils.data import DataLoader,Dataset, Subset\n",
    "import numpy as np\n",
    "import tft_model\n",
    "from data_formatters import ts_dataset  \n",
    "import data_formatters.base\n",
    "import expt_settings.configs\n",
    "import importlib\n",
    "from data_formatters import utils\n",
    "import torch.optim as optim\n",
    "import torch\n",
    "from tqdm import tqdm\n",
    "import pickle\n",
    "import time"
   ]
  },
  {
   "cell_type": "code",
   "execution_count": 2,
   "metadata": {},
   "outputs": [],
   "source": [
    "\n",
    "pd.set_option('max_columns', 1000)"
   ]
  },
  {
   "cell_type": "code",
   "execution_count": 3,
   "metadata": {},
   "outputs": [
    {
     "data": {
      "text/plain": [
       "<module 'data_formatters.utils' from '/Users/liuxufeng/github/tft/Temporal_Fusion_Transform/data_formatters/utils.py'>"
      ]
     },
     "execution_count": 3,
     "metadata": {},
     "output_type": "execute_result"
    }
   ],
   "source": [
    "importlib.reload(utils)"
   ]
  },
  {
   "cell_type": "code",
   "execution_count": 4,
   "metadata": {},
   "outputs": [
    {
     "name": "stdout",
     "output_type": "stream",
     "text": [
      "*** Training from defined parameters for m4 ***\n",
      "Loading & splitting data...\n",
      "(152280, 29)\n",
      "Formatting train-valid-test splits.\n",
      "Setting scalers with training data...\n",
      "0.7153222560882568\n"
     ]
    }
   ],
   "source": [
    "ExperimentConfig = expt_settings.configs.ExperimentConfig\n",
    "\n",
    "config = ExperimentConfig('volatility', 'outputs_vol')\n",
    "\n",
    "data_formatter = config.make_data_formatter()\n",
    "\n",
    "\n",
    "print(\"*** Training from defined parameters for {} ***\".format('m4'))\n",
    "data_csv_path = \"./volatility/formatted_omi_vol.csv\"\n",
    "#data_csv_path = '/Users/ardakeskiner/Desktop/TUM/Courses/ws19_20/tft/tft_outputs/data/electricity/hourly_electricity.csv'\n",
    "print(\"Loading & splitting data...\")\n",
    "raw_data = pd.read_csv(data_csv_path, index_col=0)\n",
    "print(raw_data.shape)\n",
    "start = time.time()\n",
    "train, valid, test = data_formatter.split_data(raw_data)\n",
    "train_samples, valid_samples = data_formatter.get_num_samples_for_calibration()\n",
    "print(time.time()-start)\n",
    "\n"
   ]
  },
  {
   "cell_type": "code",
   "execution_count": 5,
   "metadata": {},
   "outputs": [
    {
     "data": {
      "text/html": [
       "<div>\n",
       "<style scoped>\n",
       "    .dataframe tbody tr th:only-of-type {\n",
       "        vertical-align: middle;\n",
       "    }\n",
       "\n",
       "    .dataframe tbody tr th {\n",
       "        vertical-align: top;\n",
       "    }\n",
       "\n",
       "    .dataframe thead th {\n",
       "        text-align: right;\n",
       "    }\n",
       "</style>\n",
       "<table border=\"1\" class=\"dataframe\">\n",
       "  <thead>\n",
       "    <tr style=\"text-align: right;\">\n",
       "      <th></th>\n",
       "      <th>Symbol</th>\n",
       "      <th>close_time</th>\n",
       "      <th>rk_th2</th>\n",
       "      <th>medrv</th>\n",
       "      <th>rv10</th>\n",
       "      <th>rv10_ss</th>\n",
       "      <th>rsv_ss</th>\n",
       "      <th>open_time</th>\n",
       "      <th>rv5</th>\n",
       "      <th>rv5_ss</th>\n",
       "      <th>open_to_close</th>\n",
       "      <th>bv</th>\n",
       "      <th>close_price</th>\n",
       "      <th>nobs</th>\n",
       "      <th>rsv</th>\n",
       "      <th>rk_parzen</th>\n",
       "      <th>rk_twoscale</th>\n",
       "      <th>bv_ss</th>\n",
       "      <th>open_price</th>\n",
       "      <th>date</th>\n",
       "      <th>days_from_start</th>\n",
       "      <th>day_of_week</th>\n",
       "      <th>day_of_month</th>\n",
       "      <th>week_of_year</th>\n",
       "      <th>month</th>\n",
       "      <th>year</th>\n",
       "      <th>categorical_id</th>\n",
       "      <th>log_vol</th>\n",
       "      <th>Region</th>\n",
       "    </tr>\n",
       "  </thead>\n",
       "  <tbody>\n",
       "    <tr>\n",
       "      <th>2000-01-03 00:00:00+00:00</th>\n",
       "      <td>.AEX</td>\n",
       "      <td>163015.0</td>\n",
       "      <td>0.000102</td>\n",
       "      <td>0.000050</td>\n",
       "      <td>0.000178</td>\n",
       "      <td>0.000178</td>\n",
       "      <td>0.000046</td>\n",
       "      <td>90101.0</td>\n",
       "      <td>0.000130</td>\n",
       "      <td>0.000130</td>\n",
       "      <td>-0.000340</td>\n",
       "      <td>0.000100</td>\n",
       "      <td>675.44</td>\n",
       "      <td>1795.0</td>\n",
       "      <td>0.000046</td>\n",
       "      <td>0.000179</td>\n",
       "      <td>0.000103</td>\n",
       "      <td>0.000100</td>\n",
       "      <td>675.67</td>\n",
       "      <td>2000-01-03</td>\n",
       "      <td>0</td>\n",
       "      <td>0</td>\n",
       "      <td>3</td>\n",
       "      <td>1</td>\n",
       "      <td>1</td>\n",
       "      <td>2000</td>\n",
       "      <td>.AEX</td>\n",
       "      <td>-8.946668</td>\n",
       "      <td>EMEA</td>\n",
       "    </tr>\n",
       "    <tr>\n",
       "      <th>2000-01-04 00:00:00+00:00</th>\n",
       "      <td>.AEX</td>\n",
       "      <td>163016.0</td>\n",
       "      <td>0.000201</td>\n",
       "      <td>0.000075</td>\n",
       "      <td>0.000261</td>\n",
       "      <td>0.000261</td>\n",
       "      <td>0.000147</td>\n",
       "      <td>90416.0</td>\n",
       "      <td>0.000201</td>\n",
       "      <td>0.000201</td>\n",
       "      <td>-0.033606</td>\n",
       "      <td>0.000207</td>\n",
       "      <td>642.25</td>\n",
       "      <td>1785.0</td>\n",
       "      <td>0.000147</td>\n",
       "      <td>0.000423</td>\n",
       "      <td>0.000199</td>\n",
       "      <td>0.000207</td>\n",
       "      <td>664.20</td>\n",
       "      <td>2000-01-04</td>\n",
       "      <td>1</td>\n",
       "      <td>1</td>\n",
       "      <td>4</td>\n",
       "      <td>1</td>\n",
       "      <td>1</td>\n",
       "      <td>2000</td>\n",
       "      <td>.AEX</td>\n",
       "      <td>-8.510686</td>\n",
       "      <td>EMEA</td>\n",
       "    </tr>\n",
       "    <tr>\n",
       "      <th>2000-01-05 00:00:00+00:00</th>\n",
       "      <td>.AEX</td>\n",
       "      <td>163016.0</td>\n",
       "      <td>0.000345</td>\n",
       "      <td>0.000166</td>\n",
       "      <td>0.000714</td>\n",
       "      <td>0.000714</td>\n",
       "      <td>0.000328</td>\n",
       "      <td>90016.0</td>\n",
       "      <td>0.000491</td>\n",
       "      <td>0.000491</td>\n",
       "      <td>-0.001675</td>\n",
       "      <td>0.000361</td>\n",
       "      <td>632.31</td>\n",
       "      <td>1801.0</td>\n",
       "      <td>0.000328</td>\n",
       "      <td>0.000324</td>\n",
       "      <td>0.000325</td>\n",
       "      <td>0.000361</td>\n",
       "      <td>633.37</td>\n",
       "      <td>2000-01-05</td>\n",
       "      <td>2</td>\n",
       "      <td>2</td>\n",
       "      <td>5</td>\n",
       "      <td>1</td>\n",
       "      <td>1</td>\n",
       "      <td>2000</td>\n",
       "      <td>.AEX</td>\n",
       "      <td>-7.619135</td>\n",
       "      <td>EMEA</td>\n",
       "    </tr>\n",
       "    <tr>\n",
       "      <th>2000-01-06 00:00:00+00:00</th>\n",
       "      <td>.AEX</td>\n",
       "      <td>163002.0</td>\n",
       "      <td>0.000221</td>\n",
       "      <td>0.000152</td>\n",
       "      <td>0.000182</td>\n",
       "      <td>0.000182</td>\n",
       "      <td>0.000116</td>\n",
       "      <td>90016.0</td>\n",
       "      <td>0.000225</td>\n",
       "      <td>0.000225</td>\n",
       "      <td>-0.013130</td>\n",
       "      <td>0.000258</td>\n",
       "      <td>624.21</td>\n",
       "      <td>1799.0</td>\n",
       "      <td>0.000116</td>\n",
       "      <td>0.000219</td>\n",
       "      <td>0.000218</td>\n",
       "      <td>0.000258</td>\n",
       "      <td>632.46</td>\n",
       "      <td>2000-01-06</td>\n",
       "      <td>3</td>\n",
       "      <td>3</td>\n",
       "      <td>6</td>\n",
       "      <td>1</td>\n",
       "      <td>1</td>\n",
       "      <td>2000</td>\n",
       "      <td>.AEX</td>\n",
       "      <td>-8.398790</td>\n",
       "      <td>EMEA</td>\n",
       "    </tr>\n",
       "    <tr>\n",
       "      <th>2000-01-07 00:00:00+00:00</th>\n",
       "      <td>.AEX</td>\n",
       "      <td>163016.0</td>\n",
       "      <td>0.000123</td>\n",
       "      <td>0.000039</td>\n",
       "      <td>0.000157</td>\n",
       "      <td>0.000157</td>\n",
       "      <td>0.000048</td>\n",
       "      <td>90046.0</td>\n",
       "      <td>0.000138</td>\n",
       "      <td>0.000138</td>\n",
       "      <td>0.025013</td>\n",
       "      <td>0.000130</td>\n",
       "      <td>644.86</td>\n",
       "      <td>1798.0</td>\n",
       "      <td>0.000048</td>\n",
       "      <td>0.000155</td>\n",
       "      <td>0.000126</td>\n",
       "      <td>0.000130</td>\n",
       "      <td>628.93</td>\n",
       "      <td>2000-01-07</td>\n",
       "      <td>4</td>\n",
       "      <td>4</td>\n",
       "      <td>7</td>\n",
       "      <td>1</td>\n",
       "      <td>1</td>\n",
       "      <td>2000</td>\n",
       "      <td>.AEX</td>\n",
       "      <td>-8.885257</td>\n",
       "      <td>EMEA</td>\n",
       "    </tr>\n",
       "    <tr>\n",
       "      <th>...</th>\n",
       "      <td>...</td>\n",
       "      <td>...</td>\n",
       "      <td>...</td>\n",
       "      <td>...</td>\n",
       "      <td>...</td>\n",
       "      <td>...</td>\n",
       "      <td>...</td>\n",
       "      <td>...</td>\n",
       "      <td>...</td>\n",
       "      <td>...</td>\n",
       "      <td>...</td>\n",
       "      <td>...</td>\n",
       "      <td>...</td>\n",
       "      <td>...</td>\n",
       "      <td>...</td>\n",
       "      <td>...</td>\n",
       "      <td>...</td>\n",
       "      <td>...</td>\n",
       "      <td>...</td>\n",
       "      <td>...</td>\n",
       "      <td>...</td>\n",
       "      <td>...</td>\n",
       "      <td>...</td>\n",
       "      <td>...</td>\n",
       "      <td>...</td>\n",
       "      <td>...</td>\n",
       "      <td>...</td>\n",
       "      <td>...</td>\n",
       "      <td>...</td>\n",
       "    </tr>\n",
       "    <tr>\n",
       "      <th>2021-06-17 00:00:00+01:00</th>\n",
       "      <td>.STOXX50E</td>\n",
       "      <td>183003.0</td>\n",
       "      <td>0.000027</td>\n",
       "      <td>0.000012</td>\n",
       "      <td>0.000025</td>\n",
       "      <td>0.000025</td>\n",
       "      <td>0.000011</td>\n",
       "      <td>100015.0</td>\n",
       "      <td>0.000022</td>\n",
       "      <td>0.000022</td>\n",
       "      <td>0.002966</td>\n",
       "      <td>0.000018</td>\n",
       "      <td>4157.22</td>\n",
       "      <td>4188.0</td>\n",
       "      <td>0.000011</td>\n",
       "      <td>0.000017</td>\n",
       "      <td>0.000026</td>\n",
       "      <td>0.000018</td>\n",
       "      <td>4144.91</td>\n",
       "      <td>2021-06-17</td>\n",
       "      <td>7836</td>\n",
       "      <td>3</td>\n",
       "      <td>17</td>\n",
       "      <td>24</td>\n",
       "      <td>6</td>\n",
       "      <td>2021</td>\n",
       "      <td>.STOXX50E</td>\n",
       "      <td>-10.721173</td>\n",
       "      <td>EMEA</td>\n",
       "    </tr>\n",
       "    <tr>\n",
       "      <th>2021-06-18 00:00:00+01:00</th>\n",
       "      <td>.STOXX50E</td>\n",
       "      <td>183003.0</td>\n",
       "      <td>0.000062</td>\n",
       "      <td>0.000022</td>\n",
       "      <td>0.000072</td>\n",
       "      <td>0.000072</td>\n",
       "      <td>0.000042</td>\n",
       "      <td>100015.0</td>\n",
       "      <td>0.000055</td>\n",
       "      <td>0.000055</td>\n",
       "      <td>-0.018567</td>\n",
       "      <td>0.000043</td>\n",
       "      <td>4079.33</td>\n",
       "      <td>4240.0</td>\n",
       "      <td>0.000042</td>\n",
       "      <td>0.000084</td>\n",
       "      <td>0.000061</td>\n",
       "      <td>0.000043</td>\n",
       "      <td>4155.78</td>\n",
       "      <td>2021-06-18</td>\n",
       "      <td>7837</td>\n",
       "      <td>4</td>\n",
       "      <td>18</td>\n",
       "      <td>24</td>\n",
       "      <td>6</td>\n",
       "      <td>2021</td>\n",
       "      <td>.STOXX50E</td>\n",
       "      <td>-9.816182</td>\n",
       "      <td>EMEA</td>\n",
       "    </tr>\n",
       "    <tr>\n",
       "      <th>2021-06-21 00:00:00+01:00</th>\n",
       "      <td>.STOXX50E</td>\n",
       "      <td>183006.0</td>\n",
       "      <td>0.000076</td>\n",
       "      <td>0.000024</td>\n",
       "      <td>0.000099</td>\n",
       "      <td>0.000099</td>\n",
       "      <td>0.000040</td>\n",
       "      <td>100015.0</td>\n",
       "      <td>0.000074</td>\n",
       "      <td>0.000074</td>\n",
       "      <td>0.007673</td>\n",
       "      <td>0.000071</td>\n",
       "      <td>4110.84</td>\n",
       "      <td>4124.0</td>\n",
       "      <td>0.000040</td>\n",
       "      <td>0.000096</td>\n",
       "      <td>0.000074</td>\n",
       "      <td>0.000071</td>\n",
       "      <td>4079.42</td>\n",
       "      <td>2021-06-21</td>\n",
       "      <td>7840</td>\n",
       "      <td>0</td>\n",
       "      <td>21</td>\n",
       "      <td>25</td>\n",
       "      <td>6</td>\n",
       "      <td>2021</td>\n",
       "      <td>.STOXX50E</td>\n",
       "      <td>-9.511787</td>\n",
       "      <td>EMEA</td>\n",
       "    </tr>\n",
       "    <tr>\n",
       "      <th>2021-06-22 00:00:00+01:00</th>\n",
       "      <td>.STOXX50E</td>\n",
       "      <td>183015.0</td>\n",
       "      <td>0.000034</td>\n",
       "      <td>0.000018</td>\n",
       "      <td>0.000036</td>\n",
       "      <td>0.000036</td>\n",
       "      <td>0.000014</td>\n",
       "      <td>100015.0</td>\n",
       "      <td>0.000031</td>\n",
       "      <td>0.000031</td>\n",
       "      <td>0.003665</td>\n",
       "      <td>0.000029</td>\n",
       "      <td>4127.44</td>\n",
       "      <td>4247.0</td>\n",
       "      <td>0.000014</td>\n",
       "      <td>0.000030</td>\n",
       "      <td>0.000034</td>\n",
       "      <td>0.000029</td>\n",
       "      <td>4112.34</td>\n",
       "      <td>2021-06-22</td>\n",
       "      <td>7841</td>\n",
       "      <td>1</td>\n",
       "      <td>22</td>\n",
       "      <td>25</td>\n",
       "      <td>6</td>\n",
       "      <td>2021</td>\n",
       "      <td>.STOXX50E</td>\n",
       "      <td>-10.384768</td>\n",
       "      <td>EMEA</td>\n",
       "    </tr>\n",
       "    <tr>\n",
       "      <th>2021-06-23 00:00:00+01:00</th>\n",
       "      <td>.STOXX50E</td>\n",
       "      <td>183015.0</td>\n",
       "      <td>0.000032</td>\n",
       "      <td>0.000028</td>\n",
       "      <td>0.000036</td>\n",
       "      <td>0.000036</td>\n",
       "      <td>0.000025</td>\n",
       "      <td>100015.0</td>\n",
       "      <td>0.000037</td>\n",
       "      <td>0.000037</td>\n",
       "      <td>-0.010256</td>\n",
       "      <td>0.000038</td>\n",
       "      <td>4084.00</td>\n",
       "      <td>4228.0</td>\n",
       "      <td>0.000025</td>\n",
       "      <td>0.000059</td>\n",
       "      <td>0.000032</td>\n",
       "      <td>0.000038</td>\n",
       "      <td>4126.10</td>\n",
       "      <td>2021-06-23</td>\n",
       "      <td>7842</td>\n",
       "      <td>2</td>\n",
       "      <td>23</td>\n",
       "      <td>25</td>\n",
       "      <td>6</td>\n",
       "      <td>2021</td>\n",
       "      <td>.STOXX50E</td>\n",
       "      <td>-10.200570</td>\n",
       "      <td>EMEA</td>\n",
       "    </tr>\n",
       "  </tbody>\n",
       "</table>\n",
       "<p>152280 rows × 29 columns</p>\n",
       "</div>"
      ],
      "text/plain": [
       "                              Symbol  close_time    rk_th2     medrv  \\\n",
       "2000-01-03 00:00:00+00:00       .AEX    163015.0  0.000102  0.000050   \n",
       "2000-01-04 00:00:00+00:00       .AEX    163016.0  0.000201  0.000075   \n",
       "2000-01-05 00:00:00+00:00       .AEX    163016.0  0.000345  0.000166   \n",
       "2000-01-06 00:00:00+00:00       .AEX    163002.0  0.000221  0.000152   \n",
       "2000-01-07 00:00:00+00:00       .AEX    163016.0  0.000123  0.000039   \n",
       "...                              ...         ...       ...       ...   \n",
       "2021-06-17 00:00:00+01:00  .STOXX50E    183003.0  0.000027  0.000012   \n",
       "2021-06-18 00:00:00+01:00  .STOXX50E    183003.0  0.000062  0.000022   \n",
       "2021-06-21 00:00:00+01:00  .STOXX50E    183006.0  0.000076  0.000024   \n",
       "2021-06-22 00:00:00+01:00  .STOXX50E    183015.0  0.000034  0.000018   \n",
       "2021-06-23 00:00:00+01:00  .STOXX50E    183015.0  0.000032  0.000028   \n",
       "\n",
       "                               rv10   rv10_ss    rsv_ss  open_time       rv5  \\\n",
       "2000-01-03 00:00:00+00:00  0.000178  0.000178  0.000046    90101.0  0.000130   \n",
       "2000-01-04 00:00:00+00:00  0.000261  0.000261  0.000147    90416.0  0.000201   \n",
       "2000-01-05 00:00:00+00:00  0.000714  0.000714  0.000328    90016.0  0.000491   \n",
       "2000-01-06 00:00:00+00:00  0.000182  0.000182  0.000116    90016.0  0.000225   \n",
       "2000-01-07 00:00:00+00:00  0.000157  0.000157  0.000048    90046.0  0.000138   \n",
       "...                             ...       ...       ...        ...       ...   \n",
       "2021-06-17 00:00:00+01:00  0.000025  0.000025  0.000011   100015.0  0.000022   \n",
       "2021-06-18 00:00:00+01:00  0.000072  0.000072  0.000042   100015.0  0.000055   \n",
       "2021-06-21 00:00:00+01:00  0.000099  0.000099  0.000040   100015.0  0.000074   \n",
       "2021-06-22 00:00:00+01:00  0.000036  0.000036  0.000014   100015.0  0.000031   \n",
       "2021-06-23 00:00:00+01:00  0.000036  0.000036  0.000025   100015.0  0.000037   \n",
       "\n",
       "                             rv5_ss  open_to_close        bv  close_price  \\\n",
       "2000-01-03 00:00:00+00:00  0.000130      -0.000340  0.000100       675.44   \n",
       "2000-01-04 00:00:00+00:00  0.000201      -0.033606  0.000207       642.25   \n",
       "2000-01-05 00:00:00+00:00  0.000491      -0.001675  0.000361       632.31   \n",
       "2000-01-06 00:00:00+00:00  0.000225      -0.013130  0.000258       624.21   \n",
       "2000-01-07 00:00:00+00:00  0.000138       0.025013  0.000130       644.86   \n",
       "...                             ...            ...       ...          ...   \n",
       "2021-06-17 00:00:00+01:00  0.000022       0.002966  0.000018      4157.22   \n",
       "2021-06-18 00:00:00+01:00  0.000055      -0.018567  0.000043      4079.33   \n",
       "2021-06-21 00:00:00+01:00  0.000074       0.007673  0.000071      4110.84   \n",
       "2021-06-22 00:00:00+01:00  0.000031       0.003665  0.000029      4127.44   \n",
       "2021-06-23 00:00:00+01:00  0.000037      -0.010256  0.000038      4084.00   \n",
       "\n",
       "                             nobs       rsv  rk_parzen  rk_twoscale     bv_ss  \\\n",
       "2000-01-03 00:00:00+00:00  1795.0  0.000046   0.000179     0.000103  0.000100   \n",
       "2000-01-04 00:00:00+00:00  1785.0  0.000147   0.000423     0.000199  0.000207   \n",
       "2000-01-05 00:00:00+00:00  1801.0  0.000328   0.000324     0.000325  0.000361   \n",
       "2000-01-06 00:00:00+00:00  1799.0  0.000116   0.000219     0.000218  0.000258   \n",
       "2000-01-07 00:00:00+00:00  1798.0  0.000048   0.000155     0.000126  0.000130   \n",
       "...                           ...       ...        ...          ...       ...   \n",
       "2021-06-17 00:00:00+01:00  4188.0  0.000011   0.000017     0.000026  0.000018   \n",
       "2021-06-18 00:00:00+01:00  4240.0  0.000042   0.000084     0.000061  0.000043   \n",
       "2021-06-21 00:00:00+01:00  4124.0  0.000040   0.000096     0.000074  0.000071   \n",
       "2021-06-22 00:00:00+01:00  4247.0  0.000014   0.000030     0.000034  0.000029   \n",
       "2021-06-23 00:00:00+01:00  4228.0  0.000025   0.000059     0.000032  0.000038   \n",
       "\n",
       "                           open_price        date  days_from_start  \\\n",
       "2000-01-03 00:00:00+00:00      675.67  2000-01-03                0   \n",
       "2000-01-04 00:00:00+00:00      664.20  2000-01-04                1   \n",
       "2000-01-05 00:00:00+00:00      633.37  2000-01-05                2   \n",
       "2000-01-06 00:00:00+00:00      632.46  2000-01-06                3   \n",
       "2000-01-07 00:00:00+00:00      628.93  2000-01-07                4   \n",
       "...                               ...         ...              ...   \n",
       "2021-06-17 00:00:00+01:00     4144.91  2021-06-17             7836   \n",
       "2021-06-18 00:00:00+01:00     4155.78  2021-06-18             7837   \n",
       "2021-06-21 00:00:00+01:00     4079.42  2021-06-21             7840   \n",
       "2021-06-22 00:00:00+01:00     4112.34  2021-06-22             7841   \n",
       "2021-06-23 00:00:00+01:00     4126.10  2021-06-23             7842   \n",
       "\n",
       "                           day_of_week  day_of_month  week_of_year  month  \\\n",
       "2000-01-03 00:00:00+00:00            0             3             1      1   \n",
       "2000-01-04 00:00:00+00:00            1             4             1      1   \n",
       "2000-01-05 00:00:00+00:00            2             5             1      1   \n",
       "2000-01-06 00:00:00+00:00            3             6             1      1   \n",
       "2000-01-07 00:00:00+00:00            4             7             1      1   \n",
       "...                                ...           ...           ...    ...   \n",
       "2021-06-17 00:00:00+01:00            3            17            24      6   \n",
       "2021-06-18 00:00:00+01:00            4            18            24      6   \n",
       "2021-06-21 00:00:00+01:00            0            21            25      6   \n",
       "2021-06-22 00:00:00+01:00            1            22            25      6   \n",
       "2021-06-23 00:00:00+01:00            2            23            25      6   \n",
       "\n",
       "                           year categorical_id    log_vol Region  \n",
       "2000-01-03 00:00:00+00:00  2000           .AEX  -8.946668   EMEA  \n",
       "2000-01-04 00:00:00+00:00  2000           .AEX  -8.510686   EMEA  \n",
       "2000-01-05 00:00:00+00:00  2000           .AEX  -7.619135   EMEA  \n",
       "2000-01-06 00:00:00+00:00  2000           .AEX  -8.398790   EMEA  \n",
       "2000-01-07 00:00:00+00:00  2000           .AEX  -8.885257   EMEA  \n",
       "...                         ...            ...        ...    ...  \n",
       "2021-06-17 00:00:00+01:00  2021      .STOXX50E -10.721173   EMEA  \n",
       "2021-06-18 00:00:00+01:00  2021      .STOXX50E  -9.816182   EMEA  \n",
       "2021-06-21 00:00:00+01:00  2021      .STOXX50E  -9.511787   EMEA  \n",
       "2021-06-22 00:00:00+01:00  2021      .STOXX50E -10.384768   EMEA  \n",
       "2021-06-23 00:00:00+01:00  2021      .STOXX50E -10.200570   EMEA  \n",
       "\n",
       "[152280 rows x 29 columns]"
      ]
     },
     "execution_count": 5,
     "metadata": {},
     "output_type": "execute_result"
    }
   ],
   "source": [
    "raw_data"
   ]
  },
  {
   "cell_type": "code",
   "execution_count": 6,
   "metadata": {},
   "outputs": [],
   "source": [
    "# Sets up default params\n",
    "fixed_params = data_formatter.get_experiment_params()\n",
    "params = data_formatter.get_default_model_params()\n",
    "\n",
    "fixed_params.update(params)\n",
    "fixed_params['batch_first'] = True\n",
    "fixed_params['name'] = 'test'\n",
    "fixed_params['device'] = 'cpu' # torch.device('cuda' if torch.cuda.is_available() else 'cpu')\n",
    "# fixed_params['minibatch_size'] = 64\n",
    "# fixed_params['category_count'] = [6]\n",
    "device = fixed_params['device']\n",
    "fixed_params['quantiles'] = [0.5]\n",
    "\n",
    "# with open('data_formatter_m4.pkl', 'wb') as output:  # Overwrites any existing file.\n",
    "#     pickle.dump(data_formatter, output, pickle.HIGHEST_PROTOCOL)\n",
    "\n"
   ]
  },
  {
   "cell_type": "code",
   "execution_count": 7,
   "metadata": {},
   "outputs": [
    {
     "data": {
      "text/html": [
       "<div>\n",
       "<style scoped>\n",
       "    .dataframe tbody tr th:only-of-type {\n",
       "        vertical-align: middle;\n",
       "    }\n",
       "\n",
       "    .dataframe tbody tr th {\n",
       "        vertical-align: top;\n",
       "    }\n",
       "\n",
       "    .dataframe thead th {\n",
       "        text-align: right;\n",
       "    }\n",
       "</style>\n",
       "<table border=\"1\" class=\"dataframe\">\n",
       "  <thead>\n",
       "    <tr style=\"text-align: right;\">\n",
       "      <th></th>\n",
       "      <th>Symbol</th>\n",
       "      <th>close_time</th>\n",
       "      <th>rk_th2</th>\n",
       "      <th>medrv</th>\n",
       "      <th>rv10</th>\n",
       "      <th>rv10_ss</th>\n",
       "      <th>rsv_ss</th>\n",
       "      <th>open_time</th>\n",
       "      <th>rv5</th>\n",
       "      <th>rv5_ss</th>\n",
       "      <th>open_to_close</th>\n",
       "      <th>bv</th>\n",
       "      <th>close_price</th>\n",
       "      <th>nobs</th>\n",
       "      <th>rsv</th>\n",
       "      <th>rk_parzen</th>\n",
       "      <th>rk_twoscale</th>\n",
       "      <th>bv_ss</th>\n",
       "      <th>open_price</th>\n",
       "      <th>date</th>\n",
       "      <th>days_from_start</th>\n",
       "      <th>day_of_week</th>\n",
       "      <th>day_of_month</th>\n",
       "      <th>week_of_year</th>\n",
       "      <th>month</th>\n",
       "      <th>year</th>\n",
       "      <th>categorical_id</th>\n",
       "      <th>log_vol</th>\n",
       "      <th>Region</th>\n",
       "    </tr>\n",
       "  </thead>\n",
       "  <tbody>\n",
       "    <tr>\n",
       "      <th>2000-01-03 00:00:00+00:00</th>\n",
       "      <td>.AEX</td>\n",
       "      <td>163015.0</td>\n",
       "      <td>0.000102</td>\n",
       "      <td>0.000050</td>\n",
       "      <td>0.000178</td>\n",
       "      <td>0.000178</td>\n",
       "      <td>0.000046</td>\n",
       "      <td>90101.0</td>\n",
       "      <td>0.000130</td>\n",
       "      <td>0.000130</td>\n",
       "      <td>-0.000340</td>\n",
       "      <td>0.000100</td>\n",
       "      <td>675.44</td>\n",
       "      <td>1795.0</td>\n",
       "      <td>0.000046</td>\n",
       "      <td>0.000179</td>\n",
       "      <td>0.000103</td>\n",
       "      <td>0.000100</td>\n",
       "      <td>675.67</td>\n",
       "      <td>2000-01-03</td>\n",
       "      <td>0</td>\n",
       "      <td>0</td>\n",
       "      <td>3</td>\n",
       "      <td>1</td>\n",
       "      <td>1</td>\n",
       "      <td>2000</td>\n",
       "      <td>.AEX</td>\n",
       "      <td>-8.946668</td>\n",
       "      <td>EMEA</td>\n",
       "    </tr>\n",
       "    <tr>\n",
       "      <th>2000-01-04 00:00:00+00:00</th>\n",
       "      <td>.AEX</td>\n",
       "      <td>163016.0</td>\n",
       "      <td>0.000201</td>\n",
       "      <td>0.000075</td>\n",
       "      <td>0.000261</td>\n",
       "      <td>0.000261</td>\n",
       "      <td>0.000147</td>\n",
       "      <td>90416.0</td>\n",
       "      <td>0.000201</td>\n",
       "      <td>0.000201</td>\n",
       "      <td>-0.033606</td>\n",
       "      <td>0.000207</td>\n",
       "      <td>642.25</td>\n",
       "      <td>1785.0</td>\n",
       "      <td>0.000147</td>\n",
       "      <td>0.000423</td>\n",
       "      <td>0.000199</td>\n",
       "      <td>0.000207</td>\n",
       "      <td>664.20</td>\n",
       "      <td>2000-01-04</td>\n",
       "      <td>1</td>\n",
       "      <td>1</td>\n",
       "      <td>4</td>\n",
       "      <td>1</td>\n",
       "      <td>1</td>\n",
       "      <td>2000</td>\n",
       "      <td>.AEX</td>\n",
       "      <td>-8.510686</td>\n",
       "      <td>EMEA</td>\n",
       "    </tr>\n",
       "    <tr>\n",
       "      <th>2000-01-05 00:00:00+00:00</th>\n",
       "      <td>.AEX</td>\n",
       "      <td>163016.0</td>\n",
       "      <td>0.000345</td>\n",
       "      <td>0.000166</td>\n",
       "      <td>0.000714</td>\n",
       "      <td>0.000714</td>\n",
       "      <td>0.000328</td>\n",
       "      <td>90016.0</td>\n",
       "      <td>0.000491</td>\n",
       "      <td>0.000491</td>\n",
       "      <td>-0.001675</td>\n",
       "      <td>0.000361</td>\n",
       "      <td>632.31</td>\n",
       "      <td>1801.0</td>\n",
       "      <td>0.000328</td>\n",
       "      <td>0.000324</td>\n",
       "      <td>0.000325</td>\n",
       "      <td>0.000361</td>\n",
       "      <td>633.37</td>\n",
       "      <td>2000-01-05</td>\n",
       "      <td>2</td>\n",
       "      <td>2</td>\n",
       "      <td>5</td>\n",
       "      <td>1</td>\n",
       "      <td>1</td>\n",
       "      <td>2000</td>\n",
       "      <td>.AEX</td>\n",
       "      <td>-7.619135</td>\n",
       "      <td>EMEA</td>\n",
       "    </tr>\n",
       "    <tr>\n",
       "      <th>2000-01-06 00:00:00+00:00</th>\n",
       "      <td>.AEX</td>\n",
       "      <td>163002.0</td>\n",
       "      <td>0.000221</td>\n",
       "      <td>0.000152</td>\n",
       "      <td>0.000182</td>\n",
       "      <td>0.000182</td>\n",
       "      <td>0.000116</td>\n",
       "      <td>90016.0</td>\n",
       "      <td>0.000225</td>\n",
       "      <td>0.000225</td>\n",
       "      <td>-0.013130</td>\n",
       "      <td>0.000258</td>\n",
       "      <td>624.21</td>\n",
       "      <td>1799.0</td>\n",
       "      <td>0.000116</td>\n",
       "      <td>0.000219</td>\n",
       "      <td>0.000218</td>\n",
       "      <td>0.000258</td>\n",
       "      <td>632.46</td>\n",
       "      <td>2000-01-06</td>\n",
       "      <td>3</td>\n",
       "      <td>3</td>\n",
       "      <td>6</td>\n",
       "      <td>1</td>\n",
       "      <td>1</td>\n",
       "      <td>2000</td>\n",
       "      <td>.AEX</td>\n",
       "      <td>-8.398790</td>\n",
       "      <td>EMEA</td>\n",
       "    </tr>\n",
       "    <tr>\n",
       "      <th>2000-01-07 00:00:00+00:00</th>\n",
       "      <td>.AEX</td>\n",
       "      <td>163016.0</td>\n",
       "      <td>0.000123</td>\n",
       "      <td>0.000039</td>\n",
       "      <td>0.000157</td>\n",
       "      <td>0.000157</td>\n",
       "      <td>0.000048</td>\n",
       "      <td>90046.0</td>\n",
       "      <td>0.000138</td>\n",
       "      <td>0.000138</td>\n",
       "      <td>0.025013</td>\n",
       "      <td>0.000130</td>\n",
       "      <td>644.86</td>\n",
       "      <td>1798.0</td>\n",
       "      <td>0.000048</td>\n",
       "      <td>0.000155</td>\n",
       "      <td>0.000126</td>\n",
       "      <td>0.000130</td>\n",
       "      <td>628.93</td>\n",
       "      <td>2000-01-07</td>\n",
       "      <td>4</td>\n",
       "      <td>4</td>\n",
       "      <td>7</td>\n",
       "      <td>1</td>\n",
       "      <td>1</td>\n",
       "      <td>2000</td>\n",
       "      <td>.AEX</td>\n",
       "      <td>-8.885257</td>\n",
       "      <td>EMEA</td>\n",
       "    </tr>\n",
       "    <tr>\n",
       "      <th>...</th>\n",
       "      <td>...</td>\n",
       "      <td>...</td>\n",
       "      <td>...</td>\n",
       "      <td>...</td>\n",
       "      <td>...</td>\n",
       "      <td>...</td>\n",
       "      <td>...</td>\n",
       "      <td>...</td>\n",
       "      <td>...</td>\n",
       "      <td>...</td>\n",
       "      <td>...</td>\n",
       "      <td>...</td>\n",
       "      <td>...</td>\n",
       "      <td>...</td>\n",
       "      <td>...</td>\n",
       "      <td>...</td>\n",
       "      <td>...</td>\n",
       "      <td>...</td>\n",
       "      <td>...</td>\n",
       "      <td>...</td>\n",
       "      <td>...</td>\n",
       "      <td>...</td>\n",
       "      <td>...</td>\n",
       "      <td>...</td>\n",
       "      <td>...</td>\n",
       "      <td>...</td>\n",
       "      <td>...</td>\n",
       "      <td>...</td>\n",
       "      <td>...</td>\n",
       "    </tr>\n",
       "    <tr>\n",
       "      <th>2021-06-17 00:00:00+01:00</th>\n",
       "      <td>.STOXX50E</td>\n",
       "      <td>183003.0</td>\n",
       "      <td>0.000027</td>\n",
       "      <td>0.000012</td>\n",
       "      <td>0.000025</td>\n",
       "      <td>0.000025</td>\n",
       "      <td>0.000011</td>\n",
       "      <td>100015.0</td>\n",
       "      <td>0.000022</td>\n",
       "      <td>0.000022</td>\n",
       "      <td>0.002966</td>\n",
       "      <td>0.000018</td>\n",
       "      <td>4157.22</td>\n",
       "      <td>4188.0</td>\n",
       "      <td>0.000011</td>\n",
       "      <td>0.000017</td>\n",
       "      <td>0.000026</td>\n",
       "      <td>0.000018</td>\n",
       "      <td>4144.91</td>\n",
       "      <td>2021-06-17</td>\n",
       "      <td>7836</td>\n",
       "      <td>3</td>\n",
       "      <td>17</td>\n",
       "      <td>24</td>\n",
       "      <td>6</td>\n",
       "      <td>2021</td>\n",
       "      <td>.STOXX50E</td>\n",
       "      <td>-10.721173</td>\n",
       "      <td>EMEA</td>\n",
       "    </tr>\n",
       "    <tr>\n",
       "      <th>2021-06-18 00:00:00+01:00</th>\n",
       "      <td>.STOXX50E</td>\n",
       "      <td>183003.0</td>\n",
       "      <td>0.000062</td>\n",
       "      <td>0.000022</td>\n",
       "      <td>0.000072</td>\n",
       "      <td>0.000072</td>\n",
       "      <td>0.000042</td>\n",
       "      <td>100015.0</td>\n",
       "      <td>0.000055</td>\n",
       "      <td>0.000055</td>\n",
       "      <td>-0.018567</td>\n",
       "      <td>0.000043</td>\n",
       "      <td>4079.33</td>\n",
       "      <td>4240.0</td>\n",
       "      <td>0.000042</td>\n",
       "      <td>0.000084</td>\n",
       "      <td>0.000061</td>\n",
       "      <td>0.000043</td>\n",
       "      <td>4155.78</td>\n",
       "      <td>2021-06-18</td>\n",
       "      <td>7837</td>\n",
       "      <td>4</td>\n",
       "      <td>18</td>\n",
       "      <td>24</td>\n",
       "      <td>6</td>\n",
       "      <td>2021</td>\n",
       "      <td>.STOXX50E</td>\n",
       "      <td>-9.816182</td>\n",
       "      <td>EMEA</td>\n",
       "    </tr>\n",
       "    <tr>\n",
       "      <th>2021-06-21 00:00:00+01:00</th>\n",
       "      <td>.STOXX50E</td>\n",
       "      <td>183006.0</td>\n",
       "      <td>0.000076</td>\n",
       "      <td>0.000024</td>\n",
       "      <td>0.000099</td>\n",
       "      <td>0.000099</td>\n",
       "      <td>0.000040</td>\n",
       "      <td>100015.0</td>\n",
       "      <td>0.000074</td>\n",
       "      <td>0.000074</td>\n",
       "      <td>0.007673</td>\n",
       "      <td>0.000071</td>\n",
       "      <td>4110.84</td>\n",
       "      <td>4124.0</td>\n",
       "      <td>0.000040</td>\n",
       "      <td>0.000096</td>\n",
       "      <td>0.000074</td>\n",
       "      <td>0.000071</td>\n",
       "      <td>4079.42</td>\n",
       "      <td>2021-06-21</td>\n",
       "      <td>7840</td>\n",
       "      <td>0</td>\n",
       "      <td>21</td>\n",
       "      <td>25</td>\n",
       "      <td>6</td>\n",
       "      <td>2021</td>\n",
       "      <td>.STOXX50E</td>\n",
       "      <td>-9.511787</td>\n",
       "      <td>EMEA</td>\n",
       "    </tr>\n",
       "    <tr>\n",
       "      <th>2021-06-22 00:00:00+01:00</th>\n",
       "      <td>.STOXX50E</td>\n",
       "      <td>183015.0</td>\n",
       "      <td>0.000034</td>\n",
       "      <td>0.000018</td>\n",
       "      <td>0.000036</td>\n",
       "      <td>0.000036</td>\n",
       "      <td>0.000014</td>\n",
       "      <td>100015.0</td>\n",
       "      <td>0.000031</td>\n",
       "      <td>0.000031</td>\n",
       "      <td>0.003665</td>\n",
       "      <td>0.000029</td>\n",
       "      <td>4127.44</td>\n",
       "      <td>4247.0</td>\n",
       "      <td>0.000014</td>\n",
       "      <td>0.000030</td>\n",
       "      <td>0.000034</td>\n",
       "      <td>0.000029</td>\n",
       "      <td>4112.34</td>\n",
       "      <td>2021-06-22</td>\n",
       "      <td>7841</td>\n",
       "      <td>1</td>\n",
       "      <td>22</td>\n",
       "      <td>25</td>\n",
       "      <td>6</td>\n",
       "      <td>2021</td>\n",
       "      <td>.STOXX50E</td>\n",
       "      <td>-10.384768</td>\n",
       "      <td>EMEA</td>\n",
       "    </tr>\n",
       "    <tr>\n",
       "      <th>2021-06-23 00:00:00+01:00</th>\n",
       "      <td>.STOXX50E</td>\n",
       "      <td>183015.0</td>\n",
       "      <td>0.000032</td>\n",
       "      <td>0.000028</td>\n",
       "      <td>0.000036</td>\n",
       "      <td>0.000036</td>\n",
       "      <td>0.000025</td>\n",
       "      <td>100015.0</td>\n",
       "      <td>0.000037</td>\n",
       "      <td>0.000037</td>\n",
       "      <td>-0.010256</td>\n",
       "      <td>0.000038</td>\n",
       "      <td>4084.00</td>\n",
       "      <td>4228.0</td>\n",
       "      <td>0.000025</td>\n",
       "      <td>0.000059</td>\n",
       "      <td>0.000032</td>\n",
       "      <td>0.000038</td>\n",
       "      <td>4126.10</td>\n",
       "      <td>2021-06-23</td>\n",
       "      <td>7842</td>\n",
       "      <td>2</td>\n",
       "      <td>23</td>\n",
       "      <td>25</td>\n",
       "      <td>6</td>\n",
       "      <td>2021</td>\n",
       "      <td>.STOXX50E</td>\n",
       "      <td>-10.200570</td>\n",
       "      <td>EMEA</td>\n",
       "    </tr>\n",
       "  </tbody>\n",
       "</table>\n",
       "<p>152280 rows × 29 columns</p>\n",
       "</div>"
      ],
      "text/plain": [
       "                              Symbol  close_time    rk_th2     medrv  \\\n",
       "2000-01-03 00:00:00+00:00       .AEX    163015.0  0.000102  0.000050   \n",
       "2000-01-04 00:00:00+00:00       .AEX    163016.0  0.000201  0.000075   \n",
       "2000-01-05 00:00:00+00:00       .AEX    163016.0  0.000345  0.000166   \n",
       "2000-01-06 00:00:00+00:00       .AEX    163002.0  0.000221  0.000152   \n",
       "2000-01-07 00:00:00+00:00       .AEX    163016.0  0.000123  0.000039   \n",
       "...                              ...         ...       ...       ...   \n",
       "2021-06-17 00:00:00+01:00  .STOXX50E    183003.0  0.000027  0.000012   \n",
       "2021-06-18 00:00:00+01:00  .STOXX50E    183003.0  0.000062  0.000022   \n",
       "2021-06-21 00:00:00+01:00  .STOXX50E    183006.0  0.000076  0.000024   \n",
       "2021-06-22 00:00:00+01:00  .STOXX50E    183015.0  0.000034  0.000018   \n",
       "2021-06-23 00:00:00+01:00  .STOXX50E    183015.0  0.000032  0.000028   \n",
       "\n",
       "                               rv10   rv10_ss    rsv_ss  open_time       rv5  \\\n",
       "2000-01-03 00:00:00+00:00  0.000178  0.000178  0.000046    90101.0  0.000130   \n",
       "2000-01-04 00:00:00+00:00  0.000261  0.000261  0.000147    90416.0  0.000201   \n",
       "2000-01-05 00:00:00+00:00  0.000714  0.000714  0.000328    90016.0  0.000491   \n",
       "2000-01-06 00:00:00+00:00  0.000182  0.000182  0.000116    90016.0  0.000225   \n",
       "2000-01-07 00:00:00+00:00  0.000157  0.000157  0.000048    90046.0  0.000138   \n",
       "...                             ...       ...       ...        ...       ...   \n",
       "2021-06-17 00:00:00+01:00  0.000025  0.000025  0.000011   100015.0  0.000022   \n",
       "2021-06-18 00:00:00+01:00  0.000072  0.000072  0.000042   100015.0  0.000055   \n",
       "2021-06-21 00:00:00+01:00  0.000099  0.000099  0.000040   100015.0  0.000074   \n",
       "2021-06-22 00:00:00+01:00  0.000036  0.000036  0.000014   100015.0  0.000031   \n",
       "2021-06-23 00:00:00+01:00  0.000036  0.000036  0.000025   100015.0  0.000037   \n",
       "\n",
       "                             rv5_ss  open_to_close        bv  close_price  \\\n",
       "2000-01-03 00:00:00+00:00  0.000130      -0.000340  0.000100       675.44   \n",
       "2000-01-04 00:00:00+00:00  0.000201      -0.033606  0.000207       642.25   \n",
       "2000-01-05 00:00:00+00:00  0.000491      -0.001675  0.000361       632.31   \n",
       "2000-01-06 00:00:00+00:00  0.000225      -0.013130  0.000258       624.21   \n",
       "2000-01-07 00:00:00+00:00  0.000138       0.025013  0.000130       644.86   \n",
       "...                             ...            ...       ...          ...   \n",
       "2021-06-17 00:00:00+01:00  0.000022       0.002966  0.000018      4157.22   \n",
       "2021-06-18 00:00:00+01:00  0.000055      -0.018567  0.000043      4079.33   \n",
       "2021-06-21 00:00:00+01:00  0.000074       0.007673  0.000071      4110.84   \n",
       "2021-06-22 00:00:00+01:00  0.000031       0.003665  0.000029      4127.44   \n",
       "2021-06-23 00:00:00+01:00  0.000037      -0.010256  0.000038      4084.00   \n",
       "\n",
       "                             nobs       rsv  rk_parzen  rk_twoscale     bv_ss  \\\n",
       "2000-01-03 00:00:00+00:00  1795.0  0.000046   0.000179     0.000103  0.000100   \n",
       "2000-01-04 00:00:00+00:00  1785.0  0.000147   0.000423     0.000199  0.000207   \n",
       "2000-01-05 00:00:00+00:00  1801.0  0.000328   0.000324     0.000325  0.000361   \n",
       "2000-01-06 00:00:00+00:00  1799.0  0.000116   0.000219     0.000218  0.000258   \n",
       "2000-01-07 00:00:00+00:00  1798.0  0.000048   0.000155     0.000126  0.000130   \n",
       "...                           ...       ...        ...          ...       ...   \n",
       "2021-06-17 00:00:00+01:00  4188.0  0.000011   0.000017     0.000026  0.000018   \n",
       "2021-06-18 00:00:00+01:00  4240.0  0.000042   0.000084     0.000061  0.000043   \n",
       "2021-06-21 00:00:00+01:00  4124.0  0.000040   0.000096     0.000074  0.000071   \n",
       "2021-06-22 00:00:00+01:00  4247.0  0.000014   0.000030     0.000034  0.000029   \n",
       "2021-06-23 00:00:00+01:00  4228.0  0.000025   0.000059     0.000032  0.000038   \n",
       "\n",
       "                           open_price        date  days_from_start  \\\n",
       "2000-01-03 00:00:00+00:00      675.67  2000-01-03                0   \n",
       "2000-01-04 00:00:00+00:00      664.20  2000-01-04                1   \n",
       "2000-01-05 00:00:00+00:00      633.37  2000-01-05                2   \n",
       "2000-01-06 00:00:00+00:00      632.46  2000-01-06                3   \n",
       "2000-01-07 00:00:00+00:00      628.93  2000-01-07                4   \n",
       "...                               ...         ...              ...   \n",
       "2021-06-17 00:00:00+01:00     4144.91  2021-06-17             7836   \n",
       "2021-06-18 00:00:00+01:00     4155.78  2021-06-18             7837   \n",
       "2021-06-21 00:00:00+01:00     4079.42  2021-06-21             7840   \n",
       "2021-06-22 00:00:00+01:00     4112.34  2021-06-22             7841   \n",
       "2021-06-23 00:00:00+01:00     4126.10  2021-06-23             7842   \n",
       "\n",
       "                           day_of_week  day_of_month  week_of_year  month  \\\n",
       "2000-01-03 00:00:00+00:00            0             3             1      1   \n",
       "2000-01-04 00:00:00+00:00            1             4             1      1   \n",
       "2000-01-05 00:00:00+00:00            2             5             1      1   \n",
       "2000-01-06 00:00:00+00:00            3             6             1      1   \n",
       "2000-01-07 00:00:00+00:00            4             7             1      1   \n",
       "...                                ...           ...           ...    ...   \n",
       "2021-06-17 00:00:00+01:00            3            17            24      6   \n",
       "2021-06-18 00:00:00+01:00            4            18            24      6   \n",
       "2021-06-21 00:00:00+01:00            0            21            25      6   \n",
       "2021-06-22 00:00:00+01:00            1            22            25      6   \n",
       "2021-06-23 00:00:00+01:00            2            23            25      6   \n",
       "\n",
       "                           year categorical_id    log_vol Region  \n",
       "2000-01-03 00:00:00+00:00  2000           .AEX  -8.946668   EMEA  \n",
       "2000-01-04 00:00:00+00:00  2000           .AEX  -8.510686   EMEA  \n",
       "2000-01-05 00:00:00+00:00  2000           .AEX  -7.619135   EMEA  \n",
       "2000-01-06 00:00:00+00:00  2000           .AEX  -8.398790   EMEA  \n",
       "2000-01-07 00:00:00+00:00  2000           .AEX  -8.885257   EMEA  \n",
       "...                         ...            ...        ...    ...  \n",
       "2021-06-17 00:00:00+01:00  2021      .STOXX50E -10.721173   EMEA  \n",
       "2021-06-18 00:00:00+01:00  2021      .STOXX50E  -9.816182   EMEA  \n",
       "2021-06-21 00:00:00+01:00  2021      .STOXX50E  -9.511787   EMEA  \n",
       "2021-06-22 00:00:00+01:00  2021      .STOXX50E -10.384768   EMEA  \n",
       "2021-06-23 00:00:00+01:00  2021      .STOXX50E -10.200570   EMEA  \n",
       "\n",
       "[152280 rows x 29 columns]"
      ]
     },
     "execution_count": 7,
     "metadata": {},
     "output_type": "execute_result"
    }
   ],
   "source": [
    "raw_data"
   ]
  },
  {
   "cell_type": "code",
   "execution_count": 8,
   "metadata": {},
   "outputs": [
    {
     "data": {
      "text/plain": [
       "{'total_time_steps': 257,\n",
       " 'num_encoder_steps': 252,\n",
       " 'num_epochs': 100,\n",
       " 'early_stopping_patience': 5,\n",
       " 'multiprocessing_workers': 5,\n",
       " 'column_definition': [('Symbol',\n",
       "   <DataTypes.CATEGORICAL: 1>,\n",
       "   <InputTypes.ID: 4>),\n",
       "  ('date', <DataTypes.DATE: 2>, <InputTypes.TIME: 5>),\n",
       "  ('log_vol', <DataTypes.REAL_VALUED: 0>, <InputTypes.TARGET: 0>),\n",
       "  ('open_to_close',\n",
       "   <DataTypes.REAL_VALUED: 0>,\n",
       "   <InputTypes.OBSERVED_INPUT: 1>),\n",
       "  ('days_from_start', <DataTypes.REAL_VALUED: 0>, <InputTypes.KNOWN_INPUT: 2>),\n",
       "  ('day_of_week', <DataTypes.CATEGORICAL: 1>, <InputTypes.KNOWN_INPUT: 2>),\n",
       "  ('day_of_month', <DataTypes.CATEGORICAL: 1>, <InputTypes.KNOWN_INPUT: 2>),\n",
       "  ('week_of_year', <DataTypes.CATEGORICAL: 1>, <InputTypes.KNOWN_INPUT: 2>),\n",
       "  ('month', <DataTypes.CATEGORICAL: 1>, <InputTypes.KNOWN_INPUT: 2>),\n",
       "  ('Region', <DataTypes.CATEGORICAL: 1>, <InputTypes.STATIC_INPUT: 3>)],\n",
       " 'input_size': 8,\n",
       " 'output_size': 1,\n",
       " 'category_counts': [7, 31, 53, 12, 4],\n",
       " 'input_obs_loc': [0],\n",
       " 'static_input_loc': [7],\n",
       " 'known_regular_inputs': [2],\n",
       " 'known_categorical_inputs': [0, 1, 2, 3, 4],\n",
       " 'inputs_encoder': ['log_vol',\n",
       "  'open_to_close',\n",
       "  'days_from_start',\n",
       "  'day_of_week',\n",
       "  'day_of_month',\n",
       "  'week_of_year',\n",
       "  'month',\n",
       "  'Region'],\n",
       " 'inputs_decoder': ['days_from_start',\n",
       "  'day_of_week',\n",
       "  'day_of_month',\n",
       "  'week_of_year',\n",
       "  'month',\n",
       "  'Region'],\n",
       " 'dropout_rate': 0.3,\n",
       " 'hidden_layer_size': 160,\n",
       " 'learning_rate': 0.01,\n",
       " 'minibatch_size': 64,\n",
       " 'max_gradient_norm': 0.01,\n",
       " 'num_heads': 1,\n",
       " 'stack_size': 1,\n",
       " 'batch_first': True,\n",
       " 'name': 'test',\n",
       " 'device': 'cpu',\n",
       " 'quantiles': [0.5]}"
      ]
     },
     "execution_count": 8,
     "metadata": {},
     "output_type": "execute_result"
    }
   ],
   "source": [
    "fixed_params"
   ]
  },
  {
   "cell_type": "code",
   "execution_count": 9,
   "metadata": {},
   "outputs": [
    {
     "name": "stdout",
     "output_type": "stream",
     "text": [
      "Getting valid sampling locations.\n",
      "# available segments=101946\n",
      "Extracting 256 samples...\n"
     ]
    }
   ],
   "source": [
    "max_samples = 256  #* 200 * 2\n",
    "elect = ts_dataset.TSDataset(fixed_params, max_samples, train)\n",
    "\n",
    "# with open('ts_dataset_m4.pkl', 'wb') as output:  # Overwrites any existing file.\n",
    "#     pickle.dump(elect, output, pickle.HIGHEST_PROTOCOL)\n",
    "\n",
    "# with open('ts_dataset_m4.pkl', 'rb') as input:\n",
    "#     elect = pickle.load(input)"
   ]
  },
  {
   "cell_type": "code",
   "execution_count": 10,
   "metadata": {},
   "outputs": [],
   "source": [
    "loader = DataLoader(\n",
    "            elect,\n",
    "            batch_size=fixed_params['minibatch_size'],\n",
    "            num_workers=2,\n",
    "            shuffle=False\n",
    "        )"
   ]
  },
  {
   "cell_type": "code",
   "execution_count": 11,
   "metadata": {
    "scrolled": true
   },
   "outputs": [
    {
     "name": "stdout",
     "output_type": "stream",
     "text": [
      "{'total_time_steps': 257, 'num_encoder_steps': 252, 'num_epochs': 100, 'early_stopping_patience': 5, 'multiprocessing_workers': 5, 'column_definition': [('Symbol', <DataTypes.CATEGORICAL: 1>, <InputTypes.ID: 4>), ('date', <DataTypes.DATE: 2>, <InputTypes.TIME: 5>), ('log_vol', <DataTypes.REAL_VALUED: 0>, <InputTypes.TARGET: 0>), ('open_to_close', <DataTypes.REAL_VALUED: 0>, <InputTypes.OBSERVED_INPUT: 1>), ('days_from_start', <DataTypes.REAL_VALUED: 0>, <InputTypes.KNOWN_INPUT: 2>), ('day_of_week', <DataTypes.CATEGORICAL: 1>, <InputTypes.KNOWN_INPUT: 2>), ('day_of_month', <DataTypes.CATEGORICAL: 1>, <InputTypes.KNOWN_INPUT: 2>), ('week_of_year', <DataTypes.CATEGORICAL: 1>, <InputTypes.KNOWN_INPUT: 2>), ('month', <DataTypes.CATEGORICAL: 1>, <InputTypes.KNOWN_INPUT: 2>), ('Region', <DataTypes.CATEGORICAL: 1>, <InputTypes.STATIC_INPUT: 3>)], 'input_size': 8, 'output_size': 1, 'category_counts': [7, 31, 53, 12, 4], 'input_obs_loc': [0], 'static_input_loc': [7], 'known_regular_inputs': [2], 'known_categorical_inputs': [0, 1, 2, 3, 4], 'inputs_encoder': ['log_vol', 'open_to_close', 'days_from_start', 'day_of_week', 'day_of_month', 'week_of_year', 'month', 'Region'], 'inputs_decoder': ['days_from_start', 'day_of_week', 'day_of_month', 'week_of_year', 'month', 'Region'], 'dropout_rate': 0.3, 'hidden_layer_size': 160, 'learning_rate': 0.01, 'minibatch_size': 64, 'max_gradient_norm': 0.01, 'num_heads': 1, 'stack_size': 1, 'batch_first': True, 'name': 'test', 'device': 'cpu', 'quantiles': [0.5]}\n",
      "_known_regular_input_idx:[2], _known_categorical_input_idx:[0, 1, 2, 3, 4], num_static: 1, num_inputs:7\n",
      "num_categorical_variables\n",
      "5\n",
      "input_size:252, num_inputs:7, hidden_layer_size:160\n"
     ]
    }
   ],
   "source": [
    "importlib.reload(tft_model)\n",
    "model = tft_model.TFT(fixed_params).to(device)"
   ]
  },
  {
   "cell_type": "code",
   "execution_count": 12,
   "metadata": {},
   "outputs": [],
   "source": [
    "from losses.quantile_loss import QuantileLoss\n",
    "from losses.smape_loss import SMAPELoss\n",
    "from losses.rmsse_loss import RMSSELoss\n",
    "from losses.pinball_loss import PinballLoss\n",
    "\n",
    "\n",
    "q_loss_func = RMSSELoss(fixed_params['device'])\n",
    "# q_loss_func = SMAPELoss(fixed_params['device'])\n",
    "# q_loss_func = QuantileLoss(fixed_params['quantiles'])\n",
    "# import sys\n",
    "# sys.path.append('/home/arda/Desktop/thesis/')\n",
    "# from loss_modules import PinballLoss\n",
    "q_loss_func = PinballLoss(0.45, device)\n",
    "optimizer = optim.Adam(model.parameters(), lr=0.001)"
   ]
  },
  {
   "cell_type": "code",
   "execution_count": 29,
   "metadata": {
    "scrolled": false
   },
   "outputs": [
    {
     "name": "stderr",
     "output_type": "stream",
     "text": [
      "  0%|          | 0/4 [00:00<?, ?it/s]/Users/liuxufeng/github/tft/Temporal_Fusion_Transform/layers/scaled_dot_product_attention.py:35: UserWarning: To copy construct from a tensor, it is recommended to use sourceTensor.clone().detach() or sourceTensor.clone().detach().requires_grad_(True), rather than torch.tensor(sourceTensor).\n",
      "  mmask = (-1e+9) * (1. - torch.tensor(mask, dtype=torch.float).to(self.device)) # setting to infinity\n",
      "100%|██████████| 4/4 [00:23<00:00,  5.89s/it]"
     ]
    },
    {
     "name": "stdout",
     "output_type": "stream",
     "text": [
      "0.20105988904833794\n"
     ]
    },
    {
     "name": "stderr",
     "output_type": "stream",
     "text": [
      "\n",
      "100%|██████████| 4/4 [00:20<00:00,  5.24s/it]"
     ]
    },
    {
     "name": "stdout",
     "output_type": "stream",
     "text": [
      "0.2139316089451313\n"
     ]
    },
    {
     "name": "stderr",
     "output_type": "stream",
     "text": [
      "\n",
      "100%|██████████| 4/4 [00:22<00:00,  5.51s/it]"
     ]
    },
    {
     "name": "stdout",
     "output_type": "stream",
     "text": [
      "0.208828654140234\n"
     ]
    },
    {
     "name": "stderr",
     "output_type": "stream",
     "text": [
      "\n",
      "100%|██████████| 4/4 [00:20<00:00,  5.22s/it]"
     ]
    },
    {
     "name": "stdout",
     "output_type": "stream",
     "text": [
      "0.18824032694101334\n"
     ]
    },
    {
     "name": "stderr",
     "output_type": "stream",
     "text": [
      "\n",
      "100%|██████████| 4/4 [00:20<00:00,  5.03s/it]"
     ]
    },
    {
     "name": "stdout",
     "output_type": "stream",
     "text": [
      "0.19696342572569847\n"
     ]
    },
    {
     "name": "stderr",
     "output_type": "stream",
     "text": [
      "\n",
      "100%|██████████| 4/4 [00:20<00:00,  5.20s/it]"
     ]
    },
    {
     "name": "stdout",
     "output_type": "stream",
     "text": [
      "0.19871504232287407\n"
     ]
    },
    {
     "name": "stderr",
     "output_type": "stream",
     "text": [
      "\n",
      "100%|██████████| 4/4 [00:20<00:00,  5.11s/it]"
     ]
    },
    {
     "name": "stdout",
     "output_type": "stream",
     "text": [
      "0.19453173503279686\n"
     ]
    },
    {
     "name": "stderr",
     "output_type": "stream",
     "text": [
      "\n",
      "100%|██████████| 4/4 [00:20<00:00,  5.17s/it]"
     ]
    },
    {
     "name": "stdout",
     "output_type": "stream",
     "text": [
      "0.19206399098038673\n"
     ]
    },
    {
     "name": "stderr",
     "output_type": "stream",
     "text": [
      "\n",
      "100%|██████████| 4/4 [00:20<00:00,  5.08s/it]"
     ]
    },
    {
     "name": "stdout",
     "output_type": "stream",
     "text": [
      "0.18037383258342743\n"
     ]
    },
    {
     "name": "stderr",
     "output_type": "stream",
     "text": [
      "\n",
      "100%|██████████| 4/4 [00:20<00:00,  5.20s/it]"
     ]
    },
    {
     "name": "stdout",
     "output_type": "stream",
     "text": [
      "0.18575768545269966\n"
     ]
    },
    {
     "name": "stderr",
     "output_type": "stream",
     "text": [
      "\n",
      "100%|██████████| 4/4 [00:21<00:00,  5.35s/it]"
     ]
    },
    {
     "name": "stdout",
     "output_type": "stream",
     "text": [
      "0.17962690815329552\n"
     ]
    },
    {
     "name": "stderr",
     "output_type": "stream",
     "text": [
      "\n",
      "100%|██████████| 4/4 [00:21<00:00,  5.44s/it]"
     ]
    },
    {
     "name": "stdout",
     "output_type": "stream",
     "text": [
      "0.17655588686466217\n"
     ]
    },
    {
     "name": "stderr",
     "output_type": "stream",
     "text": [
      "\n",
      "100%|██████████| 4/4 [00:21<00:00,  5.45s/it]"
     ]
    },
    {
     "name": "stdout",
     "output_type": "stream",
     "text": [
      "0.17722589895129204\n"
     ]
    },
    {
     "name": "stderr",
     "output_type": "stream",
     "text": [
      "\n",
      "100%|██████████| 4/4 [00:22<00:00,  5.57s/it]"
     ]
    },
    {
     "name": "stdout",
     "output_type": "stream",
     "text": [
      "0.17489897087216377\n"
     ]
    },
    {
     "name": "stderr",
     "output_type": "stream",
     "text": [
      "\n",
      "100%|██████████| 4/4 [00:21<00:00,  5.32s/it]"
     ]
    },
    {
     "name": "stdout",
     "output_type": "stream",
     "text": [
      "0.16845453903079033\n"
     ]
    },
    {
     "name": "stderr",
     "output_type": "stream",
     "text": [
      "\n",
      "100%|██████████| 4/4 [00:23<00:00,  5.83s/it]"
     ]
    },
    {
     "name": "stdout",
     "output_type": "stream",
     "text": [
      "0.1691385805606842\n"
     ]
    },
    {
     "name": "stderr",
     "output_type": "stream",
     "text": [
      "\n",
      "100%|██████████| 4/4 [00:27<00:00,  6.83s/it]"
     ]
    },
    {
     "name": "stdout",
     "output_type": "stream",
     "text": [
      "0.17388681322336197\n"
     ]
    },
    {
     "name": "stderr",
     "output_type": "stream",
     "text": [
      "\n",
      "100%|██████████| 4/4 [00:23<00:00,  5.76s/it]"
     ]
    },
    {
     "name": "stdout",
     "output_type": "stream",
     "text": [
      "0.17200103774666786\n"
     ]
    },
    {
     "name": "stderr",
     "output_type": "stream",
     "text": [
      "\n",
      "100%|██████████| 4/4 [00:21<00:00,  5.48s/it]"
     ]
    },
    {
     "name": "stdout",
     "output_type": "stream",
     "text": [
      "0.1659979522228241\n"
     ]
    },
    {
     "name": "stderr",
     "output_type": "stream",
     "text": [
      "\n",
      "100%|██████████| 4/4 [00:21<00:00,  5.26s/it]"
     ]
    },
    {
     "name": "stdout",
     "output_type": "stream",
     "text": [
      "0.17850008606910706\n"
     ]
    },
    {
     "name": "stderr",
     "output_type": "stream",
     "text": [
      "\n",
      "100%|██████████| 4/4 [00:20<00:00,  5.19s/it]"
     ]
    },
    {
     "name": "stdout",
     "output_type": "stream",
     "text": [
      "0.16889535263180733\n"
     ]
    },
    {
     "name": "stderr",
     "output_type": "stream",
     "text": [
      "\n",
      "100%|██████████| 4/4 [00:20<00:00,  5.17s/it]"
     ]
    },
    {
     "name": "stdout",
     "output_type": "stream",
     "text": [
      "0.16061701253056526\n"
     ]
    },
    {
     "name": "stderr",
     "output_type": "stream",
     "text": [
      "\n",
      "100%|██████████| 4/4 [00:20<00:00,  5.21s/it]"
     ]
    },
    {
     "name": "stdout",
     "output_type": "stream",
     "text": [
      "0.1635524109005928\n"
     ]
    },
    {
     "name": "stderr",
     "output_type": "stream",
     "text": [
      "\n",
      "100%|██████████| 4/4 [00:20<00:00,  5.23s/it]"
     ]
    },
    {
     "name": "stdout",
     "output_type": "stream",
     "text": [
      "0.15828213468194008\n"
     ]
    },
    {
     "name": "stderr",
     "output_type": "stream",
     "text": [
      "\n",
      "100%|██████████| 4/4 [00:21<00:00,  5.36s/it]"
     ]
    },
    {
     "name": "stdout",
     "output_type": "stream",
     "text": [
      "0.16280804574489594\n"
     ]
    },
    {
     "name": "stderr",
     "output_type": "stream",
     "text": [
      "\n",
      "100%|██████████| 4/4 [00:20<00:00,  5.24s/it]"
     ]
    },
    {
     "name": "stdout",
     "output_type": "stream",
     "text": [
      "0.1559782437980175\n"
     ]
    },
    {
     "name": "stderr",
     "output_type": "stream",
     "text": [
      "\n",
      "100%|██████████| 4/4 [00:20<00:00,  5.17s/it]"
     ]
    },
    {
     "name": "stdout",
     "output_type": "stream",
     "text": [
      "0.16271112859249115\n"
     ]
    },
    {
     "name": "stderr",
     "output_type": "stream",
     "text": [
      "\n",
      "100%|██████████| 4/4 [00:20<00:00,  5.00s/it]"
     ]
    },
    {
     "name": "stdout",
     "output_type": "stream",
     "text": [
      "0.1568349003791809\n"
     ]
    },
    {
     "name": "stderr",
     "output_type": "stream",
     "text": [
      "\n",
      "100%|██████████| 4/4 [00:19<00:00,  4.83s/it]"
     ]
    },
    {
     "name": "stdout",
     "output_type": "stream",
     "text": [
      "0.15956350415945053\n"
     ]
    },
    {
     "name": "stderr",
     "output_type": "stream",
     "text": [
      "\n",
      "100%|██████████| 4/4 [00:19<00:00,  4.76s/it]"
     ]
    },
    {
     "name": "stdout",
     "output_type": "stream",
     "text": [
      "0.15229786187410355\n"
     ]
    },
    {
     "name": "stderr",
     "output_type": "stream",
     "text": [
      "\n",
      "100%|██████████| 4/4 [00:19<00:00,  4.81s/it]"
     ]
    },
    {
     "name": "stdout",
     "output_type": "stream",
     "text": [
      "0.15191073343157768\n"
     ]
    },
    {
     "name": "stderr",
     "output_type": "stream",
     "text": [
      "\n",
      "100%|██████████| 4/4 [00:19<00:00,  4.90s/it]"
     ]
    },
    {
     "name": "stdout",
     "output_type": "stream",
     "text": [
      "0.15397119894623756\n"
     ]
    },
    {
     "name": "stderr",
     "output_type": "stream",
     "text": [
      "\n",
      "100%|██████████| 4/4 [00:20<00:00,  5.06s/it]"
     ]
    },
    {
     "name": "stdout",
     "output_type": "stream",
     "text": [
      "0.146436408162117\n"
     ]
    },
    {
     "name": "stderr",
     "output_type": "stream",
     "text": [
      "\n",
      "100%|██████████| 4/4 [00:21<00:00,  5.31s/it]"
     ]
    },
    {
     "name": "stdout",
     "output_type": "stream",
     "text": [
      "0.1493171490728855\n"
     ]
    },
    {
     "name": "stderr",
     "output_type": "stream",
     "text": [
      "\n",
      "100%|██████████| 4/4 [00:21<00:00,  5.41s/it]"
     ]
    },
    {
     "name": "stdout",
     "output_type": "stream",
     "text": [
      "0.14324379712343216\n"
     ]
    },
    {
     "name": "stderr",
     "output_type": "stream",
     "text": [
      "\n",
      "100%|██████████| 4/4 [00:21<00:00,  5.45s/it]"
     ]
    },
    {
     "name": "stdout",
     "output_type": "stream",
     "text": [
      "0.1454581655561924\n"
     ]
    },
    {
     "name": "stderr",
     "output_type": "stream",
     "text": [
      "\n",
      "100%|██████████| 4/4 [00:21<00:00,  5.41s/it]"
     ]
    },
    {
     "name": "stdout",
     "output_type": "stream",
     "text": [
      "0.1522667296230793\n"
     ]
    },
    {
     "name": "stderr",
     "output_type": "stream",
     "text": [
      "\n",
      "100%|██████████| 4/4 [00:22<00:00,  5.51s/it]"
     ]
    },
    {
     "name": "stdout",
     "output_type": "stream",
     "text": [
      "0.14166563004255295\n"
     ]
    },
    {
     "name": "stderr",
     "output_type": "stream",
     "text": [
      "\n",
      "100%|██████████| 4/4 [00:22<00:00,  5.60s/it]"
     ]
    },
    {
     "name": "stdout",
     "output_type": "stream",
     "text": [
      "0.14406223595142365\n"
     ]
    },
    {
     "name": "stderr",
     "output_type": "stream",
     "text": [
      "\n",
      "100%|██████████| 4/4 [00:23<00:00,  5.86s/it]"
     ]
    },
    {
     "name": "stdout",
     "output_type": "stream",
     "text": [
      "0.15119578689336777\n"
     ]
    },
    {
     "name": "stderr",
     "output_type": "stream",
     "text": [
      "\n",
      "100%|██████████| 4/4 [00:22<00:00,  5.62s/it]"
     ]
    },
    {
     "name": "stdout",
     "output_type": "stream",
     "text": [
      "0.1370375044643879\n"
     ]
    },
    {
     "name": "stderr",
     "output_type": "stream",
     "text": [
      "\n",
      "100%|██████████| 4/4 [00:23<00:00,  5.77s/it]"
     ]
    },
    {
     "name": "stdout",
     "output_type": "stream",
     "text": [
      "0.13734178617596626\n"
     ]
    },
    {
     "name": "stderr",
     "output_type": "stream",
     "text": [
      "\n",
      "100%|██████████| 4/4 [00:23<00:00,  5.79s/it]"
     ]
    },
    {
     "name": "stdout",
     "output_type": "stream",
     "text": [
      "0.13573790341615677\n"
     ]
    },
    {
     "name": "stderr",
     "output_type": "stream",
     "text": [
      "\n",
      "100%|██████████| 4/4 [00:23<00:00,  5.79s/it]"
     ]
    },
    {
     "name": "stdout",
     "output_type": "stream",
     "text": [
      "0.13303061202168465\n"
     ]
    },
    {
     "name": "stderr",
     "output_type": "stream",
     "text": [
      "\n",
      "100%|██████████| 4/4 [00:23<00:00,  5.93s/it]"
     ]
    },
    {
     "name": "stdout",
     "output_type": "stream",
     "text": [
      "0.13029734045267105\n"
     ]
    },
    {
     "name": "stderr",
     "output_type": "stream",
     "text": [
      "\n",
      "100%|██████████| 4/4 [00:23<00:00,  5.86s/it]"
     ]
    },
    {
     "name": "stdout",
     "output_type": "stream",
     "text": [
      "0.1359279304742813\n"
     ]
    },
    {
     "name": "stderr",
     "output_type": "stream",
     "text": [
      "\n",
      "100%|██████████| 4/4 [00:23<00:00,  5.97s/it]"
     ]
    },
    {
     "name": "stdout",
     "output_type": "stream",
     "text": [
      "0.13125287555158138\n"
     ]
    },
    {
     "name": "stderr",
     "output_type": "stream",
     "text": [
      "\n",
      "100%|██████████| 4/4 [00:23<00:00,  5.88s/it]"
     ]
    },
    {
     "name": "stdout",
     "output_type": "stream",
     "text": [
      "0.13575487583875656\n"
     ]
    },
    {
     "name": "stderr",
     "output_type": "stream",
     "text": [
      "\n",
      "100%|██████████| 4/4 [00:23<00:00,  5.93s/it]"
     ]
    },
    {
     "name": "stdout",
     "output_type": "stream",
     "text": [
      "0.13759123161435127\n"
     ]
    },
    {
     "name": "stderr",
     "output_type": "stream",
     "text": [
      "\n",
      "100%|██████████| 4/4 [00:23<00:00,  5.89s/it]"
     ]
    },
    {
     "name": "stdout",
     "output_type": "stream",
     "text": [
      "0.13727178797125816\n"
     ]
    },
    {
     "name": "stderr",
     "output_type": "stream",
     "text": [
      "\n",
      "100%|██████████| 4/4 [00:23<00:00,  5.80s/it]"
     ]
    },
    {
     "name": "stdout",
     "output_type": "stream",
     "text": [
      "0.13630709052085876\n"
     ]
    },
    {
     "name": "stderr",
     "output_type": "stream",
     "text": [
      "\n",
      "100%|██████████| 4/4 [00:23<00:00,  5.84s/it]"
     ]
    },
    {
     "name": "stdout",
     "output_type": "stream",
     "text": [
      "0.13651347905397415\n"
     ]
    },
    {
     "name": "stderr",
     "output_type": "stream",
     "text": [
      "\n",
      "100%|██████████| 4/4 [00:24<00:00,  6.16s/it]"
     ]
    },
    {
     "name": "stdout",
     "output_type": "stream",
     "text": [
      "0.1275041587650776\n"
     ]
    },
    {
     "name": "stderr",
     "output_type": "stream",
     "text": [
      "\n",
      "100%|██████████| 4/4 [00:24<00:00,  6.21s/it]"
     ]
    },
    {
     "name": "stdout",
     "output_type": "stream",
     "text": [
      "0.12210654281079769\n"
     ]
    },
    {
     "name": "stderr",
     "output_type": "stream",
     "text": [
      "\n",
      "100%|██████████| 4/4 [00:25<00:00,  6.29s/it]"
     ]
    },
    {
     "name": "stdout",
     "output_type": "stream",
     "text": [
      "0.12172857858240604\n"
     ]
    },
    {
     "name": "stderr",
     "output_type": "stream",
     "text": [
      "\n",
      "100%|██████████| 4/4 [00:23<00:00,  5.99s/it]"
     ]
    },
    {
     "name": "stdout",
     "output_type": "stream",
     "text": [
      "0.1264957506209612\n"
     ]
    },
    {
     "name": "stderr",
     "output_type": "stream",
     "text": [
      "\n",
      "100%|██████████| 4/4 [00:24<00:00,  6.18s/it]"
     ]
    },
    {
     "name": "stdout",
     "output_type": "stream",
     "text": [
      "0.11876292154192924\n"
     ]
    },
    {
     "name": "stderr",
     "output_type": "stream",
     "text": [
      "\n",
      "100%|██████████| 4/4 [00:24<00:00,  6.06s/it]"
     ]
    },
    {
     "name": "stdout",
     "output_type": "stream",
     "text": [
      "0.12079351022839546\n"
     ]
    },
    {
     "name": "stderr",
     "output_type": "stream",
     "text": [
      "\n",
      "100%|██████████| 4/4 [00:24<00:00,  6.03s/it]"
     ]
    },
    {
     "name": "stdout",
     "output_type": "stream",
     "text": [
      "0.12639504298567772\n"
     ]
    },
    {
     "name": "stderr",
     "output_type": "stream",
     "text": [
      "\n",
      "100%|██████████| 4/4 [00:23<00:00,  5.83s/it]"
     ]
    },
    {
     "name": "stdout",
     "output_type": "stream",
     "text": [
      "0.1260269656777382\n"
     ]
    },
    {
     "name": "stderr",
     "output_type": "stream",
     "text": [
      "\n",
      "100%|██████████| 4/4 [00:23<00:00,  5.92s/it]"
     ]
    },
    {
     "name": "stdout",
     "output_type": "stream",
     "text": [
      "0.12465784139931202\n"
     ]
    },
    {
     "name": "stderr",
     "output_type": "stream",
     "text": [
      "\n",
      "100%|██████████| 4/4 [00:23<00:00,  5.85s/it]"
     ]
    },
    {
     "name": "stdout",
     "output_type": "stream",
     "text": [
      "0.11948569305241108\n"
     ]
    },
    {
     "name": "stderr",
     "output_type": "stream",
     "text": [
      "\n",
      "100%|██████████| 4/4 [00:24<00:00,  6.18s/it]"
     ]
    },
    {
     "name": "stdout",
     "output_type": "stream",
     "text": [
      "0.11620031297206879\n"
     ]
    },
    {
     "name": "stderr",
     "output_type": "stream",
     "text": [
      "\n",
      "100%|██████████| 4/4 [00:24<00:00,  6.07s/it]"
     ]
    },
    {
     "name": "stdout",
     "output_type": "stream",
     "text": [
      "0.1180279441177845\n"
     ]
    },
    {
     "name": "stderr",
     "output_type": "stream",
     "text": [
      "\n",
      "100%|██████████| 4/4 [00:24<00:00,  6.15s/it]"
     ]
    },
    {
     "name": "stdout",
     "output_type": "stream",
     "text": [
      "0.11100633814930916\n"
     ]
    },
    {
     "name": "stderr",
     "output_type": "stream",
     "text": [
      "\n",
      "100%|██████████| 4/4 [00:24<00:00,  6.13s/it]"
     ]
    },
    {
     "name": "stdout",
     "output_type": "stream",
     "text": [
      "0.11333122290670872\n"
     ]
    },
    {
     "name": "stderr",
     "output_type": "stream",
     "text": [
      "\n",
      "100%|██████████| 4/4 [00:23<00:00,  5.94s/it]"
     ]
    },
    {
     "name": "stdout",
     "output_type": "stream",
     "text": [
      "0.11685311421751976\n"
     ]
    },
    {
     "name": "stderr",
     "output_type": "stream",
     "text": [
      "\n",
      "100%|██████████| 4/4 [00:23<00:00,  5.98s/it]"
     ]
    },
    {
     "name": "stdout",
     "output_type": "stream",
     "text": [
      "0.12063125148415565\n"
     ]
    },
    {
     "name": "stderr",
     "output_type": "stream",
     "text": [
      "\n",
      "100%|██████████| 4/4 [00:25<00:00,  6.30s/it]"
     ]
    },
    {
     "name": "stdout",
     "output_type": "stream",
     "text": [
      "0.12267944775521755\n"
     ]
    },
    {
     "name": "stderr",
     "output_type": "stream",
     "text": [
      "\n",
      "100%|██████████| 4/4 [00:24<00:00,  6.21s/it]"
     ]
    },
    {
     "name": "stdout",
     "output_type": "stream",
     "text": [
      "0.11258602514863014\n"
     ]
    },
    {
     "name": "stderr",
     "output_type": "stream",
     "text": [
      "\n",
      "100%|██████████| 4/4 [00:23<00:00,  5.98s/it]"
     ]
    },
    {
     "name": "stdout",
     "output_type": "stream",
     "text": [
      "0.12116366252303123\n"
     ]
    },
    {
     "name": "stderr",
     "output_type": "stream",
     "text": [
      "\n",
      "100%|██████████| 4/4 [00:25<00:00,  6.35s/it]"
     ]
    },
    {
     "name": "stdout",
     "output_type": "stream",
     "text": [
      "0.11824658326804638\n"
     ]
    },
    {
     "name": "stderr",
     "output_type": "stream",
     "text": [
      "\n",
      "100%|██████████| 4/4 [00:24<00:00,  6.20s/it]"
     ]
    },
    {
     "name": "stdout",
     "output_type": "stream",
     "text": [
      "0.10972729697823524\n"
     ]
    },
    {
     "name": "stderr",
     "output_type": "stream",
     "text": [
      "\n",
      "100%|██████████| 4/4 [00:25<00:00,  6.28s/it]"
     ]
    },
    {
     "name": "stdout",
     "output_type": "stream",
     "text": [
      "0.11047529801726341\n"
     ]
    },
    {
     "name": "stderr",
     "output_type": "stream",
     "text": [
      "\n",
      "100%|██████████| 4/4 [00:25<00:00,  6.26s/it]"
     ]
    },
    {
     "name": "stdout",
     "output_type": "stream",
     "text": [
      "0.11522977985441685\n"
     ]
    },
    {
     "name": "stderr",
     "output_type": "stream",
     "text": [
      "\n",
      "100%|██████████| 4/4 [00:24<00:00,  6.01s/it]"
     ]
    },
    {
     "name": "stdout",
     "output_type": "stream",
     "text": [
      "0.11098717711865902\n"
     ]
    },
    {
     "name": "stderr",
     "output_type": "stream",
     "text": [
      "\n",
      "100%|██████████| 4/4 [00:24<00:00,  6.12s/it]"
     ]
    },
    {
     "name": "stdout",
     "output_type": "stream",
     "text": [
      "0.10229074023663998\n"
     ]
    },
    {
     "name": "stderr",
     "output_type": "stream",
     "text": [
      "\n",
      "100%|██████████| 4/4 [00:24<00:00,  6.17s/it]"
     ]
    },
    {
     "name": "stdout",
     "output_type": "stream",
     "text": [
      "0.11383495852351189\n"
     ]
    },
    {
     "name": "stderr",
     "output_type": "stream",
     "text": [
      "\n",
      "100%|██████████| 4/4 [00:25<00:00,  6.42s/it]"
     ]
    },
    {
     "name": "stdout",
     "output_type": "stream",
     "text": [
      "0.10782472603023052\n"
     ]
    },
    {
     "name": "stderr",
     "output_type": "stream",
     "text": [
      "\n",
      "100%|██████████| 4/4 [00:24<00:00,  6.06s/it]"
     ]
    },
    {
     "name": "stdout",
     "output_type": "stream",
     "text": [
      "0.10772048868238926\n"
     ]
    },
    {
     "name": "stderr",
     "output_type": "stream",
     "text": [
      "\n",
      "100%|██████████| 4/4 [00:24<00:00,  6.12s/it]"
     ]
    },
    {
     "name": "stdout",
     "output_type": "stream",
     "text": [
      "0.11813926510512829\n"
     ]
    },
    {
     "name": "stderr",
     "output_type": "stream",
     "text": [
      "\n",
      "100%|██████████| 4/4 [00:25<00:00,  6.27s/it]"
     ]
    },
    {
     "name": "stdout",
     "output_type": "stream",
     "text": [
      "0.10966410674154758\n"
     ]
    },
    {
     "name": "stderr",
     "output_type": "stream",
     "text": [
      "\n",
      "100%|██████████| 4/4 [00:26<00:00,  6.74s/it]"
     ]
    },
    {
     "name": "stdout",
     "output_type": "stream",
     "text": [
      "0.10950251668691635\n"
     ]
    },
    {
     "name": "stderr",
     "output_type": "stream",
     "text": [
      "\n",
      "100%|██████████| 4/4 [00:26<00:00,  6.71s/it]"
     ]
    },
    {
     "name": "stdout",
     "output_type": "stream",
     "text": [
      "0.11362646892666817\n"
     ]
    },
    {
     "name": "stderr",
     "output_type": "stream",
     "text": [
      "\n",
      "100%|██████████| 4/4 [00:27<00:00,  6.86s/it]"
     ]
    },
    {
     "name": "stdout",
     "output_type": "stream",
     "text": [
      "0.10860522277653217\n"
     ]
    },
    {
     "name": "stderr",
     "output_type": "stream",
     "text": [
      "\n",
      "100%|██████████| 4/4 [00:25<00:00,  6.45s/it]"
     ]
    },
    {
     "name": "stdout",
     "output_type": "stream",
     "text": [
      "0.10777377709746361\n"
     ]
    },
    {
     "name": "stderr",
     "output_type": "stream",
     "text": [
      "\n",
      "100%|██████████| 4/4 [00:26<00:00,  6.53s/it]"
     ]
    },
    {
     "name": "stdout",
     "output_type": "stream",
     "text": [
      "0.09462765045464039\n"
     ]
    },
    {
     "name": "stderr",
     "output_type": "stream",
     "text": [
      "\n",
      "100%|██████████| 4/4 [00:24<00:00,  6.02s/it]"
     ]
    },
    {
     "name": "stdout",
     "output_type": "stream",
     "text": [
      "0.09930544160306454\n"
     ]
    },
    {
     "name": "stderr",
     "output_type": "stream",
     "text": [
      "\n",
      "100%|██████████| 4/4 [00:24<00:00,  6.23s/it]"
     ]
    },
    {
     "name": "stdout",
     "output_type": "stream",
     "text": [
      "0.09691095165908337\n"
     ]
    },
    {
     "name": "stderr",
     "output_type": "stream",
     "text": [
      "\n",
      "100%|██████████| 4/4 [00:24<00:00,  6.13s/it]"
     ]
    },
    {
     "name": "stdout",
     "output_type": "stream",
     "text": [
      "0.10110968723893166\n"
     ]
    },
    {
     "name": "stderr",
     "output_type": "stream",
     "text": [
      "\n",
      "100%|██████████| 4/4 [00:24<00:00,  6.00s/it]"
     ]
    },
    {
     "name": "stdout",
     "output_type": "stream",
     "text": [
      "0.10571355931460857\n"
     ]
    },
    {
     "name": "stderr",
     "output_type": "stream",
     "text": [
      "\n",
      "100%|██████████| 4/4 [00:23<00:00,  5.97s/it]"
     ]
    },
    {
     "name": "stdout",
     "output_type": "stream",
     "text": [
      "0.10702589340507984\n"
     ]
    },
    {
     "name": "stderr",
     "output_type": "stream",
     "text": [
      "\n",
      "100%|██████████| 4/4 [00:24<00:00,  6.00s/it]"
     ]
    },
    {
     "name": "stdout",
     "output_type": "stream",
     "text": [
      "0.10417257621884346\n"
     ]
    },
    {
     "name": "stderr",
     "output_type": "stream",
     "text": [
      "\n",
      "100%|██████████| 4/4 [00:25<00:00,  6.40s/it]"
     ]
    },
    {
     "name": "stdout",
     "output_type": "stream",
     "text": [
      "0.0976682286709547\n"
     ]
    },
    {
     "name": "stderr",
     "output_type": "stream",
     "text": [
      "\n",
      "100%|██████████| 4/4 [00:25<00:00,  6.35s/it]"
     ]
    },
    {
     "name": "stdout",
     "output_type": "stream",
     "text": [
      "0.09859144873917103\n"
     ]
    },
    {
     "name": "stderr",
     "output_type": "stream",
     "text": [
      "\n",
      "100%|██████████| 4/4 [00:25<00:00,  6.37s/it]"
     ]
    },
    {
     "name": "stdout",
     "output_type": "stream",
     "text": [
      "0.09683774225413799\n"
     ]
    },
    {
     "name": "stderr",
     "output_type": "stream",
     "text": [
      "\n",
      "100%|██████████| 4/4 [00:24<00:00,  6.23s/it]"
     ]
    },
    {
     "name": "stdout",
     "output_type": "stream",
     "text": [
      "0.09475506655871868\n"
     ]
    },
    {
     "name": "stderr",
     "output_type": "stream",
     "text": [
      "\n",
      "100%|██████████| 4/4 [00:25<00:00,  6.30s/it]"
     ]
    },
    {
     "name": "stdout",
     "output_type": "stream",
     "text": [
      "0.0955550279468298\n"
     ]
    },
    {
     "name": "stderr",
     "output_type": "stream",
     "text": [
      "\n",
      "100%|██████████| 4/4 [00:25<00:00,  6.40s/it]"
     ]
    },
    {
     "name": "stdout",
     "output_type": "stream",
     "text": [
      "0.09043684601783752\n"
     ]
    },
    {
     "name": "stderr",
     "output_type": "stream",
     "text": [
      "\n",
      "100%|██████████| 4/4 [00:25<00:00,  6.36s/it]"
     ]
    },
    {
     "name": "stdout",
     "output_type": "stream",
     "text": [
      "0.093032943084836\n"
     ]
    },
    {
     "name": "stderr",
     "output_type": "stream",
     "text": [
      "\n"
     ]
    }
   ],
   "source": [
    "model.train()\n",
    "epochs=100\n",
    "losses = []\n",
    "for i in range(epochs):\n",
    "    epoch_loss = []\n",
    "    progress_bar = tqdm(enumerate(loader), total=len(loader))\n",
    "    for batch_num, batch in progress_bar:\n",
    "        optimizer.zero_grad()\n",
    "        output, all_inputs, attention_components = model(batch['inputs'])\n",
    "#         loss= q_loss_func(output[:,:,:].view(-1,1), batch['outputs'][:,:,0].flatten().float().to(device))\n",
    "        loss = q_loss_func(output.squeeze(2), batch['outputs'][:,:,0].float().to(device))\n",
    "        loss.backward()\n",
    "        torch.nn.utils.clip_grad_norm_(model.parameters(), fixed_params['max_gradient_norm'])\n",
    "        optimizer.step()\n",
    "        epoch_loss.append(loss.item())\n",
    "    \n",
    "    losses.append(np.mean(epoch_loss))\n",
    "    if loss.item() <= min(losses):\n",
    "        torch.save(model.state_dict(), 'electricity_best_model_smape_loss.pth')\n",
    "        \n",
    "    print(np.mean(epoch_loss))\n",
    "    "
   ]
  },
  {
   "cell_type": "code",
   "execution_count": null,
   "metadata": {},
   "outputs": [],
   "source": []
  },
  {
   "cell_type": "code",
   "execution_count": 28,
   "metadata": {},
   "outputs": [
    {
     "name": "stdout",
     "output_type": "stream",
     "text": [
      "19\n"
     ]
    },
    {
     "data": {
      "text/plain": [
       "<matplotlib.legend.Legend at 0x7faedce26ad0>"
      ]
     },
     "execution_count": 28,
     "metadata": {},
     "output_type": "execute_result"
    },
    {
     "data": {
      "image/png": "[encoded data removed]",
      "text/plain": [
       "<Figure size 432x288 with 1 Axes>"
      ]
     },
     "metadata": {
      "needs_background": "light"
     },
     "output_type": "display_data"
    }
   ],
   "source": [
    "import matplotlib.pyplot as plt\n",
    "import numpy as np\n",
    "\n",
    "ind = np.random.choice(64)\n",
    "print(ind)\n",
    "plt.plot(output[ind,:,0].detach().cpu().numpy(), label='pred_1')\n",
    "# plt.plot(output[ind,:,1].detach().cpu().numpy(), label='pred_5')\n",
    "# plt.plot(output[ind,:,2].detach().cpu().numpy(), label='pred_9')\n",
    "\n",
    "plt.plot(batch['outputs'][ind,:,0], label='true')\n",
    "plt.legend()"
   ]
  },
  {
   "cell_type": "code",
   "execution_count": 20,
   "metadata": {},
   "outputs": [],
   "source": [
    "def symmetric_mean_absolute_percentage_error(forecast, actual):\n",
    "    # Symmetric Mean Absolute Percentage Error (SMAPE)\n",
    "    sequence_length = forecast.shape[1]\n",
    "    sumf = np.sum(np.abs(forecast - actual) / (np.abs(actual) + np.abs(forecast)), axis=1)\n",
    "    return np.mean((2 * sumf) / sequence_length)"
   ]
  },
  {
   "cell_type": "code",
   "execution_count": 21,
   "metadata": {},
   "outputs": [
    {
     "data": {
      "text/plain": [
       "0.60055388659385"
      ]
     },
     "execution_count": 21,
     "metadata": {},
     "output_type": "execute_result"
    }
   ],
   "source": [
    "symmetric_mean_absolute_percentage_error(output[:,:,0].detach().cpu().numpy(),\n",
    "                                        batch['outputs'][:,:,0].detach().cpu().numpy())\n",
    "\n"
   ]
  },
  {
   "cell_type": "code",
   "execution_count": null,
   "metadata": {},
   "outputs": [],
   "source": []
  }
 ],
 "metadata": {
  "kernelspec": {
   "display_name": "Python 3",
   "language": "python",
   "name": "python3"
  },
  "language_info": {
   "codemirror_mode": {
    "name": "ipython",
    "version": 3
   },
   "file_extension": ".py",
   "mimetype": "text/x-python",
   "name": "python",
   "nbconvert_exporter": "python",
   "pygments_lexer": "ipython3",
   "version": "3.7.4"
  }
 },
 "nbformat": 4,
 "nbformat_minor": 4
}
