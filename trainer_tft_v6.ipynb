{
 "cells": [
  {
   "cell_type": "code",
   "execution_count": 1,
   "metadata": {},
   "outputs": [],
   "source": [
    "import pandas as pd\n",
    "from torch.utils.data import DataLoader,Dataset, Subset\n",
    "import numpy as np\n",
    "import tft_model\n",
    "from data_formatters import ts_dataset  \n",
    "import data_formatters.base\n",
    "import expt_settings\n",
    "import expt_settings.configs\n",
    "import importlib\n",
    "import data_formatters\n",
    "from data_formatters import utils\n",
    "import torch.optim as optim\n",
    "import torch\n",
    "from tqdm import tqdm\n",
    "import pickle\n",
    "import time"
   ]
  },
  {
   "cell_type": "code",
   "execution_count": 2,
   "metadata": {},
   "outputs": [],
   "source": [
    "pd.set_option('max_columns', 1000)"
   ]
  },
  {
   "cell_type": "code",
   "execution_count": 3,
   "metadata": {},
   "outputs": [
    {
     "data": {
      "text/plain": [
       "<module 'data_formatters.utils' from '/Users/liuxufeng/github/tft/Temporal_Fusion_Transform/data_formatters/utils.py'>"
      ]
     },
     "execution_count": 3,
     "metadata": {},
     "output_type": "execute_result"
    }
   ],
   "source": [
    "importlib.reload(utils)"
   ]
  },
  {
   "cell_type": "code",
   "execution_count": 4,
   "metadata": {},
   "outputs": [
    {
     "data": {
      "text/plain": [
       "<module 'data_formatters' from '/Users/liuxufeng/github/tft/Temporal_Fusion_Transform/data_formatters/__init__.py'>"
      ]
     },
     "execution_count": 4,
     "metadata": {},
     "output_type": "execute_result"
    }
   ],
   "source": [
    "importlib.reload(expt_settings)\n",
    "importlib.reload(data_formatters)"
   ]
  },
  {
   "cell_type": "code",
   "execution_count": 5,
   "metadata": {
    "scrolled": true
   },
   "outputs": [
    {
     "name": "stdout",
     "output_type": "stream",
     "text": [
      "*** Training from defined parameters for m4 ***\n",
      "Loading & splitting data...\n",
      "(100000, 43)\n",
      "Formatting train-valid-test splits.\n",
      "Setting scalers with training data...\n",
      "train:(94000, 43), valid:(48000, 43), test:(48000, 43)\n",
      "read_inputs: ['biz_sale_qty', 'traffic_index', 'day_of_week', 'day_temperature', 'qpf', 'promos_discount', 'sell_price']\n",
      "categorical_inputs: ['city_id', 'poi_id', 'base_sku_id', 'category1_id', 'category2_id', 'category3_id', 'category4_id', 'is_weekend', 'is_holiday', 'icon_day_type', 'day_icon_id', 'is_seckill']\n",
      "read_inputs: ['biz_sale_qty', 'traffic_index', 'day_of_week', 'day_temperature', 'qpf', 'promos_discount', 'sell_price']\n",
      "categorical_inputs: ['city_id', 'poi_id', 'base_sku_id', 'category1_id', 'category2_id', 'category3_id', 'category4_id', 'is_weekend', 'is_holiday', 'icon_day_type', 'day_icon_id', 'is_seckill']\n",
      "read_inputs: ['biz_sale_qty', 'traffic_index', 'day_of_week', 'day_temperature', 'qpf', 'promos_discount', 'sell_price']\n",
      "categorical_inputs: ['city_id', 'poi_id', 'base_sku_id', 'category1_id', 'category2_id', 'category3_id', 'category4_id', 'is_weekend', 'is_holiday', 'icon_day_type', 'day_icon_id', 'is_seckill']\n",
      "23.00594425201416\n"
     ]
    }
   ],
   "source": [
    "ExperimentConfig = expt_settings.configs.ExperimentConfig\n",
    "\n",
    "config = ExperimentConfig('tft_v6', 'outputs')\n",
    "\n",
    "data_formatter = config.make_data_formatter()\n",
    "\n",
    "\n",
    "print(\"*** Training from defined parameters for {} ***\".format('m4'))\n",
    "data_csv_path = \"./tft_v6/step2_v6_20210301_20210419_sub.csv\"\n",
    "#data_csv_path = '/Users/ardakeskiner/Desktop/TUM/Courses/ws19_20/tft/tft_outputs/data/electricity/hourly_electricity.csv'\n",
    "print(\"Loading & splitting data...\")\n",
    "raw_data = pd.read_csv(data_csv_path, index_col=0)\n",
    "print(raw_data.shape)\n",
    "start = time.time()\n",
    "# ..., ..., 47, \n",
    "train, valid, test = data_formatter.split_data(raw_data, valid_boundary=44, test_boundary=47, his_days=21, pred_days=3)\n",
    "#train_samples, valid_samples = data_formatter.get_num_samples_for_calibration()\n",
    "\n",
    "print(time.time()-start)\n"
   ]
  },
  {
   "cell_type": "code",
   "execution_count": 6,
   "metadata": {},
   "outputs": [],
   "source": [
    "#test_merge[\"base_sku_id_verse\"] = data_formatter._cat_scalers[\"base_sku_id\"].inverse_transform(test_merge[\"base_sku_id_y\"])\n"
   ]
  },
  {
   "cell_type": "code",
   "execution_count": 7,
   "metadata": {},
   "outputs": [],
   "source": [
    "#test_merge[\"poi_id_verse\"] = data_formatter._cat_scalers[\"poi_id\"].inverse_transform(test_merge[\"poi_id_y\"])\n"
   ]
  },
  {
   "cell_type": "code",
   "execution_count": 8,
   "metadata": {},
   "outputs": [],
   "source": [
    "#test_merge[[\"poi_id_x\", \"base_sku_id_x\", \"poi_sku_id\", \"poi_id_y\", \"base_sku_id_y\", \"poi_id_verse\", \"base_sku_id_verse\"]]"
   ]
  },
  {
   "cell_type": "code",
   "execution_count": 9,
   "metadata": {},
   "outputs": [],
   "source": [
    "for idx, sg in raw_data.groupby(\"poi_sku_id\"):\n",
    "    s = sg.shape[0]\n",
    "    time_idx_min, time_idx_max = sg[\"time_idx\"].min(), sg[\"time_idx\"].max()\n",
    "    if s != 50:\n",
    "        print(idx, s, time_idx_min, time_idx_max)"
   ]
  },
  {
   "cell_type": "code",
   "execution_count": 10,
   "metadata": {},
   "outputs": [],
   "source": [
    "# Sets up default params\n",
    "fixed_params = data_formatter.get_experiment_params()\n",
    "params = data_formatter.get_default_model_params()\n",
    "\n",
    "fixed_params.update(params)\n",
    "fixed_params['batch_first'] = True\n",
    "fixed_params['name'] = 'test'\n",
    "fixed_params['device'] = 'cpu' # torch.device('cuda' if torch.cuda.is_available() else 'cpu')\n",
    "# fixed_params['minibatch_size'] = 64\n",
    "# fixed_params['category_count'] = [6]\n",
    "device = fixed_params['device']\n",
    "fixed_params['quantiles'] = [0.5]\n",
    "\n",
    "# with open('data_formatter_m4.pkl', 'wb') as output:  # Overwrites any existing file.\n",
    "#     pickle.dump(data_formatter, output, pickle.HIGHEST_PROTOCOL)"
   ]
  },
  {
   "cell_type": "code",
   "execution_count": 11,
   "metadata": {
    "scrolled": false
   },
   "outputs": [
    {
     "data": {
      "text/plain": [
       "{'total_time_steps': 24,\n",
       " 'num_encoder_steps': 21,\n",
       " 'num_epochs': 100,\n",
       " 'early_stopping_patience': 5,\n",
       " 'multiprocessing_workers': 5,\n",
       " 'column_definition': [('poi_sku_id',\n",
       "   <DataTypes.CATEGORICAL: 1>,\n",
       "   <InputTypes.ID: 4>),\n",
       "  ('time_idx', <DataTypes.REAL_VALUED: 0>, <InputTypes.TIME: 5>),\n",
       "  ('biz_sale_qty', <DataTypes.REAL_VALUED: 0>, <InputTypes.TARGET: 0>),\n",
       "  ('traffic_index', <DataTypes.REAL_VALUED: 0>, <InputTypes.KNOWN_INPUT: 2>),\n",
       "  ('day_of_week', <DataTypes.REAL_VALUED: 0>, <InputTypes.KNOWN_INPUT: 2>),\n",
       "  ('day_temperature', <DataTypes.REAL_VALUED: 0>, <InputTypes.KNOWN_INPUT: 2>),\n",
       "  ('qpf', <DataTypes.REAL_VALUED: 0>, <InputTypes.KNOWN_INPUT: 2>),\n",
       "  ('promos_discount', <DataTypes.REAL_VALUED: 0>, <InputTypes.KNOWN_INPUT: 2>),\n",
       "  ('sell_price', <DataTypes.REAL_VALUED: 0>, <InputTypes.KNOWN_INPUT: 2>),\n",
       "  ('city_id', <DataTypes.CATEGORICAL: 1>, <InputTypes.STATIC_INPUT: 3>),\n",
       "  ('poi_id', <DataTypes.CATEGORICAL: 1>, <InputTypes.STATIC_INPUT: 3>),\n",
       "  ('base_sku_id', <DataTypes.CATEGORICAL: 1>, <InputTypes.STATIC_INPUT: 3>),\n",
       "  ('category1_id', <DataTypes.CATEGORICAL: 1>, <InputTypes.STATIC_INPUT: 3>),\n",
       "  ('category2_id', <DataTypes.CATEGORICAL: 1>, <InputTypes.STATIC_INPUT: 3>),\n",
       "  ('category3_id', <DataTypes.CATEGORICAL: 1>, <InputTypes.STATIC_INPUT: 3>),\n",
       "  ('category4_id', <DataTypes.CATEGORICAL: 1>, <InputTypes.STATIC_INPUT: 3>),\n",
       "  ('is_weekend', <DataTypes.CATEGORICAL: 1>, <InputTypes.KNOWN_INPUT: 2>),\n",
       "  ('is_holiday', <DataTypes.CATEGORICAL: 1>, <InputTypes.KNOWN_INPUT: 2>),\n",
       "  ('icon_day_type', <DataTypes.CATEGORICAL: 1>, <InputTypes.KNOWN_INPUT: 2>),\n",
       "  ('day_icon_id', <DataTypes.CATEGORICAL: 1>, <InputTypes.KNOWN_INPUT: 2>),\n",
       "  ('is_seckill', <DataTypes.CATEGORICAL: 1>, <InputTypes.KNOWN_INPUT: 2>)],\n",
       " 'input_size': 19,\n",
       " 'output_size': 1,\n",
       " 'category_counts': [5, 321, 799, 4, 13, 58, 193, 2, 2, 4, 16, 1],\n",
       " 'input_obs_loc': [0],\n",
       " 'static_input_loc': [7, 8, 9, 10, 11, 12, 13],\n",
       " 'known_regular_inputs': [1, 2, 3, 4, 5, 6],\n",
       " 'known_categorical_inputs': [0, 1, 2, 3, 4, 5, 6, 7, 8, 9, 10, 11],\n",
       " 'inputs_encoder': ['biz_sale_qty',\n",
       "  'traffic_index',\n",
       "  'day_of_week',\n",
       "  'day_temperature',\n",
       "  'qpf',\n",
       "  'promos_discount',\n",
       "  'sell_price',\n",
       "  'city_id',\n",
       "  'poi_id',\n",
       "  'base_sku_id',\n",
       "  'category1_id',\n",
       "  'category2_id',\n",
       "  'category3_id',\n",
       "  'category4_id',\n",
       "  'is_weekend',\n",
       "  'is_holiday',\n",
       "  'icon_day_type',\n",
       "  'day_icon_id',\n",
       "  'is_seckill'],\n",
       " 'inputs_decoder': ['traffic_index',\n",
       "  'day_of_week',\n",
       "  'day_temperature',\n",
       "  'qpf',\n",
       "  'promos_discount',\n",
       "  'sell_price',\n",
       "  'city_id',\n",
       "  'poi_id',\n",
       "  'base_sku_id',\n",
       "  'category1_id',\n",
       "  'category2_id',\n",
       "  'category3_id',\n",
       "  'category4_id',\n",
       "  'is_weekend',\n",
       "  'is_holiday',\n",
       "  'icon_day_type',\n",
       "  'day_icon_id',\n",
       "  'is_seckill'],\n",
       " 'dropout_rate': 0.1,\n",
       " 'hidden_layer_size': 160,\n",
       " 'learning_rate': 0.001,\n",
       " 'minibatch_size': 64,\n",
       " 'max_gradient_norm': 0.01,\n",
       " 'num_heads': 4,\n",
       " 'stack_size': 1,\n",
       " 'batch_first': True,\n",
       " 'name': 'test',\n",
       " 'device': 'cpu',\n",
       " 'quantiles': [0.5]}"
      ]
     },
     "execution_count": 11,
     "metadata": {},
     "output_type": "execute_result"
    }
   ],
   "source": [
    "fixed_params"
   ]
  },
  {
   "cell_type": "code",
   "execution_count": 12,
   "metadata": {},
   "outputs": [
    {
     "name": "stdout",
     "output_type": "stream",
     "text": [
      "Getting valid sampling locations.\n",
      "# available segments=48000\n",
      "Extracting 128 samples...\n",
      "total time used: 0.21757173538208008\n"
     ]
    }
   ],
   "source": [
    "max_samples = 128  # * 200 * 2\n",
    "\n",
    "elect = ts_dataset.TSDataset(fixed_params, max_samples, train)\n",
    "\n",
    "# with open('ts_dataset_m4.pkl', 'wb') as output:  # Overwrites any existing file.\n",
    "#     pickle.dump(elect, output, pickle.HIGHEST_PROTOCOL)\n",
    "\n",
    "# with open('ts_dataset_m4.pkl', 'rb') as input:\n",
    "#     elect = pickle.load(input)"
   ]
  },
  {
   "cell_type": "code",
   "execution_count": 13,
   "metadata": {},
   "outputs": [],
   "source": [
    "loader = DataLoader(\n",
    "            elect,\n",
    "            batch_size=fixed_params['minibatch_size'],\n",
    "            num_workers=2,\n",
    "            shuffle=False\n",
    "        )"
   ]
  },
  {
   "cell_type": "code",
   "execution_count": 14,
   "metadata": {},
   "outputs": [
    {
     "name": "stdout",
     "output_type": "stream",
     "text": [
      "{'total_time_steps': 24, 'num_encoder_steps': 21, 'num_epochs': 100, 'early_stopping_patience': 5, 'multiprocessing_workers': 5, 'column_definition': [('poi_sku_id', <DataTypes.CATEGORICAL: 1>, <InputTypes.ID: 4>), ('time_idx', <DataTypes.REAL_VALUED: 0>, <InputTypes.TIME: 5>), ('biz_sale_qty', <DataTypes.REAL_VALUED: 0>, <InputTypes.TARGET: 0>), ('traffic_index', <DataTypes.REAL_VALUED: 0>, <InputTypes.KNOWN_INPUT: 2>), ('day_of_week', <DataTypes.REAL_VALUED: 0>, <InputTypes.KNOWN_INPUT: 2>), ('day_temperature', <DataTypes.REAL_VALUED: 0>, <InputTypes.KNOWN_INPUT: 2>), ('qpf', <DataTypes.REAL_VALUED: 0>, <InputTypes.KNOWN_INPUT: 2>), ('promos_discount', <DataTypes.REAL_VALUED: 0>, <InputTypes.KNOWN_INPUT: 2>), ('sell_price', <DataTypes.REAL_VALUED: 0>, <InputTypes.KNOWN_INPUT: 2>), ('city_id', <DataTypes.CATEGORICAL: 1>, <InputTypes.STATIC_INPUT: 3>), ('poi_id', <DataTypes.CATEGORICAL: 1>, <InputTypes.STATIC_INPUT: 3>), ('base_sku_id', <DataTypes.CATEGORICAL: 1>, <InputTypes.STATIC_INPUT: 3>), ('category1_id', <DataTypes.CATEGORICAL: 1>, <InputTypes.STATIC_INPUT: 3>), ('category2_id', <DataTypes.CATEGORICAL: 1>, <InputTypes.STATIC_INPUT: 3>), ('category3_id', <DataTypes.CATEGORICAL: 1>, <InputTypes.STATIC_INPUT: 3>), ('category4_id', <DataTypes.CATEGORICAL: 1>, <InputTypes.STATIC_INPUT: 3>), ('is_weekend', <DataTypes.CATEGORICAL: 1>, <InputTypes.KNOWN_INPUT: 2>), ('is_holiday', <DataTypes.CATEGORICAL: 1>, <InputTypes.KNOWN_INPUT: 2>), ('icon_day_type', <DataTypes.CATEGORICAL: 1>, <InputTypes.KNOWN_INPUT: 2>), ('day_icon_id', <DataTypes.CATEGORICAL: 1>, <InputTypes.KNOWN_INPUT: 2>), ('is_seckill', <DataTypes.CATEGORICAL: 1>, <InputTypes.KNOWN_INPUT: 2>)], 'input_size': 19, 'output_size': 1, 'category_counts': [5, 321, 799, 4, 13, 58, 193, 2, 2, 4, 16, 1], 'input_obs_loc': [0], 'static_input_loc': [7, 8, 9, 10, 11, 12, 13], 'known_regular_inputs': [1, 2, 3, 4, 5, 6], 'known_categorical_inputs': [0, 1, 2, 3, 4, 5, 6, 7, 8, 9, 10, 11], 'inputs_encoder': ['biz_sale_qty', 'traffic_index', 'day_of_week', 'day_temperature', 'qpf', 'promos_discount', 'sell_price', 'city_id', 'poi_id', 'base_sku_id', 'category1_id', 'category2_id', 'category3_id', 'category4_id', 'is_weekend', 'is_holiday', 'icon_day_type', 'day_icon_id', 'is_seckill'], 'inputs_decoder': ['traffic_index', 'day_of_week', 'day_temperature', 'qpf', 'promos_discount', 'sell_price', 'city_id', 'poi_id', 'base_sku_id', 'category1_id', 'category2_id', 'category3_id', 'category4_id', 'is_weekend', 'is_holiday', 'icon_day_type', 'day_icon_id', 'is_seckill'], 'dropout_rate': 0.1, 'hidden_layer_size': 160, 'learning_rate': 0.001, 'minibatch_size': 64, 'max_gradient_norm': 0.01, 'num_heads': 4, 'stack_size': 1, 'batch_first': True, 'name': 'test', 'device': 'cpu', 'quantiles': [0.5]}\n",
      "_known_regular_input_idx:[1, 2, 3, 4, 5, 6], _known_categorical_input_idx:[0, 1, 2, 3, 4, 5, 6, 7, 8, 9, 10, 11], num_static: 7, num_inputs:12\n",
      "num_categorical_variables\n",
      "12\n",
      "input_size:21, num_inputs:12, hidden_layer_size:160\n"
     ]
    }
   ],
   "source": [
    "importlib.reload(tft_model)\n",
    "model = tft_model.TFT(fixed_params).to(device)"
   ]
  },
  {
   "cell_type": "code",
   "execution_count": 15,
   "metadata": {},
   "outputs": [],
   "source": [
    "from losses.quantile_loss import QuantileLoss\n",
    "from losses.smape_loss import SMAPELoss\n",
    "from losses.rmsse_loss import RMSSELoss\n",
    "from losses.pinball_loss import PinballLoss\n",
    "\n",
    "\n",
    "q_loss_func = RMSSELoss(fixed_params['device'])\n",
    "# q_loss_func = SMAPELoss(fixed_params['device'])\n",
    "# q_loss_func = QuantileLoss(fixed_params['quantiles'])\n",
    "# import sys\n",
    "# sys.path.append('/home/arda/Desktop/thesis/')\n",
    "# from loss_modules import PinballLoss\n",
    "q_loss_func = PinballLoss(0.45, device)\n",
    "optimizer = optim.Adam(model.parameters(), lr=0.001)"
   ]
  },
  {
   "cell_type": "code",
   "execution_count": 16,
   "metadata": {},
   "outputs": [
    {
     "name": "stderr",
     "output_type": "stream",
     "text": [
      "\r",
      "  0%|          | 0/2 [00:00<?, ?it/s]"
     ]
    },
    {
     "name": "stdout",
     "output_type": "stream",
     "text": [
      "all_inputs:torch.Size([64, 24, 19]), unknown_inputs:None, known_combined_layer:torch.Size([64, 24, 160, 11]), obs_inputs:torch.Size([64, 24, 160, 1]), static_inputs:torch.Size([64, 7, 160])\n"
     ]
    },
    {
     "name": "stderr",
     "output_type": "stream",
     "text": [
      "/Users/liuxufeng/github/tft/Temporal_Fusion_Transform/layers/scaled_dot_product_attention.py:35: UserWarning: To copy construct from a tensor, it is recommended to use sourceTensor.clone().detach() or sourceTensor.clone().detach().requires_grad_(True), rather than torch.tensor(sourceTensor).\n",
      "  mmask = (-1e+9) * (1. - torch.tensor(mask, dtype=torch.float).to(self.device)) # setting to infinity\n",
      " 50%|█████     | 1/2 [00:00<00:00,  1.01it/s]"
     ]
    },
    {
     "name": "stdout",
     "output_type": "stream",
     "text": [
      "all_inputs:torch.Size([64, 24, 19]), unknown_inputs:None, known_combined_layer:torch.Size([64, 24, 160, 11]), obs_inputs:torch.Size([64, 24, 160, 1]), static_inputs:torch.Size([64, 7, 160])\n"
     ]
    },
    {
     "name": "stderr",
     "output_type": "stream",
     "text": [
      "100%|██████████| 2/2 [00:01<00:00,  1.06it/s]"
     ]
    },
    {
     "name": "stdout",
     "output_type": "stream",
     "text": [
      "1.1199956238269806\n"
     ]
    },
    {
     "name": "stderr",
     "output_type": "stream",
     "text": [
      "\n",
      "  0%|          | 0/2 [00:00<?, ?it/s]"
     ]
    },
    {
     "name": "stdout",
     "output_type": "stream",
     "text": [
      "all_inputs:torch.Size([64, 24, 19]), unknown_inputs:None, known_combined_layer:torch.Size([64, 24, 160, 11]), obs_inputs:torch.Size([64, 24, 160, 1]), static_inputs:torch.Size([64, 7, 160])\n"
     ]
    },
    {
     "name": "stderr",
     "output_type": "stream",
     "text": [
      "\r",
      " 50%|█████     | 1/2 [00:00<00:00,  1.05it/s]"
     ]
    },
    {
     "name": "stdout",
     "output_type": "stream",
     "text": [
      "all_inputs:torch.Size([64, 24, 19]), unknown_inputs:None, known_combined_layer:torch.Size([64, 24, 160, 11]), obs_inputs:torch.Size([64, 24, 160, 1]), static_inputs:torch.Size([64, 7, 160])\n"
     ]
    },
    {
     "name": "stderr",
     "output_type": "stream",
     "text": [
      "100%|██████████| 2/2 [00:01<00:00,  1.17it/s]"
     ]
    },
    {
     "name": "stdout",
     "output_type": "stream",
     "text": [
      "0.9031932950019836\n"
     ]
    },
    {
     "name": "stderr",
     "output_type": "stream",
     "text": [
      "\n",
      "  0%|          | 0/2 [00:00<?, ?it/s]"
     ]
    },
    {
     "name": "stdout",
     "output_type": "stream",
     "text": [
      "all_inputs:torch.Size([64, 24, 19]), unknown_inputs:None, known_combined_layer:torch.Size([64, 24, 160, 11]), obs_inputs:torch.Size([64, 24, 160, 1]), static_inputs:torch.Size([64, 7, 160])\n"
     ]
    },
    {
     "name": "stderr",
     "output_type": "stream",
     "text": [
      "\r",
      " 50%|█████     | 1/2 [00:00<00:00,  1.08it/s]"
     ]
    },
    {
     "name": "stdout",
     "output_type": "stream",
     "text": [
      "all_inputs:torch.Size([64, 24, 19]), unknown_inputs:None, known_combined_layer:torch.Size([64, 24, 160, 11]), obs_inputs:torch.Size([64, 24, 160, 1]), static_inputs:torch.Size([64, 7, 160])\n"
     ]
    },
    {
     "name": "stderr",
     "output_type": "stream",
     "text": [
      "100%|██████████| 2/2 [00:01<00:00,  1.19it/s]"
     ]
    },
    {
     "name": "stdout",
     "output_type": "stream",
     "text": [
      "0.7529999315738678\n"
     ]
    },
    {
     "name": "stderr",
     "output_type": "stream",
     "text": [
      "\n",
      "  0%|          | 0/2 [00:00<?, ?it/s]"
     ]
    },
    {
     "name": "stdout",
     "output_type": "stream",
     "text": [
      "all_inputs:torch.Size([64, 24, 19]), unknown_inputs:None, known_combined_layer:torch.Size([64, 24, 160, 11]), obs_inputs:torch.Size([64, 24, 160, 1]), static_inputs:torch.Size([64, 7, 160])\n"
     ]
    },
    {
     "name": "stderr",
     "output_type": "stream",
     "text": [
      "\r",
      " 50%|█████     | 1/2 [00:00<00:00,  1.18it/s]"
     ]
    },
    {
     "name": "stdout",
     "output_type": "stream",
     "text": [
      "all_inputs:torch.Size([64, 24, 19]), unknown_inputs:None, known_combined_layer:torch.Size([64, 24, 160, 11]), obs_inputs:torch.Size([64, 24, 160, 1]), static_inputs:torch.Size([64, 7, 160])\n"
     ]
    },
    {
     "name": "stderr",
     "output_type": "stream",
     "text": [
      "100%|██████████| 2/2 [00:01<00:00,  1.26it/s]"
     ]
    },
    {
     "name": "stdout",
     "output_type": "stream",
     "text": [
      "0.7266390323638916\n"
     ]
    },
    {
     "name": "stderr",
     "output_type": "stream",
     "text": [
      "\n",
      "  0%|          | 0/2 [00:00<?, ?it/s]"
     ]
    },
    {
     "name": "stdout",
     "output_type": "stream",
     "text": [
      "all_inputs:torch.Size([64, 24, 19]), unknown_inputs:None, known_combined_layer:torch.Size([64, 24, 160, 11]), obs_inputs:torch.Size([64, 24, 160, 1]), static_inputs:torch.Size([64, 7, 160])\n"
     ]
    },
    {
     "name": "stderr",
     "output_type": "stream",
     "text": [
      "\r",
      " 50%|█████     | 1/2 [00:00<00:00,  1.17it/s]"
     ]
    },
    {
     "name": "stdout",
     "output_type": "stream",
     "text": [
      "all_inputs:torch.Size([64, 24, 19]), unknown_inputs:None, known_combined_layer:torch.Size([64, 24, 160, 11]), obs_inputs:torch.Size([64, 24, 160, 1]), static_inputs:torch.Size([64, 7, 160])\n"
     ]
    },
    {
     "name": "stderr",
     "output_type": "stream",
     "text": [
      "100%|██████████| 2/2 [00:01<00:00,  1.24it/s]"
     ]
    },
    {
     "name": "stdout",
     "output_type": "stream",
     "text": [
      "0.7152435183525085\n"
     ]
    },
    {
     "name": "stderr",
     "output_type": "stream",
     "text": [
      "\n",
      "  0%|          | 0/2 [00:00<?, ?it/s]"
     ]
    },
    {
     "name": "stdout",
     "output_type": "stream",
     "text": [
      "all_inputs:torch.Size([64, 24, 19]), unknown_inputs:None, known_combined_layer:torch.Size([64, 24, 160, 11]), obs_inputs:torch.Size([64, 24, 160, 1]), static_inputs:torch.Size([64, 7, 160])\n"
     ]
    },
    {
     "name": "stderr",
     "output_type": "stream",
     "text": [
      "\r",
      " 50%|█████     | 1/2 [00:00<00:00,  1.21it/s]"
     ]
    },
    {
     "name": "stdout",
     "output_type": "stream",
     "text": [
      "all_inputs:torch.Size([64, 24, 19]), unknown_inputs:None, known_combined_layer:torch.Size([64, 24, 160, 11]), obs_inputs:torch.Size([64, 24, 160, 1]), static_inputs:torch.Size([64, 7, 160])\n"
     ]
    },
    {
     "name": "stderr",
     "output_type": "stream",
     "text": [
      "100%|██████████| 2/2 [00:01<00:00,  1.26it/s]"
     ]
    },
    {
     "name": "stdout",
     "output_type": "stream",
     "text": [
      "0.6861762404441833\n"
     ]
    },
    {
     "name": "stderr",
     "output_type": "stream",
     "text": [
      "\n",
      "  0%|          | 0/2 [00:00<?, ?it/s]"
     ]
    },
    {
     "name": "stdout",
     "output_type": "stream",
     "text": [
      "all_inputs:torch.Size([64, 24, 19]), unknown_inputs:None, known_combined_layer:torch.Size([64, 24, 160, 11]), obs_inputs:torch.Size([64, 24, 160, 1]), static_inputs:torch.Size([64, 7, 160])\n"
     ]
    },
    {
     "name": "stderr",
     "output_type": "stream",
     "text": [
      "\r",
      " 50%|█████     | 1/2 [00:00<00:00,  1.16it/s]"
     ]
    },
    {
     "name": "stdout",
     "output_type": "stream",
     "text": [
      "all_inputs:torch.Size([64, 24, 19]), unknown_inputs:None, known_combined_layer:torch.Size([64, 24, 160, 11]), obs_inputs:torch.Size([64, 24, 160, 1]), static_inputs:torch.Size([64, 7, 160])\n"
     ]
    },
    {
     "name": "stderr",
     "output_type": "stream",
     "text": [
      "100%|██████████| 2/2 [00:01<00:00,  1.26it/s]"
     ]
    },
    {
     "name": "stdout",
     "output_type": "stream",
     "text": [
      "0.6767158508300781\n"
     ]
    },
    {
     "name": "stderr",
     "output_type": "stream",
     "text": [
      "\n",
      "  0%|          | 0/2 [00:00<?, ?it/s]"
     ]
    },
    {
     "name": "stdout",
     "output_type": "stream",
     "text": [
      "all_inputs:torch.Size([64, 24, 19]), unknown_inputs:None, known_combined_layer:torch.Size([64, 24, 160, 11]), obs_inputs:torch.Size([64, 24, 160, 1]), static_inputs:torch.Size([64, 7, 160])\n"
     ]
    },
    {
     "name": "stderr",
     "output_type": "stream",
     "text": [
      "\r",
      " 50%|█████     | 1/2 [00:00<00:00,  1.18it/s]"
     ]
    },
    {
     "name": "stdout",
     "output_type": "stream",
     "text": [
      "all_inputs:torch.Size([64, 24, 19]), unknown_inputs:None, known_combined_layer:torch.Size([64, 24, 160, 11]), obs_inputs:torch.Size([64, 24, 160, 1]), static_inputs:torch.Size([64, 7, 160])\n"
     ]
    },
    {
     "name": "stderr",
     "output_type": "stream",
     "text": [
      "100%|██████████| 2/2 [00:01<00:00,  1.26it/s]"
     ]
    },
    {
     "name": "stdout",
     "output_type": "stream",
     "text": [
      "0.6276958584785461\n"
     ]
    },
    {
     "name": "stderr",
     "output_type": "stream",
     "text": [
      "\n",
      "  0%|          | 0/2 [00:00<?, ?it/s]"
     ]
    },
    {
     "name": "stdout",
     "output_type": "stream",
     "text": [
      "all_inputs:torch.Size([64, 24, 19]), unknown_inputs:None, known_combined_layer:torch.Size([64, 24, 160, 11]), obs_inputs:torch.Size([64, 24, 160, 1]), static_inputs:torch.Size([64, 7, 160])\n"
     ]
    },
    {
     "name": "stderr",
     "output_type": "stream",
     "text": [
      "\r",
      " 50%|█████     | 1/2 [00:00<00:00,  1.21it/s]"
     ]
    },
    {
     "name": "stdout",
     "output_type": "stream",
     "text": [
      "all_inputs:torch.Size([64, 24, 19]), unknown_inputs:None, known_combined_layer:torch.Size([64, 24, 160, 11]), obs_inputs:torch.Size([64, 24, 160, 1]), static_inputs:torch.Size([64, 7, 160])\n"
     ]
    },
    {
     "name": "stderr",
     "output_type": "stream",
     "text": [
      "100%|██████████| 2/2 [00:01<00:00,  1.26it/s]"
     ]
    },
    {
     "name": "stdout",
     "output_type": "stream",
     "text": [
      "0.640694797039032\n"
     ]
    },
    {
     "name": "stderr",
     "output_type": "stream",
     "text": [
      "\n",
      "  0%|          | 0/2 [00:00<?, ?it/s]"
     ]
    },
    {
     "name": "stdout",
     "output_type": "stream",
     "text": [
      "all_inputs:torch.Size([64, 24, 19]), unknown_inputs:None, known_combined_layer:torch.Size([64, 24, 160, 11]), obs_inputs:torch.Size([64, 24, 160, 1]), static_inputs:torch.Size([64, 7, 160])\n"
     ]
    },
    {
     "name": "stderr",
     "output_type": "stream",
     "text": [
      "\r",
      " 50%|█████     | 1/2 [00:00<00:00,  1.16it/s]"
     ]
    },
    {
     "name": "stdout",
     "output_type": "stream",
     "text": [
      "all_inputs:torch.Size([64, 24, 19]), unknown_inputs:None, known_combined_layer:torch.Size([64, 24, 160, 11]), obs_inputs:torch.Size([64, 24, 160, 1]), static_inputs:torch.Size([64, 7, 160])\n"
     ]
    },
    {
     "name": "stderr",
     "output_type": "stream",
     "text": [
      "100%|██████████| 2/2 [00:01<00:00,  1.24it/s]"
     ]
    },
    {
     "name": "stdout",
     "output_type": "stream",
     "text": [
      "0.6228189170360565\n"
     ]
    },
    {
     "name": "stderr",
     "output_type": "stream",
     "text": [
      "\n"
     ]
    }
   ],
   "source": [
    "model.train()\n",
    "epochs=10\n",
    "losses = []\n",
    "for i in range(epochs):\n",
    "    epoch_loss = []\n",
    "    progress_bar = tqdm(enumerate(loader), total=len(loader))\n",
    "    for batch_num, batch in progress_bar:\n",
    "        optimizer.zero_grad()\n",
    "        output, all_inputs, attention_components = model(batch['inputs'])\n",
    "#         loss= q_loss_func(output[:,:,:].view(-1,1), batch['outputs'][:,:,0].flatten().float().to(device))\n",
    "        loss = q_loss_func(output.squeeze(2), batch['outputs'][:,:,0].float().to(device))\n",
    "        loss.backward()\n",
    "        torch.nn.utils.clip_grad_norm_(model.parameters(), fixed_params['max_gradient_norm'])\n",
    "        optimizer.step()\n",
    "        epoch_loss.append(loss.item())\n",
    "    \n",
    "    losses.append(np.mean(epoch_loss))\n",
    "    if loss.item() <= min(losses):\n",
    "        torch.save(model.state_dict(), 'electricity_best_model_smape_loss.pth')\n",
    "        \n",
    "    print(np.mean(epoch_loss))\n",
    "    "
   ]
  },
  {
   "cell_type": "code",
   "execution_count": 17,
   "metadata": {},
   "outputs": [],
   "source": [
    "## 获得city_id, poi_id, base_sku_id的下标\n",
    "\n",
    "from data_formatters.base import InputTypes\n",
    "column_definition = fixed_params['column_definition']\n",
    "input_cols = [\n",
    "    tup[0]\n",
    "    for tup in column_definition\n",
    "    if tup[2] not in {InputTypes.ID, InputTypes.TIME}\n",
    "]\n"
   ]
  },
  {
   "cell_type": "code",
   "execution_count": 18,
   "metadata": {},
   "outputs": [
    {
     "data": {
      "text/plain": [
       "['biz_sale_qty',\n",
       " 'traffic_index',\n",
       " 'day_of_week',\n",
       " 'day_temperature',\n",
       " 'qpf',\n",
       " 'promos_discount',\n",
       " 'sell_price',\n",
       " 'city_id',\n",
       " 'poi_id',\n",
       " 'base_sku_id',\n",
       " 'category1_id',\n",
       " 'category2_id',\n",
       " 'category3_id',\n",
       " 'category4_id',\n",
       " 'is_weekend',\n",
       " 'is_holiday',\n",
       " 'icon_day_type',\n",
       " 'day_icon_id',\n",
       " 'is_seckill']"
      ]
     },
     "execution_count": 18,
     "metadata": {},
     "output_type": "execute_result"
    }
   ],
   "source": [
    "input_cols"
   ]
  },
  {
   "cell_type": "code",
   "execution_count": 19,
   "metadata": {},
   "outputs": [],
   "source": [
    "city_id_idx = input_cols.index(\"city_id\")\n",
    "poi_id_idx = input_cols.index(\"poi_id\")\n",
    "base_sku_id_idx = input_cols.index(\"base_sku_id\")\n",
    "#poi_sku_id_idx = input_cols.index(\"poi_sku_id\")"
   ]
  },
  {
   "cell_type": "code",
   "execution_count": 20,
   "metadata": {},
   "outputs": [
    {
     "data": {
      "text/plain": [
       "(7, 8, 9)"
      ]
     },
     "execution_count": 20,
     "metadata": {},
     "output_type": "execute_result"
    }
   ],
   "source": [
    "city_id_idx, poi_id_idx, base_sku_id_idx"
   ]
  },
  {
   "cell_type": "code",
   "execution_count": 21,
   "metadata": {},
   "outputs": [
    {
     "data": {
      "text/plain": [
       "LabelEncoder()"
      ]
     },
     "execution_count": 21,
     "metadata": {},
     "output_type": "execute_result"
    }
   ],
   "source": [
    "data_formatter._cat_scalers[\"city_id\"]"
   ]
  },
  {
   "cell_type": "code",
   "execution_count": 22,
   "metadata": {},
   "outputs": [
    {
     "name": "stdout",
     "output_type": "stream",
     "text": [
      "Getting valid sampling locations.\n",
      "# available segments=2000\n",
      "Extracting 1000 samples...\n",
      "1000 of 1000 samples done..., 1.3300468921661377\n",
      "total time used: 1.3315188884735107\n"
     ]
    }
   ],
   "source": [
    "max_samples = 1000\n",
    "test_elect = ts_dataset.TSDataset(fixed_params, max_samples, test)\n",
    "loader = DataLoader(\n",
    "        test_elect,\n",
    "        batch_size=fixed_params['minibatch_size'],\n",
    "        num_workers=0,\n",
    "        shuffle=False\n",
    "    )"
   ]
  },
  {
   "cell_type": "code",
   "execution_count": 46,
   "metadata": {},
   "outputs": [
    {
     "name": "stdout",
     "output_type": "stream",
     "text": [
      "Getting valid sampling locations.\n",
      "# available segments=2000\n",
      "Extracting 1000 samples...\n",
      "1000 of 1000 samples done..., 1.1801609992980957\n",
      "total time used: 1.1817090511322021\n",
      "all_inputs:torch.Size([64, 24, 19]), unknown_inputs:None, known_combined_layer:torch.Size([64, 24, 160, 11]), obs_inputs:torch.Size([64, 24, 160, 1]), static_inputs:torch.Size([64, 7, 160])\n"
     ]
    },
    {
     "name": "stderr",
     "output_type": "stream",
     "text": [
      "/Users/liuxufeng/github/tft/Temporal_Fusion_Transform/layers/scaled_dot_product_attention.py:35: UserWarning: To copy construct from a tensor, it is recommended to use sourceTensor.clone().detach() or sourceTensor.clone().detach().requires_grad_(True), rather than torch.tensor(sourceTensor).\n",
      "  mmask = (-1e+9) * (1. - torch.tensor(mask, dtype=torch.float).to(self.device)) # setting to infinity\n"
     ]
    },
    {
     "name": "stdout",
     "output_type": "stream",
     "text": [
      "all_inputs:torch.Size([64, 24, 19]), unknown_inputs:None, known_combined_layer:torch.Size([64, 24, 160, 11]), obs_inputs:torch.Size([64, 24, 160, 1]), static_inputs:torch.Size([64, 7, 160])\n",
      "all_inputs:torch.Size([64, 24, 19]), unknown_inputs:None, known_combined_layer:torch.Size([64, 24, 160, 11]), obs_inputs:torch.Size([64, 24, 160, 1]), static_inputs:torch.Size([64, 7, 160])\n",
      "all_inputs:torch.Size([64, 24, 19]), unknown_inputs:None, known_combined_layer:torch.Size([64, 24, 160, 11]), obs_inputs:torch.Size([64, 24, 160, 1]), static_inputs:torch.Size([64, 7, 160])\n",
      "all_inputs:torch.Size([64, 24, 19]), unknown_inputs:None, known_combined_layer:torch.Size([64, 24, 160, 11]), obs_inputs:torch.Size([64, 24, 160, 1]), static_inputs:torch.Size([64, 7, 160])\n",
      "all_inputs:torch.Size([64, 24, 19]), unknown_inputs:None, known_combined_layer:torch.Size([64, 24, 160, 11]), obs_inputs:torch.Size([64, 24, 160, 1]), static_inputs:torch.Size([64, 7, 160])\n",
      "all_inputs:torch.Size([64, 24, 19]), unknown_inputs:None, known_combined_layer:torch.Size([64, 24, 160, 11]), obs_inputs:torch.Size([64, 24, 160, 1]), static_inputs:torch.Size([64, 7, 160])\n",
      "all_inputs:torch.Size([64, 24, 19]), unknown_inputs:None, known_combined_layer:torch.Size([64, 24, 160, 11]), obs_inputs:torch.Size([64, 24, 160, 1]), static_inputs:torch.Size([64, 7, 160])\n",
      "all_inputs:torch.Size([64, 24, 19]), unknown_inputs:None, known_combined_layer:torch.Size([64, 24, 160, 11]), obs_inputs:torch.Size([64, 24, 160, 1]), static_inputs:torch.Size([64, 7, 160])\n",
      "all_inputs:torch.Size([64, 24, 19]), unknown_inputs:None, known_combined_layer:torch.Size([64, 24, 160, 11]), obs_inputs:torch.Size([64, 24, 160, 1]), static_inputs:torch.Size([64, 7, 160])\n",
      "all_inputs:torch.Size([64, 24, 19]), unknown_inputs:None, known_combined_layer:torch.Size([64, 24, 160, 11]), obs_inputs:torch.Size([64, 24, 160, 1]), static_inputs:torch.Size([64, 7, 160])\n",
      "all_inputs:torch.Size([64, 24, 19]), unknown_inputs:None, known_combined_layer:torch.Size([64, 24, 160, 11]), obs_inputs:torch.Size([64, 24, 160, 1]), static_inputs:torch.Size([64, 7, 160])\n",
      "all_inputs:torch.Size([64, 24, 19]), unknown_inputs:None, known_combined_layer:torch.Size([64, 24, 160, 11]), obs_inputs:torch.Size([64, 24, 160, 1]), static_inputs:torch.Size([64, 7, 160])\n",
      "all_inputs:torch.Size([64, 24, 19]), unknown_inputs:None, known_combined_layer:torch.Size([64, 24, 160, 11]), obs_inputs:torch.Size([64, 24, 160, 1]), static_inputs:torch.Size([64, 7, 160])\n",
      "all_inputs:torch.Size([64, 24, 19]), unknown_inputs:None, known_combined_layer:torch.Size([64, 24, 160, 11]), obs_inputs:torch.Size([64, 24, 160, 1]), static_inputs:torch.Size([64, 7, 160])\n",
      "all_inputs:torch.Size([40, 24, 19]), unknown_inputs:None, known_combined_layer:torch.Size([40, 24, 160, 11]), obs_inputs:torch.Size([40, 24, 160, 1]), static_inputs:torch.Size([40, 7, 160])\n"
     ]
    }
   ],
   "source": [
    "max_samples = 1000\n",
    "test_elect = ts_dataset.TSDataset(fixed_params, max_samples, test)\n",
    "loader = DataLoader(\n",
    "        test_elect,\n",
    "        batch_size=fixed_params['minibatch_size'],\n",
    "        num_workers=0,\n",
    "        shuffle=False\n",
    "    )\n",
    "\n",
    "dfs = []\n",
    "labels = []\n",
    "info_dfs = []\n",
    "time_idxs = []\n",
    "time_idx_dfs = []\n",
    "#total_infos = []\n",
    "\n",
    "from datetime import datetime, timedelta\n",
    "start_time = datetime.strptime(\"20210301\", \"%Y%m%d\")\n",
    "transorm_dt = lambda x: (start_time + timedelta(days=x-1)).strftime(\"%Y%m%d\")\n",
    "\n",
    "for batch in loader:\n",
    "    test_outputs = batch[\"outputs\"]\n",
    "    test_inputs = batch[\"inputs\"]\n",
    "    test_times = batch[\"time\"]\n",
    "    output, all_inputs, attention_components = model(batch[\"inputs\"])\n",
    "    \n",
    "    city_id_tensor = test_inputs[:, :, city_id_idx]\n",
    "    poi_id_tensor = test_inputs[:, :, poi_id_idx]\n",
    "    base_sku_id_tensor = test_inputs[:, :, base_sku_id_idx]\n",
    "    \n",
    "    flat_prediction = pd.DataFrame(\n",
    "        output.detach().cpu().numpy()[:, :, 0],\n",
    "        columns=[\n",
    "          'pred_{}'.format(i)\n",
    "          for i in range(output.shape[1])\n",
    "    ])\n",
    "    \n",
    "    flat_label = pd.DataFrame(\n",
    "        test_outputs.detach().cpu().numpy()[:, :, 0],\n",
    "        columns=[\n",
    "          'label_{}'.format(i)\n",
    "          for i in range(output.shape[1])\n",
    "    ])\n",
    "    \n",
    "    cols = list(flat_prediction.columns)\n",
    "    identifier = batch['identifier'][0][0].detach().cpu().numpy()\n",
    "    # flat_prediction['forecast_time'] = batch['time'][:, 54 - 1, 0]\n",
    "    flat_prediction['identifier'] = identifier.copy()\n",
    "    flat_label['identifier'] = identifier.copy()\n",
    "    \n",
    "    # 预测值和实际值\n",
    "    dfs.append(flat_prediction)\n",
    "    labels.append(flat_label)\n",
    "    \n",
    "    # 基础信息\n",
    "    city_id_values = data_formatter._cat_scalers[\"city_id\"].inverse_transform(city_id_tensor[:, 0].numpy().astype(int))\n",
    "    #city_id_tensors.append(city_id_values)\n",
    "    poi_id_values = data_formatter._cat_scalers[\"poi_id\"].inverse_transform(poi_id_tensor[:, 0].numpy().astype(int))\n",
    "    #poi_id_tensors.append(poi_id_values)\n",
    "    sku_id_values = data_formatter._cat_scalers[\"base_sku_id\"].inverse_transform(base_sku_id_tensor[:, 0].numpy().astype(int))\n",
    "\n",
    "    info_df = pd.DataFrame({\"city_id\": city_id_values,\n",
    "                           \"poi_id\": poi_id_values,\n",
    "                           \"base_sku_id\": sku_id_values,\n",
    "                            \"identifier\": identifier,\n",
    "                           })\n",
    "    info_dfs.append(info_df)\n",
    "    \n",
    "    # 时间time idx\n",
    "    time_idxs.append(test_times[-output.shape[1]:])\n",
    "    time_idx = test_times[-output.shape[1]:]\n",
    "    time_idx_df = pd.DataFrame()\n",
    "    for i in range(output.shape[1]):\n",
    "        time_idx_tensor = time_idx[i][0] ## tensor\n",
    "        time_idx_df[\"time_idx_{}\".format(i)] = [transorm_dt(int(t)) for t in time_idx_tensor.numpy()]\n",
    "    time_idx_df[\"identifier\"] = identifier\n",
    "    time_idx_dfs.append(time_idx_df)\n",
    "\n",
    "    #total_infos.append(pd.concat([info_df, time_idx_df, flat_prediction, flat_label], axis=1))\n",
    "    "
   ]
  },
  {
   "cell_type": "code",
   "execution_count": 47,
   "metadata": {},
   "outputs": [],
   "source": [
    "all_predictions = pd.concat(dfs, ignore_index=True)\n",
    "all_labels = pd.concat(labels, ignore_index=True)\n",
    "all_info_dfs = pd.concat(info_dfs, ignore_index=True)\n",
    "time_idx_dfs = pd.concat(time_idx_dfs, ignore_index=True)"
   ]
  },
  {
   "cell_type": "code",
   "execution_count": 48,
   "metadata": {},
   "outputs": [
    {
     "data": {
      "text/html": [
       "<div>\n",
       "<style scoped>\n",
       "    .dataframe tbody tr th:only-of-type {\n",
       "        vertical-align: middle;\n",
       "    }\n",
       "\n",
       "    .dataframe tbody tr th {\n",
       "        vertical-align: top;\n",
       "    }\n",
       "\n",
       "    .dataframe thead th {\n",
       "        text-align: right;\n",
       "    }\n",
       "</style>\n",
       "<table border=\"1\" class=\"dataframe\">\n",
       "  <thead>\n",
       "    <tr style=\"text-align: right;\">\n",
       "      <th></th>\n",
       "      <th>city_id</th>\n",
       "      <th>poi_id</th>\n",
       "      <th>base_sku_id</th>\n",
       "      <th>identifier</th>\n",
       "    </tr>\n",
       "  </thead>\n",
       "  <tbody>\n",
       "    <tr>\n",
       "      <th>0</th>\n",
       "      <td>4</td>\n",
       "      <td>10000089</td>\n",
       "      <td>76311</td>\n",
       "      <td>86311089</td>\n",
       "    </tr>\n",
       "    <tr>\n",
       "      <th>1</th>\n",
       "      <td>2</td>\n",
       "      <td>81</td>\n",
       "      <td>62602</td>\n",
       "      <td>62602081</td>\n",
       "    </tr>\n",
       "    <tr>\n",
       "      <th>2</th>\n",
       "      <td>4</td>\n",
       "      <td>10000089</td>\n",
       "      <td>56367</td>\n",
       "      <td>66367089</td>\n",
       "    </tr>\n",
       "    <tr>\n",
       "      <th>3</th>\n",
       "      <td>2</td>\n",
       "      <td>122</td>\n",
       "      <td>57602</td>\n",
       "      <td>57602122</td>\n",
       "    </tr>\n",
       "    <tr>\n",
       "      <th>4</th>\n",
       "      <td>7</td>\n",
       "      <td>300</td>\n",
       "      <td>75116</td>\n",
       "      <td>75116300</td>\n",
       "    </tr>\n",
       "    <tr>\n",
       "      <th>...</th>\n",
       "      <td>...</td>\n",
       "      <td>...</td>\n",
       "      <td>...</td>\n",
       "      <td>...</td>\n",
       "    </tr>\n",
       "    <tr>\n",
       "      <th>995</th>\n",
       "      <td>1</td>\n",
       "      <td>1550</td>\n",
       "      <td>89564</td>\n",
       "      <td>89565550</td>\n",
       "    </tr>\n",
       "    <tr>\n",
       "      <th>996</th>\n",
       "      <td>1</td>\n",
       "      <td>10000040</td>\n",
       "      <td>19598</td>\n",
       "      <td>29598040</td>\n",
       "    </tr>\n",
       "    <tr>\n",
       "      <th>997</th>\n",
       "      <td>7</td>\n",
       "      <td>10000100</td>\n",
       "      <td>10546</td>\n",
       "      <td>20546100</td>\n",
       "    </tr>\n",
       "    <tr>\n",
       "      <th>998</th>\n",
       "      <td>7</td>\n",
       "      <td>10000055</td>\n",
       "      <td>93105</td>\n",
       "      <td>103105055</td>\n",
       "    </tr>\n",
       "    <tr>\n",
       "      <th>999</th>\n",
       "      <td>2</td>\n",
       "      <td>2805</td>\n",
       "      <td>98715</td>\n",
       "      <td>98717805</td>\n",
       "    </tr>\n",
       "  </tbody>\n",
       "</table>\n",
       "<p>1000 rows × 4 columns</p>\n",
       "</div>"
      ],
      "text/plain": [
       "    city_id    poi_id base_sku_id  identifier\n",
       "0         4  10000089       76311    86311089\n",
       "1         2        81       62602    62602081\n",
       "2         4  10000089       56367    66367089\n",
       "3         2       122       57602    57602122\n",
       "4         7       300       75116    75116300\n",
       "..      ...       ...         ...         ...\n",
       "995       1      1550       89564    89565550\n",
       "996       1  10000040       19598    29598040\n",
       "997       7  10000100       10546    20546100\n",
       "998       7  10000055       93105   103105055\n",
       "999       2      2805       98715    98717805\n",
       "\n",
       "[1000 rows x 4 columns]"
      ]
     },
     "execution_count": 48,
     "metadata": {},
     "output_type": "execute_result"
    }
   ],
   "source": [
    "all_info_dfs"
   ]
  },
  {
   "cell_type": "code",
   "execution_count": 49,
   "metadata": {},
   "outputs": [
    {
     "data": {
      "text/plain": [
       "((1000, 4), (1000, 4), (1000, 4), (1000, 4))"
      ]
     },
     "execution_count": 49,
     "metadata": {},
     "output_type": "execute_result"
    }
   ],
   "source": [
    "all_predictions.shape, all_labels.shape, all_info_dfs.shape, time_idx_dfs.shape"
   ]
  },
  {
   "cell_type": "code",
   "execution_count": 50,
   "metadata": {},
   "outputs": [],
   "source": [
    "all_predictions_verse = data_formatter.format_predictions(all_predictions)\n",
    "all_labels_verse = data_formatter.format_predictions(all_labels)"
   ]
  },
  {
   "cell_type": "code",
   "execution_count": 51,
   "metadata": {},
   "outputs": [],
   "source": [
    "total_pred_info = pd.concat([all_info_dfs, time_idx_dfs, \n",
    "                             all_predictions_verse.iloc[:, 0:3], \n",
    "                             all_labels_verse.iloc[:, 0:3]], axis=1)"
   ]
  },
  {
   "cell_type": "code",
   "execution_count": 52,
   "metadata": {},
   "outputs": [
    {
     "data": {
      "text/html": [
       "<div>\n",
       "<style scoped>\n",
       "    .dataframe tbody tr th:only-of-type {\n",
       "        vertical-align: middle;\n",
       "    }\n",
       "\n",
       "    .dataframe tbody tr th {\n",
       "        vertical-align: top;\n",
       "    }\n",
       "\n",
       "    .dataframe thead th {\n",
       "        text-align: right;\n",
       "    }\n",
       "</style>\n",
       "<table border=\"1\" class=\"dataframe\">\n",
       "  <thead>\n",
       "    <tr style=\"text-align: right;\">\n",
       "      <th></th>\n",
       "      <th>city_id</th>\n",
       "      <th>poi_id</th>\n",
       "      <th>base_sku_id</th>\n",
       "      <th>identifier</th>\n",
       "      <th>time_idx_0</th>\n",
       "      <th>time_idx_1</th>\n",
       "      <th>time_idx_2</th>\n",
       "      <th>identifier</th>\n",
       "      <th>pred_0</th>\n",
       "      <th>pred_1</th>\n",
       "      <th>pred_2</th>\n",
       "      <th>label_0</th>\n",
       "      <th>label_1</th>\n",
       "      <th>label_2</th>\n",
       "    </tr>\n",
       "  </thead>\n",
       "  <tbody>\n",
       "    <tr>\n",
       "      <th>0</th>\n",
       "      <td>4</td>\n",
       "      <td>10000089</td>\n",
       "      <td>76311</td>\n",
       "      <td>86311089</td>\n",
       "      <td>20210417</td>\n",
       "      <td>20210418</td>\n",
       "      <td>20210419</td>\n",
       "      <td>86311089</td>\n",
       "      <td>9.867212</td>\n",
       "      <td>8.444923</td>\n",
       "      <td>4.796382</td>\n",
       "      <td>4.0</td>\n",
       "      <td>4.0</td>\n",
       "      <td>1.0</td>\n",
       "    </tr>\n",
       "    <tr>\n",
       "      <th>1</th>\n",
       "      <td>2</td>\n",
       "      <td>81</td>\n",
       "      <td>62602</td>\n",
       "      <td>62602081</td>\n",
       "      <td>20210417</td>\n",
       "      <td>20210418</td>\n",
       "      <td>20210419</td>\n",
       "      <td>62602081</td>\n",
       "      <td>3.340526</td>\n",
       "      <td>4.366675</td>\n",
       "      <td>2.075461</td>\n",
       "      <td>3.0</td>\n",
       "      <td>5.0</td>\n",
       "      <td>1.0</td>\n",
       "    </tr>\n",
       "    <tr>\n",
       "      <th>2</th>\n",
       "      <td>4</td>\n",
       "      <td>10000089</td>\n",
       "      <td>56367</td>\n",
       "      <td>66367089</td>\n",
       "      <td>20210417</td>\n",
       "      <td>20210418</td>\n",
       "      <td>20210419</td>\n",
       "      <td>66367089</td>\n",
       "      <td>1.345521</td>\n",
       "      <td>1.053598</td>\n",
       "      <td>-0.013878</td>\n",
       "      <td>0.0</td>\n",
       "      <td>1.0</td>\n",
       "      <td>1.0</td>\n",
       "    </tr>\n",
       "    <tr>\n",
       "      <th>3</th>\n",
       "      <td>2</td>\n",
       "      <td>122</td>\n",
       "      <td>57602</td>\n",
       "      <td>57602122</td>\n",
       "      <td>20210417</td>\n",
       "      <td>20210418</td>\n",
       "      <td>20210419</td>\n",
       "      <td>57602122</td>\n",
       "      <td>24.635498</td>\n",
       "      <td>25.166071</td>\n",
       "      <td>21.818745</td>\n",
       "      <td>64.0</td>\n",
       "      <td>43.0</td>\n",
       "      <td>29.0</td>\n",
       "    </tr>\n",
       "    <tr>\n",
       "      <th>4</th>\n",
       "      <td>7</td>\n",
       "      <td>300</td>\n",
       "      <td>75116</td>\n",
       "      <td>75116300</td>\n",
       "      <td>20210417</td>\n",
       "      <td>20210418</td>\n",
       "      <td>20210419</td>\n",
       "      <td>75116300</td>\n",
       "      <td>16.607645</td>\n",
       "      <td>16.532753</td>\n",
       "      <td>12.784353</td>\n",
       "      <td>13.6</td>\n",
       "      <td>10.3</td>\n",
       "      <td>9.0</td>\n",
       "    </tr>\n",
       "    <tr>\n",
       "      <th>...</th>\n",
       "      <td>...</td>\n",
       "      <td>...</td>\n",
       "      <td>...</td>\n",
       "      <td>...</td>\n",
       "      <td>...</td>\n",
       "      <td>...</td>\n",
       "      <td>...</td>\n",
       "      <td>...</td>\n",
       "      <td>...</td>\n",
       "      <td>...</td>\n",
       "      <td>...</td>\n",
       "      <td>...</td>\n",
       "      <td>...</td>\n",
       "      <td>...</td>\n",
       "    </tr>\n",
       "    <tr>\n",
       "      <th>995</th>\n",
       "      <td>1</td>\n",
       "      <td>1550</td>\n",
       "      <td>89564</td>\n",
       "      <td>89565550</td>\n",
       "      <td>20210417</td>\n",
       "      <td>20210418</td>\n",
       "      <td>20210419</td>\n",
       "      <td>89565550</td>\n",
       "      <td>8.141788</td>\n",
       "      <td>6.254527</td>\n",
       "      <td>5.585021</td>\n",
       "      <td>3.3</td>\n",
       "      <td>5.8</td>\n",
       "      <td>3.0</td>\n",
       "    </tr>\n",
       "    <tr>\n",
       "      <th>996</th>\n",
       "      <td>1</td>\n",
       "      <td>10000040</td>\n",
       "      <td>19598</td>\n",
       "      <td>29598040</td>\n",
       "      <td>20210417</td>\n",
       "      <td>20210418</td>\n",
       "      <td>20210419</td>\n",
       "      <td>29598040</td>\n",
       "      <td>2.410544</td>\n",
       "      <td>2.028471</td>\n",
       "      <td>1.365437</td>\n",
       "      <td>1.0</td>\n",
       "      <td>4.0</td>\n",
       "      <td>2.0</td>\n",
       "    </tr>\n",
       "    <tr>\n",
       "      <th>997</th>\n",
       "      <td>7</td>\n",
       "      <td>10000100</td>\n",
       "      <td>10546</td>\n",
       "      <td>20546100</td>\n",
       "      <td>20210417</td>\n",
       "      <td>20210418</td>\n",
       "      <td>20210419</td>\n",
       "      <td>20546100</td>\n",
       "      <td>0.348495</td>\n",
       "      <td>0.343661</td>\n",
       "      <td>-0.000046</td>\n",
       "      <td>0.0</td>\n",
       "      <td>0.0</td>\n",
       "      <td>0.0</td>\n",
       "    </tr>\n",
       "    <tr>\n",
       "      <th>998</th>\n",
       "      <td>7</td>\n",
       "      <td>10000055</td>\n",
       "      <td>93105</td>\n",
       "      <td>103105055</td>\n",
       "      <td>20210417</td>\n",
       "      <td>20210418</td>\n",
       "      <td>20210419</td>\n",
       "      <td>103105055</td>\n",
       "      <td>7.309348</td>\n",
       "      <td>6.915738</td>\n",
       "      <td>3.530578</td>\n",
       "      <td>4.0</td>\n",
       "      <td>4.0</td>\n",
       "      <td>2.0</td>\n",
       "    </tr>\n",
       "    <tr>\n",
       "      <th>999</th>\n",
       "      <td>2</td>\n",
       "      <td>2805</td>\n",
       "      <td>98715</td>\n",
       "      <td>98717805</td>\n",
       "      <td>20210417</td>\n",
       "      <td>20210418</td>\n",
       "      <td>20210419</td>\n",
       "      <td>98717805</td>\n",
       "      <td>6.866251</td>\n",
       "      <td>7.619150</td>\n",
       "      <td>5.403810</td>\n",
       "      <td>22.1</td>\n",
       "      <td>10.0</td>\n",
       "      <td>6.0</td>\n",
       "    </tr>\n",
       "  </tbody>\n",
       "</table>\n",
       "<p>1000 rows × 14 columns</p>\n",
       "</div>"
      ],
      "text/plain": [
       "    city_id    poi_id base_sku_id  identifier time_idx_0 time_idx_1  \\\n",
       "0         4  10000089       76311    86311089   20210417   20210418   \n",
       "1         2        81       62602    62602081   20210417   20210418   \n",
       "2         4  10000089       56367    66367089   20210417   20210418   \n",
       "3         2       122       57602    57602122   20210417   20210418   \n",
       "4         7       300       75116    75116300   20210417   20210418   \n",
       "..      ...       ...         ...         ...        ...        ...   \n",
       "995       1      1550       89564    89565550   20210417   20210418   \n",
       "996       1  10000040       19598    29598040   20210417   20210418   \n",
       "997       7  10000100       10546    20546100   20210417   20210418   \n",
       "998       7  10000055       93105   103105055   20210417   20210418   \n",
       "999       2      2805       98715    98717805   20210417   20210418   \n",
       "\n",
       "    time_idx_2  identifier     pred_0     pred_1     pred_2  label_0  label_1  \\\n",
       "0     20210419    86311089   9.867212   8.444923   4.796382      4.0      4.0   \n",
       "1     20210419    62602081   3.340526   4.366675   2.075461      3.0      5.0   \n",
       "2     20210419    66367089   1.345521   1.053598  -0.013878      0.0      1.0   \n",
       "3     20210419    57602122  24.635498  25.166071  21.818745     64.0     43.0   \n",
       "4     20210419    75116300  16.607645  16.532753  12.784353     13.6     10.3   \n",
       "..         ...         ...        ...        ...        ...      ...      ...   \n",
       "995   20210419    89565550   8.141788   6.254527   5.585021      3.3      5.8   \n",
       "996   20210419    29598040   2.410544   2.028471   1.365437      1.0      4.0   \n",
       "997   20210419    20546100   0.348495   0.343661  -0.000046      0.0      0.0   \n",
       "998   20210419   103105055   7.309348   6.915738   3.530578      4.0      4.0   \n",
       "999   20210419    98717805   6.866251   7.619150   5.403810     22.1     10.0   \n",
       "\n",
       "     label_2  \n",
       "0        1.0  \n",
       "1        1.0  \n",
       "2        1.0  \n",
       "3       29.0  \n",
       "4        9.0  \n",
       "..       ...  \n",
       "995      3.0  \n",
       "996      2.0  \n",
       "997      0.0  \n",
       "998      2.0  \n",
       "999      6.0  \n",
       "\n",
       "[1000 rows x 14 columns]"
      ]
     },
     "execution_count": 52,
     "metadata": {},
     "output_type": "execute_result"
    }
   ],
   "source": [
    "total_pred_info"
   ]
  },
  {
   "cell_type": "code",
   "execution_count": null,
   "metadata": {},
   "outputs": [],
   "source": [
    "## xgb pred\n",
    "xgb_file = \"\""
   ]
  },
  {
   "cell_type": "code",
   "execution_count": 54,
   "metadata": {},
   "outputs": [
    {
     "name": "stdout",
     "output_type": "stream",
     "text": [
      "shape: (1000,)\n",
      "4.5100481185047006,8.124626273966136,0.8540537268994385,0.212,0.366,0.422\n"
     ]
    }
   ],
   "source": [
    "from pandas import Series\n",
    "def calc_eval_new(pred, label):\n",
    "    # 新指标的计算明显比旧指标更利于看指标\n",
    "    import math\n",
    "    import copy\n",
    "    \n",
    "    label_new = label.copy()\n",
    "    label_new[label_new < 1] = 1\n",
    "    err = pred - label\n",
    "    sq_err = err * err\n",
    "    \n",
    "    mae = err.abs().mean()\n",
    "    mse = math.sqrt(sq_err.mean())\n",
    "    mape = (err.abs() / label_new).mean()\n",
    "    dar = (err.abs() <= label_new * 0.2).mean()\n",
    "    bigger = (err > 0.2 * label_new).mean()\n",
    "    smaller = (err < -0.2 * label_new).mean()\n",
    "    \n",
    "    return mae, mse, mape, dar, smaller, bigger\n",
    "\n",
    "pred = total_pred_info[\"pred_2\"]\n",
    "label = total_pred_info[\"label_2\"]\n",
    "print(\"shape:\", label.shape)\n",
    "#label = Series(total_labels[:,2,0].detach().numpy())\n",
    "#pred = Series(output[:,2,0].detach().cpu().numpy())\n",
    "#label = Series(batch['outputs'][:,2,0].detach().cpu().numpy())\n",
    "mae, mse, mape, dar, smaller, bigger = calc_eval_new(pred, label)\n",
    "print(\",\".join(map(str, [mae, mse, mape, dar, smaller, bigger])))"
   ]
  },
  {
   "cell_type": "code",
   "execution_count": null,
   "metadata": {},
   "outputs": [],
   "source": []
  },
  {
   "cell_type": "code",
   "execution_count": null,
   "metadata": {},
   "outputs": [],
   "source": []
  },
  {
   "cell_type": "code",
   "execution_count": null,
   "metadata": {},
   "outputs": [],
   "source": []
  },
  {
   "cell_type": "code",
   "execution_count": 247,
   "metadata": {},
   "outputs": [
    {
     "data": {
      "text/plain": [
       "(3, 64)"
      ]
     },
     "execution_count": 247,
     "metadata": {},
     "output_type": "execute_result"
    }
   ],
   "source": [
    "len(time_idxs[0]), len(time_idxs[0][2][0])"
   ]
  },
  {
   "cell_type": "code",
   "execution_count": 248,
   "metadata": {},
   "outputs": [
    {
     "data": {
      "text/plain": [
       "tensor([50, 50, 50, 50, 50, 50, 50, 50, 50, 50, 50, 50, 50, 50, 50, 50, 50, 50,\n",
       "        50, 50, 50, 50, 50, 50, 50, 50, 50, 50, 50, 50, 50, 50, 50, 50, 50, 50,\n",
       "        50, 50, 50, 50, 50, 50, 50, 50, 50, 50, 50, 50, 50, 50, 50, 50, 50, 50,\n",
       "        50, 50, 50, 50, 50, 50, 50, 50, 50, 50])"
      ]
     },
     "execution_count": 248,
     "metadata": {},
     "output_type": "execute_result"
    }
   ],
   "source": [
    "time_idxs[0][2][0]"
   ]
  },
  {
   "cell_type": "code",
   "execution_count": 182,
   "metadata": {},
   "outputs": [],
   "source": [
    "data_merge = pd.merge(all_labels_verse, all_predictions_verse, on=\"identifier\")"
   ]
  },
  {
   "cell_type": "code",
   "execution_count": 184,
   "metadata": {},
   "outputs": [],
   "source": [
    "pred3, label3 = data_merge['t+2'], data_merge['d+2']"
   ]
  },
  {
   "cell_type": "code",
   "execution_count": 185,
   "metadata": {},
   "outputs": [
    {
     "name": "stdout",
     "output_type": "stream",
     "text": [
      "4.3996639892701594,7.983418255594016,0.9211975951507262,0.232,0.31,0.458\n"
     ]
    }
   ],
   "source": [
    "from pandas import Series\n",
    "def calc_eval_new(pred, label):\n",
    "    # 新指标的计算明显比旧指标更利于看指标\n",
    "    import math\n",
    "    import copy\n",
    "    \n",
    "    label_new = label.copy()\n",
    "    label_new[label_new < 1] = 1\n",
    "    err = pred - label\n",
    "    sq_err = err * err\n",
    "    \n",
    "    mae = err.abs().mean()\n",
    "    mse = math.sqrt(sq_err.mean())\n",
    "    mape = (err.abs() / label_new).mean()\n",
    "    dar = (err.abs() <= label_new * 0.2).mean()\n",
    "    bigger = (err > 0.2 * label_new).mean()\n",
    "    smaller = (err < -0.2 * label_new).mean()\n",
    "    \n",
    "    return mae, mse, mape, dar, smaller, bigger\n",
    "\n",
    "mae, mse, mape, dar, smaller, bigger = calc_eval_new(pred3, label3)\n",
    "print(\",\".join(map(str, [mae, mse, mape, dar, smaller, bigger])))"
   ]
  },
  {
   "cell_type": "code",
   "execution_count": 187,
   "metadata": {},
   "outputs": [
    {
     "data": {
      "text/html": [
       "<div>\n",
       "<style scoped>\n",
       "    .dataframe tbody tr th:only-of-type {\n",
       "        vertical-align: middle;\n",
       "    }\n",
       "\n",
       "    .dataframe tbody tr th {\n",
       "        vertical-align: top;\n",
       "    }\n",
       "\n",
       "    .dataframe thead th {\n",
       "        text-align: right;\n",
       "    }\n",
       "</style>\n",
       "<table border=\"1\" class=\"dataframe\">\n",
       "  <thead>\n",
       "    <tr style=\"text-align: right;\">\n",
       "      <th></th>\n",
       "      <th>d+0</th>\n",
       "      <th>d+1</th>\n",
       "      <th>d+2</th>\n",
       "      <th>identifier</th>\n",
       "      <th>t+0</th>\n",
       "      <th>t+1</th>\n",
       "      <th>t+2</th>\n",
       "    </tr>\n",
       "  </thead>\n",
       "  <tbody>\n",
       "    <tr>\n",
       "      <th>0</th>\n",
       "      <td>4.500000e+01</td>\n",
       "      <td>2.300000e+01</td>\n",
       "      <td>1.000000e+01</td>\n",
       "      <td>413104</td>\n",
       "      <td>25.994993</td>\n",
       "      <td>20.218733</td>\n",
       "      <td>26.200035</td>\n",
       "    </tr>\n",
       "    <tr>\n",
       "      <th>1</th>\n",
       "      <td>2.000000e+01</td>\n",
       "      <td>3.000000e+00</td>\n",
       "      <td>4.300000e+01</td>\n",
       "      <td>413218</td>\n",
       "      <td>20.030603</td>\n",
       "      <td>22.427240</td>\n",
       "      <td>12.432266</td>\n",
       "    </tr>\n",
       "    <tr>\n",
       "      <th>2</th>\n",
       "      <td>3.200000e+01</td>\n",
       "      <td>2.320000e+01</td>\n",
       "      <td>1.790000e+01</td>\n",
       "      <td>509119</td>\n",
       "      <td>37.159157</td>\n",
       "      <td>15.062928</td>\n",
       "      <td>13.101579</td>\n",
       "    </tr>\n",
       "    <tr>\n",
       "      <th>3</th>\n",
       "      <td>2.000000e+00</td>\n",
       "      <td>0.000000e+00</td>\n",
       "      <td>1.000000e+00</td>\n",
       "      <td>808255</td>\n",
       "      <td>0.960247</td>\n",
       "      <td>1.203756</td>\n",
       "      <td>1.216402</td>\n",
       "    </tr>\n",
       "    <tr>\n",
       "      <th>4</th>\n",
       "      <td>1.000000e+00</td>\n",
       "      <td>0.000000e+00</td>\n",
       "      <td>0.000000e+00</td>\n",
       "      <td>808738</td>\n",
       "      <td>0.721068</td>\n",
       "      <td>0.128800</td>\n",
       "      <td>0.931829</td>\n",
       "    </tr>\n",
       "    <tr>\n",
       "      <th>...</th>\n",
       "      <td>...</td>\n",
       "      <td>...</td>\n",
       "      <td>...</td>\n",
       "      <td>...</td>\n",
       "      <td>...</td>\n",
       "      <td>...</td>\n",
       "      <td>...</td>\n",
       "    </tr>\n",
       "    <tr>\n",
       "      <th>995</th>\n",
       "      <td>-1.387779e-17</td>\n",
       "      <td>-1.387779e-17</td>\n",
       "      <td>-1.387779e-17</td>\n",
       "      <td>113753019</td>\n",
       "      <td>-0.047956</td>\n",
       "      <td>-0.053987</td>\n",
       "      <td>-0.120222</td>\n",
       "    </tr>\n",
       "    <tr>\n",
       "      <th>996</th>\n",
       "      <td>4.000000e+00</td>\n",
       "      <td>1.000000e+00</td>\n",
       "      <td>2.000000e+00</td>\n",
       "      <td>113768115</td>\n",
       "      <td>2.461504</td>\n",
       "      <td>2.112512</td>\n",
       "      <td>1.728579</td>\n",
       "    </tr>\n",
       "    <tr>\n",
       "      <th>997</th>\n",
       "      <td>4.000000e+00</td>\n",
       "      <td>4.000000e+00</td>\n",
       "      <td>1.000000e+00</td>\n",
       "      <td>114069023</td>\n",
       "      <td>10.472158</td>\n",
       "      <td>7.217155</td>\n",
       "      <td>22.809372</td>\n",
       "    </tr>\n",
       "    <tr>\n",
       "      <th>998</th>\n",
       "      <td>2.000000e+00</td>\n",
       "      <td>1.000000e+00</td>\n",
       "      <td>2.000000e+00</td>\n",
       "      <td>114069136</td>\n",
       "      <td>4.228868</td>\n",
       "      <td>4.408438</td>\n",
       "      <td>1.915410</td>\n",
       "    </tr>\n",
       "    <tr>\n",
       "      <th>999</th>\n",
       "      <td>2.000000e+00</td>\n",
       "      <td>6.000000e+00</td>\n",
       "      <td>3.000000e+00</td>\n",
       "      <td>114426028</td>\n",
       "      <td>3.245931</td>\n",
       "      <td>1.893974</td>\n",
       "      <td>1.596875</td>\n",
       "    </tr>\n",
       "  </tbody>\n",
       "</table>\n",
       "<p>1000 rows × 7 columns</p>\n",
       "</div>"
      ],
      "text/plain": [
       "              d+0           d+1           d+2  identifier        t+0  \\\n",
       "0    4.500000e+01  2.300000e+01  1.000000e+01      413104  25.994993   \n",
       "1    2.000000e+01  3.000000e+00  4.300000e+01      413218  20.030603   \n",
       "2    3.200000e+01  2.320000e+01  1.790000e+01      509119  37.159157   \n",
       "3    2.000000e+00  0.000000e+00  1.000000e+00      808255   0.960247   \n",
       "4    1.000000e+00  0.000000e+00  0.000000e+00      808738   0.721068   \n",
       "..            ...           ...           ...         ...        ...   \n",
       "995 -1.387779e-17 -1.387779e-17 -1.387779e-17   113753019  -0.047956   \n",
       "996  4.000000e+00  1.000000e+00  2.000000e+00   113768115   2.461504   \n",
       "997  4.000000e+00  4.000000e+00  1.000000e+00   114069023  10.472158   \n",
       "998  2.000000e+00  1.000000e+00  2.000000e+00   114069136   4.228868   \n",
       "999  2.000000e+00  6.000000e+00  3.000000e+00   114426028   3.245931   \n",
       "\n",
       "           t+1        t+2  \n",
       "0    20.218733  26.200035  \n",
       "1    22.427240  12.432266  \n",
       "2    15.062928  13.101579  \n",
       "3     1.203756   1.216402  \n",
       "4     0.128800   0.931829  \n",
       "..         ...        ...  \n",
       "995  -0.053987  -0.120222  \n",
       "996   2.112512   1.728579  \n",
       "997   7.217155  22.809372  \n",
       "998   4.408438   1.915410  \n",
       "999   1.893974   1.596875  \n",
       "\n",
       "[1000 rows x 7 columns]"
      ]
     },
     "execution_count": 187,
     "metadata": {},
     "output_type": "execute_result"
    }
   ],
   "source": [
    "def extract_poi_sku(x):\n",
    "    poi_id = x % 1000\n",
    "    base_sku_id = \n",
    "    \n",
    "data_merge[\"identifier\"].apply(lambda x: extract_poi_sku(x))"
   ]
  },
  {
   "cell_type": "code",
   "execution_count": null,
   "metadata": {},
   "outputs": [],
   "source": []
  },
  {
   "cell_type": "code",
   "execution_count": null,
   "metadata": {},
   "outputs": [],
   "source": []
  },
  {
   "cell_type": "code",
   "execution_count": null,
   "metadata": {},
   "outputs": [],
   "source": []
  },
  {
   "cell_type": "code",
   "execution_count": 125,
   "metadata": {},
   "outputs": [],
   "source": [
    "def eval_test():\n",
    "    max_samples = 1000\n",
    "    test_elect = ts_dataset.TSDataset(fixed_params, max_samples, test)\n",
    "    loader = DataLoader(\n",
    "            test_elect,\n",
    "            batch_size=fixed_params['minibatch_size'],\n",
    "            num_workers=2,\n",
    "            shuffle=False\n",
    "        )\n",
    "    \n",
    "    total_outputs = []\n",
    "    total_ids = []\n",
    "    total_times = []\n",
    "    total_labels = []\n",
    "    for batch in loader:\n",
    "        test_inputs = batch[\"inputs\"]\n",
    "        test_outputs = batch[\"outputs\"]\n",
    "        active_entries = batch[\"active_entries\"]\n",
    "        time = batch[\"time\"]\n",
    "        identifier = batch[\"identifier\"]\n",
    "        \n",
    "        output, all_inputs, attention_components = model(test_inputs)\n",
    "        \n",
    "        total_labels.append(test_outputs)\n",
    "        total_outputs.append(output)\n",
    "        total_ids.append(identifier)\n",
    "        total_times.append(time)\n",
    "    return total_ids, total_times, total_outputs, total_labels"
   ]
  },
  {
   "cell_type": "code",
   "execution_count": 126,
   "metadata": {},
   "outputs": [
    {
     "name": "stdout",
     "output_type": "stream",
     "text": [
      "Getting valid sampling locations.\n",
      "# available segments=2000\n",
      "Extracting 1000 samples...\n",
      "1000 of 1000 samples done...\n",
      "all_inputs:torch.Size([64, 24, 19]), unknown_inputs:None, known_combined_layer:torch.Size([64, 24, 160, 11]), obs_inputs:torch.Size([64, 24, 160, 1]), static_inputs:torch.Size([64, 7, 160])\n"
     ]
    },
    {
     "name": "stderr",
     "output_type": "stream",
     "text": [
      "/Users/liuxufeng/github/tft/Temporal_Fusion_Transform/layers/scaled_dot_product_attention.py:35: UserWarning: To copy construct from a tensor, it is recommended to use sourceTensor.clone().detach() or sourceTensor.clone().detach().requires_grad_(True), rather than torch.tensor(sourceTensor).\n",
      "  mmask = (-1e+9) * (1. - torch.tensor(mask, dtype=torch.float).to(self.device)) # setting to infinity\n"
     ]
    },
    {
     "name": "stdout",
     "output_type": "stream",
     "text": [
      "all_inputs:torch.Size([64, 24, 19]), unknown_inputs:None, known_combined_layer:torch.Size([64, 24, 160, 11]), obs_inputs:torch.Size([64, 24, 160, 1]), static_inputs:torch.Size([64, 7, 160])\n",
      "all_inputs:torch.Size([64, 24, 19]), unknown_inputs:None, known_combined_layer:torch.Size([64, 24, 160, 11]), obs_inputs:torch.Size([64, 24, 160, 1]), static_inputs:torch.Size([64, 7, 160])\n",
      "all_inputs:torch.Size([64, 24, 19]), unknown_inputs:None, known_combined_layer:torch.Size([64, 24, 160, 11]), obs_inputs:torch.Size([64, 24, 160, 1]), static_inputs:torch.Size([64, 7, 160])\n",
      "all_inputs:torch.Size([64, 24, 19]), unknown_inputs:None, known_combined_layer:torch.Size([64, 24, 160, 11]), obs_inputs:torch.Size([64, 24, 160, 1]), static_inputs:torch.Size([64, 7, 160])\n",
      "all_inputs:torch.Size([64, 24, 19]), unknown_inputs:None, known_combined_layer:torch.Size([64, 24, 160, 11]), obs_inputs:torch.Size([64, 24, 160, 1]), static_inputs:torch.Size([64, 7, 160])\n",
      "all_inputs:torch.Size([64, 24, 19]), unknown_inputs:None, known_combined_layer:torch.Size([64, 24, 160, 11]), obs_inputs:torch.Size([64, 24, 160, 1]), static_inputs:torch.Size([64, 7, 160])\n",
      "all_inputs:torch.Size([64, 24, 19]), unknown_inputs:None, known_combined_layer:torch.Size([64, 24, 160, 11]), obs_inputs:torch.Size([64, 24, 160, 1]), static_inputs:torch.Size([64, 7, 160])\n",
      "all_inputs:torch.Size([64, 24, 19]), unknown_inputs:None, known_combined_layer:torch.Size([64, 24, 160, 11]), obs_inputs:torch.Size([64, 24, 160, 1]), static_inputs:torch.Size([64, 7, 160])\n",
      "all_inputs:torch.Size([64, 24, 19]), unknown_inputs:None, known_combined_layer:torch.Size([64, 24, 160, 11]), obs_inputs:torch.Size([64, 24, 160, 1]), static_inputs:torch.Size([64, 7, 160])\n",
      "all_inputs:torch.Size([64, 24, 19]), unknown_inputs:None, known_combined_layer:torch.Size([64, 24, 160, 11]), obs_inputs:torch.Size([64, 24, 160, 1]), static_inputs:torch.Size([64, 7, 160])\n",
      "all_inputs:torch.Size([64, 24, 19]), unknown_inputs:None, known_combined_layer:torch.Size([64, 24, 160, 11]), obs_inputs:torch.Size([64, 24, 160, 1]), static_inputs:torch.Size([64, 7, 160])\n",
      "all_inputs:torch.Size([64, 24, 19]), unknown_inputs:None, known_combined_layer:torch.Size([64, 24, 160, 11]), obs_inputs:torch.Size([64, 24, 160, 1]), static_inputs:torch.Size([64, 7, 160])\n",
      "all_inputs:torch.Size([64, 24, 19]), unknown_inputs:None, known_combined_layer:torch.Size([64, 24, 160, 11]), obs_inputs:torch.Size([64, 24, 160, 1]), static_inputs:torch.Size([64, 7, 160])\n",
      "all_inputs:torch.Size([64, 24, 19]), unknown_inputs:None, known_combined_layer:torch.Size([64, 24, 160, 11]), obs_inputs:torch.Size([64, 24, 160, 1]), static_inputs:torch.Size([64, 7, 160])\n",
      "all_inputs:torch.Size([40, 24, 19]), unknown_inputs:None, known_combined_layer:torch.Size([40, 24, 160, 11]), obs_inputs:torch.Size([40, 24, 160, 1]), static_inputs:torch.Size([40, 7, 160])\n"
     ]
    }
   ],
   "source": [
    "total_ids, total_times, total_outputs, total_labels = eval_test()"
   ]
  },
  {
   "cell_type": "code",
   "execution_count": 128,
   "metadata": {},
   "outputs": [],
   "source": [
    "total_outputs = torch.cat(total_outputs, dim = 0)\n",
    "total_labels = torch.cat(total_labels, dim = 0)"
   ]
  },
  {
   "cell_type": "code",
   "execution_count": 139,
   "metadata": {},
   "outputs": [
    {
     "data": {
      "text/plain": [
       "(torch.Size([1000, 3, 1]), torch.Size([1000, 3, 1]))"
      ]
     },
     "execution_count": 139,
     "metadata": {},
     "output_type": "execute_result"
    }
   ],
   "source": [
    "total_outputs.shape, total_labels.shape"
   ]
  },
  {
   "cell_type": "code",
   "execution_count": null,
   "metadata": {},
   "outputs": [],
   "source": []
  },
  {
   "cell_type": "code",
   "execution_count": null,
   "metadata": {},
   "outputs": [],
   "source": []
  },
  {
   "cell_type": "code",
   "execution_count": 123,
   "metadata": {},
   "outputs": [
    {
     "data": {
      "text/plain": [
       "(torch.Size([24, 19]), torch.Size([3, 1]))"
      ]
     },
     "execution_count": 123,
     "metadata": {},
     "output_type": "execute_result"
    }
   ],
   "source": [
    "test_inputs[0].shape, test_outputs[0].shape"
   ]
  },
  {
   "cell_type": "code",
   "execution_count": 114,
   "metadata": {},
   "outputs": [],
   "source": [
    "all_predictions = pd.concat(dfs)\n"
   ]
  },
  {
   "cell_type": "code",
   "execution_count": 116,
   "metadata": {},
   "outputs": [],
   "source": [
    "all_predictions_unnormalized = data_formatter.format_predictions(all_predictions)"
   ]
  },
  {
   "cell_type": "code",
   "execution_count": 117,
   "metadata": {},
   "outputs": [
    {
     "data": {
      "text/html": [
       "<div>\n",
       "<style scoped>\n",
       "    .dataframe tbody tr th:only-of-type {\n",
       "        vertical-align: middle;\n",
       "    }\n",
       "\n",
       "    .dataframe tbody tr th {\n",
       "        vertical-align: top;\n",
       "    }\n",
       "\n",
       "    .dataframe thead th {\n",
       "        text-align: right;\n",
       "    }\n",
       "</style>\n",
       "<table border=\"1\" class=\"dataframe\">\n",
       "  <thead>\n",
       "    <tr style=\"text-align: right;\">\n",
       "      <th></th>\n",
       "      <th>t+0</th>\n",
       "      <th>t+1</th>\n",
       "      <th>t+2</th>\n",
       "      <th>identifier</th>\n",
       "    </tr>\n",
       "  </thead>\n",
       "  <tbody>\n",
       "    <tr>\n",
       "      <th>1</th>\n",
       "      <td>1.447912</td>\n",
       "      <td>0.604474</td>\n",
       "      <td>0.420541</td>\n",
       "      <td>108073</td>\n",
       "    </tr>\n",
       "    <tr>\n",
       "      <th>1</th>\n",
       "      <td>1.447912</td>\n",
       "      <td>0.604474</td>\n",
       "      <td>0.420541</td>\n",
       "      <td>108073</td>\n",
       "    </tr>\n",
       "    <tr>\n",
       "      <th>2</th>\n",
       "      <td>25.293655</td>\n",
       "      <td>20.793457</td>\n",
       "      <td>26.033073</td>\n",
       "      <td>413104</td>\n",
       "    </tr>\n",
       "    <tr>\n",
       "      <th>2</th>\n",
       "      <td>25.293655</td>\n",
       "      <td>20.793457</td>\n",
       "      <td>26.033073</td>\n",
       "      <td>413104</td>\n",
       "    </tr>\n",
       "    <tr>\n",
       "      <th>56</th>\n",
       "      <td>3.147585</td>\n",
       "      <td>6.375054</td>\n",
       "      <td>2.659672</td>\n",
       "      <td>420314</td>\n",
       "    </tr>\n",
       "    <tr>\n",
       "      <th>...</th>\n",
       "      <td>...</td>\n",
       "      <td>...</td>\n",
       "      <td>...</td>\n",
       "      <td>...</td>\n",
       "    </tr>\n",
       "    <tr>\n",
       "      <th>12</th>\n",
       "      <td>3.159654</td>\n",
       "      <td>2.049625</td>\n",
       "      <td>1.684893</td>\n",
       "      <td>114426028</td>\n",
       "    </tr>\n",
       "    <tr>\n",
       "      <th>11</th>\n",
       "      <td>6.575827</td>\n",
       "      <td>8.866814</td>\n",
       "      <td>5.264314</td>\n",
       "      <td>114481117</td>\n",
       "    </tr>\n",
       "    <tr>\n",
       "      <th>11</th>\n",
       "      <td>6.575827</td>\n",
       "      <td>8.866814</td>\n",
       "      <td>5.264314</td>\n",
       "      <td>114481117</td>\n",
       "    </tr>\n",
       "    <tr>\n",
       "      <th>26</th>\n",
       "      <td>7.068996</td>\n",
       "      <td>5.720604</td>\n",
       "      <td>5.754289</td>\n",
       "      <td>114483086</td>\n",
       "    </tr>\n",
       "    <tr>\n",
       "      <th>26</th>\n",
       "      <td>7.068996</td>\n",
       "      <td>5.720604</td>\n",
       "      <td>5.754289</td>\n",
       "      <td>114483086</td>\n",
       "    </tr>\n",
       "  </tbody>\n",
       "</table>\n",
       "<p>2000 rows × 4 columns</p>\n",
       "</div>"
      ],
      "text/plain": [
       "          t+0        t+1        t+2  identifier\n",
       "1    1.447912   0.604474   0.420541      108073\n",
       "1    1.447912   0.604474   0.420541      108073\n",
       "2   25.293655  20.793457  26.033073      413104\n",
       "2   25.293655  20.793457  26.033073      413104\n",
       "56   3.147585   6.375054   2.659672      420314\n",
       "..        ...        ...        ...         ...\n",
       "12   3.159654   2.049625   1.684893   114426028\n",
       "11   6.575827   8.866814   5.264314   114481117\n",
       "11   6.575827   8.866814   5.264314   114481117\n",
       "26   7.068996   5.720604   5.754289   114483086\n",
       "26   7.068996   5.720604   5.754289   114483086\n",
       "\n",
       "[2000 rows x 4 columns]"
      ]
     },
     "execution_count": 117,
     "metadata": {},
     "output_type": "execute_result"
    }
   ],
   "source": [
    "all_predictions_unnormalized"
   ]
  },
  {
   "cell_type": "code",
   "execution_count": 118,
   "metadata": {},
   "outputs": [
    {
     "data": {
      "text/html": [
       "<div>\n",
       "<style scoped>\n",
       "    .dataframe tbody tr th:only-of-type {\n",
       "        vertical-align: middle;\n",
       "    }\n",
       "\n",
       "    .dataframe tbody tr th {\n",
       "        vertical-align: top;\n",
       "    }\n",
       "\n",
       "    .dataframe thead th {\n",
       "        text-align: right;\n",
       "    }\n",
       "</style>\n",
       "<table border=\"1\" class=\"dataframe\">\n",
       "  <thead>\n",
       "    <tr style=\"text-align: right;\">\n",
       "      <th></th>\n",
       "      <th>t+0</th>\n",
       "      <th>t+1</th>\n",
       "      <th>t+2</th>\n",
       "      <th>identifier</th>\n",
       "    </tr>\n",
       "  </thead>\n",
       "  <tbody>\n",
       "    <tr>\n",
       "      <th>0</th>\n",
       "      <td>-0.358150</td>\n",
       "      <td>0.708421</td>\n",
       "      <td>-0.209241</td>\n",
       "      <td>1652849</td>\n",
       "    </tr>\n",
       "    <tr>\n",
       "      <th>1</th>\n",
       "      <td>0.059971</td>\n",
       "      <td>-0.201864</td>\n",
       "      <td>-0.611625</td>\n",
       "      <td>75892085</td>\n",
       "    </tr>\n",
       "    <tr>\n",
       "      <th>2</th>\n",
       "      <td>0.042736</td>\n",
       "      <td>-0.159291</td>\n",
       "      <td>-0.698141</td>\n",
       "      <td>1652187</td>\n",
       "    </tr>\n",
       "    <tr>\n",
       "      <th>3</th>\n",
       "      <td>0.753680</td>\n",
       "      <td>-0.578848</td>\n",
       "      <td>-0.177355</td>\n",
       "      <td>93159251</td>\n",
       "    </tr>\n",
       "    <tr>\n",
       "      <th>4</th>\n",
       "      <td>-2.168302</td>\n",
       "      <td>-0.788183</td>\n",
       "      <td>-0.758809</td>\n",
       "      <td>108681072</td>\n",
       "    </tr>\n",
       "    <tr>\n",
       "      <th>...</th>\n",
       "      <td>...</td>\n",
       "      <td>...</td>\n",
       "      <td>...</td>\n",
       "      <td>...</td>\n",
       "    </tr>\n",
       "    <tr>\n",
       "      <th>35</th>\n",
       "      <td>-0.189255</td>\n",
       "      <td>1.650724</td>\n",
       "      <td>-0.228383</td>\n",
       "      <td>102980315</td>\n",
       "    </tr>\n",
       "    <tr>\n",
       "      <th>36</th>\n",
       "      <td>0.894870</td>\n",
       "      <td>1.424569</td>\n",
       "      <td>0.231653</td>\n",
       "      <td>98612022</td>\n",
       "    </tr>\n",
       "    <tr>\n",
       "      <th>37</th>\n",
       "      <td>0.279898</td>\n",
       "      <td>0.039603</td>\n",
       "      <td>-0.398327</td>\n",
       "      <td>75439125</td>\n",
       "    </tr>\n",
       "    <tr>\n",
       "      <th>38</th>\n",
       "      <td>-0.267423</td>\n",
       "      <td>-0.311166</td>\n",
       "      <td>-0.676533</td>\n",
       "      <td>75823231</td>\n",
       "    </tr>\n",
       "    <tr>\n",
       "      <th>39</th>\n",
       "      <td>0.998368</td>\n",
       "      <td>1.892653</td>\n",
       "      <td>0.615861</td>\n",
       "      <td>102980333</td>\n",
       "    </tr>\n",
       "  </tbody>\n",
       "</table>\n",
       "<p>2000 rows × 4 columns</p>\n",
       "</div>"
      ],
      "text/plain": [
       "         t+0       t+1       t+2  identifier\n",
       "0  -0.358150  0.708421 -0.209241     1652849\n",
       "1   0.059971 -0.201864 -0.611625    75892085\n",
       "2   0.042736 -0.159291 -0.698141     1652187\n",
       "3   0.753680 -0.578848 -0.177355    93159251\n",
       "4  -2.168302 -0.788183 -0.758809   108681072\n",
       "..       ...       ...       ...         ...\n",
       "35 -0.189255  1.650724 -0.228383   102980315\n",
       "36  0.894870  1.424569  0.231653    98612022\n",
       "37  0.279898  0.039603 -0.398327    75439125\n",
       "38 -0.267423 -0.311166 -0.676533    75823231\n",
       "39  0.998368  1.892653  0.615861   102980333\n",
       "\n",
       "[2000 rows x 4 columns]"
      ]
     },
     "execution_count": 118,
     "metadata": {},
     "output_type": "execute_result"
    }
   ],
   "source": [
    "all_predictions"
   ]
  },
  {
   "cell_type": "code",
   "execution_count": 65,
   "metadata": {},
   "outputs": [
    {
     "data": {
      "text/plain": [
       "(24, torch.Size([64, 3, 1]), torch.Size([64, 3, 1]))"
      ]
     },
     "execution_count": 65,
     "metadata": {},
     "output_type": "execute_result"
    }
   ],
   "source": [
    "len(test_ids[0]), test_outputs[0].shape, test_labels[0].shape"
   ]
  },
  {
   "cell_type": "code",
   "execution_count": 73,
   "metadata": {},
   "outputs": [
    {
     "data": {
      "text/plain": [
       "torch.Size([64])"
      ]
     },
     "execution_count": 73,
     "metadata": {},
     "output_type": "execute_result"
    }
   ],
   "source": [
    "test_ids[0][0][0].shape"
   ]
  },
  {
   "cell_type": "code",
   "execution_count": 74,
   "metadata": {},
   "outputs": [
    {
     "name": "stdout",
     "output_type": "stream",
     "text": [
      "Getting valid sampling locations.\n",
      "# available segments=2000\n",
      "Extracting 128 samples...\n"
     ]
    }
   ],
   "source": [
    "test_elect = ts_dataset.TSDataset(fixed_params, max_samples, test)"
   ]
  },
  {
   "cell_type": "code",
   "execution_count": 75,
   "metadata": {},
   "outputs": [],
   "source": [
    "t1 = next(iter(test_elect))"
   ]
  },
  {
   "cell_type": "code",
   "execution_count": 76,
   "metadata": {},
   "outputs": [
    {
     "data": {
      "text/plain": [
       "dict_keys(['inputs', 'outputs', 'active_entries', 'time', 'identifier'])"
      ]
     },
     "execution_count": 76,
     "metadata": {},
     "output_type": "execute_result"
    }
   ],
   "source": [
    "t1.keys()"
   ]
  },
  {
   "cell_type": "code",
   "execution_count": 78,
   "metadata": {},
   "outputs": [
    {
     "data": {
      "text/plain": [
       "24"
      ]
     },
     "execution_count": 78,
     "metadata": {},
     "output_type": "execute_result"
    }
   ],
   "source": [
    "len(t1[\"identifier\"])"
   ]
  },
  {
   "cell_type": "code",
   "execution_count": 93,
   "metadata": {},
   "outputs": [
    {
     "data": {
      "text/plain": [
       "19"
      ]
     },
     "execution_count": 93,
     "metadata": {},
     "output_type": "execute_result"
    }
   ],
   "source": [
    "model.input_size"
   ]
  },
  {
   "cell_type": "code",
   "execution_count": 79,
   "metadata": {},
   "outputs": [
    {
     "data": {
      "text/plain": [
       "(24, 19)"
      ]
     },
     "execution_count": 79,
     "metadata": {},
     "output_type": "execute_result"
    }
   ],
   "source": [
    "t1[\"inputs\"].shape"
   ]
  },
  {
   "cell_type": "code",
   "execution_count": 89,
   "metadata": {},
   "outputs": [
    {
     "data": {
      "text/plain": [
       "array([[-2.61499933e-01,  6.53720450e-02,  1.06903718e+00,\n",
       "        -2.00897061e+00, -2.10058102e-01, -3.45032780e-01,\n",
       "        -3.06877460e-01,  4.00000000e+00,  2.43000000e+02,\n",
       "         5.47000000e+02,  0.00000000e+00,  9.00000000e+00,\n",
       "         1.00000000e+00,  1.60000000e+01,  1.00000000e+00,\n",
       "         0.00000000e+00,  2.00000000e+00,  8.00000000e+00,\n",
       "         0.00000000e+00],\n",
       "       [ 1.25584536e+00,  6.53720450e-02,  1.57655988e+00,\n",
       "        -1.28543330e+00, -2.10058102e-01, -3.45032780e-01,\n",
       "        -3.06877460e-01,  4.00000000e+00,  2.43000000e+02,\n",
       "         5.47000000e+02,  0.00000000e+00,  9.00000000e+00,\n",
       "         1.00000000e+00,  1.60000000e+01,  0.00000000e+00,\n",
       "         0.00000000e+00,  0.00000000e+00,  7.00000000e+00,\n",
       "         0.00000000e+00],\n",
       "       [ 4.97172712e-01,  6.53720450e-02, -1.46857632e+00,\n",
       "         7.04294294e-01, -2.10058102e-01,  2.89827535e+00,\n",
       "         4.21124610e+00,  4.00000000e+00,  2.43000000e+02,\n",
       "         5.47000000e+02,  0.00000000e+00,  9.00000000e+00,\n",
       "         1.00000000e+00,  1.60000000e+01,  0.00000000e+00,\n",
       "         1.00000000e+00,  0.00000000e+00,  7.00000000e+00,\n",
       "         0.00000000e+00],\n",
       "       [-2.61499933e-01, -1.47087101e+00, -9.61053623e-01,\n",
       "         1.24694728e+00, -2.10058102e-01, -3.45032780e-01,\n",
       "        -3.06877460e-01,  4.00000000e+00,  2.43000000e+02,\n",
       "         5.47000000e+02,  0.00000000e+00,  9.00000000e+00,\n",
       "         1.00000000e+00,  1.60000000e+01,  1.00000000e+00,\n",
       "         0.00000000e+00,  1.00000000e+00,  1.40000000e+01,\n",
       "         0.00000000e+00],\n",
       "       [-1.02017258e+00,  6.53720450e-02, -4.53530923e-01,\n",
       "         1.60871593e+00, -2.10058102e-01, -3.45032780e-01,\n",
       "        -3.06877460e-01,  4.00000000e+00,  2.43000000e+02,\n",
       "         5.47000000e+02,  0.00000000e+00,  9.00000000e+00,\n",
       "         1.00000000e+00,  1.60000000e+01,  0.00000000e+00,\n",
       "         0.00000000e+00,  1.00000000e+00,  4.00000000e+00,\n",
       "         0.00000000e+00],\n",
       "       [-2.61499933e-01,  6.53720450e-02,  5.39917766e-02,\n",
       "         7.04294294e-01, -2.10058102e-01, -3.45032780e-01,\n",
       "        -3.06877460e-01,  4.00000000e+00,  2.43000000e+02,\n",
       "         5.47000000e+02,  0.00000000e+00,  9.00000000e+00,\n",
       "         1.00000000e+00,  1.60000000e+01,  1.00000000e+00,\n",
       "         0.00000000e+00,  1.00000000e+00,  1.40000000e+01,\n",
       "         0.00000000e+00],\n",
       "       [ 2.01451800e+00, -1.47087101e+00,  5.61514477e-01,\n",
       "         5.23409967e-01, -2.10058102e-01,  2.89827535e+00,\n",
       "         4.03747212e+00,  4.00000000e+00,  2.43000000e+02,\n",
       "         5.47000000e+02,  0.00000000e+00,  9.00000000e+00,\n",
       "         1.00000000e+00,  1.60000000e+01,  0.00000000e+00,\n",
       "         0.00000000e+00,  0.00000000e+00,  7.00000000e+00,\n",
       "         0.00000000e+00],\n",
       "       [-1.02017258e+00,  6.53720450e-02,  1.06903718e+00,\n",
       "         5.23409967e-01, -2.10058102e-01, -3.45032780e-01,\n",
       "        -3.06877460e-01,  4.00000000e+00,  2.43000000e+02,\n",
       "         5.47000000e+02,  0.00000000e+00,  9.00000000e+00,\n",
       "         1.00000000e+00,  1.60000000e+01,  0.00000000e+00,\n",
       "         0.00000000e+00,  0.00000000e+00,  7.00000000e+00,\n",
       "         0.00000000e+00],\n",
       "       [-2.61499933e-01, -1.47087101e+00,  1.57655988e+00,\n",
       "         1.06606295e+00, -2.10058102e-01, -3.45032780e-01,\n",
       "        -3.06877460e-01,  4.00000000e+00,  2.43000000e+02,\n",
       "         5.47000000e+02,  0.00000000e+00,  9.00000000e+00,\n",
       "         1.00000000e+00,  1.60000000e+01,  0.00000000e+00,\n",
       "         0.00000000e+00,  2.00000000e+00,  8.00000000e+00,\n",
       "         0.00000000e+00],\n",
       "       [ 1.25584536e+00,  6.53720450e-02, -1.46857632e+00,\n",
       "         7.04294294e-01, -2.10058102e-01, -3.45032780e-01,\n",
       "        -3.06877460e-01,  4.00000000e+00,  2.43000000e+02,\n",
       "         5.47000000e+02,  0.00000000e+00,  9.00000000e+00,\n",
       "         1.00000000e+00,  1.60000000e+01,  0.00000000e+00,\n",
       "         0.00000000e+00,  0.00000000e+00,  7.00000000e+00,\n",
       "         0.00000000e+00],\n",
       "       [-2.61499933e-01,  6.53720450e-02, -9.61053623e-01,\n",
       "         1.06606295e+00, -2.10058102e-01, -3.45032780e-01,\n",
       "        -3.06877460e-01,  4.00000000e+00,  2.43000000e+02,\n",
       "         5.47000000e+02,  0.00000000e+00,  9.00000000e+00,\n",
       "         1.00000000e+00,  1.60000000e+01,  0.00000000e+00,\n",
       "         0.00000000e+00,  0.00000000e+00,  7.00000000e+00,\n",
       "         0.00000000e+00],\n",
       "       [-1.02017258e+00,  6.53720450e-02, -4.53530923e-01,\n",
       "         8.85178621e-01, -2.10058102e-01, -3.45032780e-01,\n",
       "        -3.06877460e-01,  4.00000000e+00,  2.43000000e+02,\n",
       "         5.47000000e+02,  0.00000000e+00,  9.00000000e+00,\n",
       "         1.00000000e+00,  1.60000000e+01,  0.00000000e+00,\n",
       "         0.00000000e+00,  0.00000000e+00,  7.00000000e+00,\n",
       "         0.00000000e+00],\n",
       "       [-1.02017258e+00,  6.53720450e-02,  5.39917766e-02,\n",
       "         8.85178621e-01, -2.10058102e-01, -3.45032780e-01,\n",
       "        -3.06877460e-01,  4.00000000e+00,  2.43000000e+02,\n",
       "         5.47000000e+02,  0.00000000e+00,  9.00000000e+00,\n",
       "         1.00000000e+00,  1.60000000e+01,  0.00000000e+00,\n",
       "         0.00000000e+00,  2.00000000e+00,  8.00000000e+00,\n",
       "         0.00000000e+00],\n",
       "       [-2.61499933e-01,  1.60161510e+00,  5.61514477e-01,\n",
       "         5.23409967e-01, -2.10058102e-01, -3.45032780e-01,\n",
       "        -3.06877460e-01,  4.00000000e+00,  2.43000000e+02,\n",
       "         5.47000000e+02,  0.00000000e+00,  9.00000000e+00,\n",
       "         1.00000000e+00,  1.60000000e+01,  0.00000000e+00,\n",
       "         0.00000000e+00,  0.00000000e+00,  7.00000000e+00,\n",
       "         0.00000000e+00],\n",
       "       [ 1.25584536e+00, -1.47087101e+00,  1.06903718e+00,\n",
       "         8.85178621e-01, -2.10058102e-01, -3.45032780e-01,\n",
       "        -3.06877460e-01,  4.00000000e+00,  2.43000000e+02,\n",
       "         5.47000000e+02,  0.00000000e+00,  9.00000000e+00,\n",
       "         1.00000000e+00,  1.60000000e+01,  0.00000000e+00,\n",
       "         0.00000000e+00,  0.00000000e+00,  7.00000000e+00,\n",
       "         0.00000000e+00],\n",
       "       [-1.02017258e+00,  6.53720450e-02,  1.57655988e+00,\n",
       "         7.04294294e-01, -2.10058102e-01, -3.45032780e-01,\n",
       "        -3.06877460e-01,  4.00000000e+00,  2.43000000e+02,\n",
       "         5.47000000e+02,  0.00000000e+00,  9.00000000e+00,\n",
       "         1.00000000e+00,  1.60000000e+01,  0.00000000e+00,\n",
       "         0.00000000e+00,  1.00000000e+00,  1.40000000e+01,\n",
       "         0.00000000e+00],\n",
       "       [ 4.97172712e-01,  6.53720450e-02, -1.46857632e+00,\n",
       "         7.04294294e-01, -2.10058102e-01, -3.45032780e-01,\n",
       "        -3.06877460e-01,  4.00000000e+00,  2.43000000e+02,\n",
       "         5.47000000e+02,  0.00000000e+00,  9.00000000e+00,\n",
       "         1.00000000e+00,  1.60000000e+01,  1.00000000e+00,\n",
       "         1.00000000e+00,  1.00000000e+00,  1.40000000e+01,\n",
       "         0.00000000e+00],\n",
       "       [ 4.97172712e-01,  6.53720450e-02, -9.61053623e-01,\n",
       "         3.42525640e-01, -2.10058102e-01, -3.45032780e-01,\n",
       "        -3.06877460e-01,  4.00000000e+00,  2.43000000e+02,\n",
       "         5.47000000e+02,  0.00000000e+00,  9.00000000e+00,\n",
       "         1.00000000e+00,  1.60000000e+01,  1.00000000e+00,\n",
       "         0.00000000e+00,  0.00000000e+00,  7.00000000e+00,\n",
       "         0.00000000e+00],\n",
       "       [-1.02017258e+00, -1.47087101e+00, -4.53530923e-01,\n",
       "         1.24694728e+00, -2.10058102e-01, -3.45032780e-01,\n",
       "        -3.06877460e-01,  4.00000000e+00,  2.43000000e+02,\n",
       "         5.47000000e+02,  0.00000000e+00,  9.00000000e+00,\n",
       "         1.00000000e+00,  1.60000000e+01,  1.00000000e+00,\n",
       "         1.00000000e+00,  0.00000000e+00,  7.00000000e+00,\n",
       "         0.00000000e+00],\n",
       "       [-1.02017258e+00,  6.53720450e-02,  5.39917766e-02,\n",
       "         1.42783160e+00, -2.10058102e-01, -3.45032780e-01,\n",
       "        -3.06877460e-01,  4.00000000e+00,  2.43000000e+02,\n",
       "         5.47000000e+02,  0.00000000e+00,  9.00000000e+00,\n",
       "         1.00000000e+00,  1.60000000e+01,  0.00000000e+00,\n",
       "         0.00000000e+00,  0.00000000e+00,  7.00000000e+00,\n",
       "         0.00000000e+00],\n",
       "       [-2.61499933e-01,  6.53720450e-02,  5.61514477e-01,\n",
       "         1.61641313e-01, -2.10058102e-01, -3.45032780e-01,\n",
       "        -3.06877460e-01,  4.00000000e+00,  2.43000000e+02,\n",
       "         5.47000000e+02,  0.00000000e+00,  9.00000000e+00,\n",
       "         1.00000000e+00,  1.60000000e+01,  1.00000000e+00,\n",
       "         0.00000000e+00,  0.00000000e+00,  7.00000000e+00,\n",
       "         0.00000000e+00],\n",
       "       [ 4.97172712e-01,  6.53720450e-02,  1.06903718e+00,\n",
       "         8.85178621e-01, -2.10058102e-01, -3.45032780e-01,\n",
       "        -3.06877460e-01,  4.00000000e+00,  2.43000000e+02,\n",
       "         5.47000000e+02,  0.00000000e+00,  9.00000000e+00,\n",
       "         1.00000000e+00,  1.60000000e+01,  1.00000000e+00,\n",
       "         0.00000000e+00,  0.00000000e+00,  7.00000000e+00,\n",
       "         0.00000000e+00],\n",
       "       [-2.61499933e-01,  6.53720450e-02,  1.57655988e+00,\n",
       "         1.60871593e+00, -2.10058102e-01, -3.45032780e-01,\n",
       "        -3.06877460e-01,  4.00000000e+00,  2.43000000e+02,\n",
       "         5.47000000e+02,  0.00000000e+00,  9.00000000e+00,\n",
       "         1.00000000e+00,  1.60000000e+01,  0.00000000e+00,\n",
       "         0.00000000e+00,  0.00000000e+00,  7.00000000e+00,\n",
       "         0.00000000e+00],\n",
       "       [-1.02017258e+00,  6.53720450e-02, -1.46857632e+00,\n",
       "         2.33225324e+00, -2.10058102e-01, -3.45032780e-01,\n",
       "        -3.06877460e-01,  4.00000000e+00,  2.43000000e+02,\n",
       "         5.47000000e+02,  0.00000000e+00,  9.00000000e+00,\n",
       "         1.00000000e+00,  1.60000000e+01,  0.00000000e+00,\n",
       "         0.00000000e+00,  0.00000000e+00,  0.00000000e+00,\n",
       "         0.00000000e+00]])"
      ]
     },
     "execution_count": 89,
     "metadata": {},
     "output_type": "execute_result"
    }
   ],
   "source": [
    "t1[\"inputs\"]"
   ]
  },
  {
   "cell_type": "code",
   "execution_count": null,
   "metadata": {},
   "outputs": [],
   "source": []
  },
  {
   "cell_type": "code",
   "execution_count": 60,
   "metadata": {},
   "outputs": [
    {
     "name": "stdout",
     "output_type": "stream",
     "text": [
      "18\n"
     ]
    },
    {
     "data": {
      "text/plain": [
       "<matplotlib.legend.Legend at 0x7f8762a31950>"
      ]
     },
     "execution_count": 60,
     "metadata": {},
     "output_type": "execute_result"
    },
    {
     "data": {
      "image/png": "[encoded data removed]",
      "text/plain": [
       "<Figure size 432x288 with 1 Axes>"
      ]
     },
     "metadata": {
      "needs_background": "light"
     },
     "output_type": "display_data"
    }
   ],
   "source": [
    "import matplotlib.pyplot as plt\n",
    "import numpy as np\n",
    "\n",
    "ind = np.random.choice(64)\n",
    "print(ind)\n",
    "plt.plot(output[ind,:,0].detach().cpu().numpy(), label='pred_1')\n",
    "# plt.plot(output[ind,:,1].detach().cpu().numpy(), label='pred_5')\n",
    "# plt.plot(output[ind,:,2].detach().cpu().numpy(), label='pred_9')\n",
    "\n",
    "plt.plot(batch['outputs'][ind,:,0], label='true')\n",
    "plt.legend()"
   ]
  },
  {
   "cell_type": "code",
   "execution_count": 53,
   "metadata": {},
   "outputs": [],
   "source": [
    "def symmetric_mean_absolute_percentage_error(forecast, actual):\n",
    "    # Symmetric Mean Absolute Percentage Error (SMAPE)\n",
    "    sequence_length = forecast.shape[1]\n",
    "    sumf = np.sum(np.abs(forecast - actual) / (np.abs(actual) + np.abs(forecast)), axis=1)\n",
    "    return np.mean((2 * sumf) / sequence_length)"
   ]
  },
  {
   "cell_type": "code",
   "execution_count": 36,
   "metadata": {},
   "outputs": [
    {
     "data": {
      "text/plain": [
       "0.6900924920312108"
      ]
     },
     "execution_count": 36,
     "metadata": {},
     "output_type": "execute_result"
    }
   ],
   "source": [
    "pred = output[:,:,0].detach().cpu().numpy()\n",
    "label = batch['outputs'][:,:,0].detach().cpu().numpy()\n",
    "symmetric_mean_absolute_percentage_error(output[:,:,0].detach().cpu().numpy(),\n",
    "                                        batch['outputs'][:,:,0].detach().cpu().numpy())\n",
    "\n"
   ]
  },
  {
   "cell_type": "code",
   "execution_count": 132,
   "metadata": {},
   "outputs": [
    {
     "ename": "AttributeError",
     "evalue": "'list' object has no attribute 'shape'",
     "output_type": "error",
     "traceback": [
      "\u001b[0;31m---------------------------------------------------------------------------\u001b[0m",
      "\u001b[0;31mAttributeError\u001b[0m                            Traceback (most recent call last)",
      "\u001b[0;32m<ipython-input-132-5f9032e1a2a6>\u001b[0m in \u001b[0;36m<module>\u001b[0;34m\u001b[0m\n\u001b[0;32m----> 1\u001b[0;31m \u001b[0mtotal_outputs\u001b[0m\u001b[0;34m.\u001b[0m\u001b[0mshape\u001b[0m\u001b[0;34m,\u001b[0m \u001b[0mtotal_labels\u001b[0m\u001b[0;34m.\u001b[0m\u001b[0mshape\u001b[0m\u001b[0;34m\u001b[0m\u001b[0;34m\u001b[0m\u001b[0m\n\u001b[0m",
      "\u001b[0;31mAttributeError\u001b[0m: 'list' object has no attribute 'shape'"
     ]
    }
   ],
   "source": [
    "total_outputs.shape, total_labels.shape"
   ]
  },
  {
   "cell_type": "code",
   "execution_count": 136,
   "metadata": {},
   "outputs": [
    {
     "ename": "AttributeError",
     "evalue": "'list' object has no attribute 'shape'",
     "output_type": "error",
     "traceback": [
      "\u001b[0;31m---------------------------------------------------------------------------\u001b[0m",
      "\u001b[0;31mAttributeError\u001b[0m                            Traceback (most recent call last)",
      "\u001b[0;32m<ipython-input-136-5f9032e1a2a6>\u001b[0m in \u001b[0;36m<module>\u001b[0;34m\u001b[0m\n\u001b[0;32m----> 1\u001b[0;31m \u001b[0mtotal_outputs\u001b[0m\u001b[0;34m.\u001b[0m\u001b[0mshape\u001b[0m\u001b[0;34m,\u001b[0m \u001b[0mtotal_labels\u001b[0m\u001b[0;34m.\u001b[0m\u001b[0mshape\u001b[0m\u001b[0;34m\u001b[0m\u001b[0;34m\u001b[0m\u001b[0m\n\u001b[0m",
      "\u001b[0;31mAttributeError\u001b[0m: 'list' object has no attribute 'shape'"
     ]
    }
   ],
   "source": [
    "total_outputs.shape, total_labels.shape"
   ]
  },
  {
   "cell_type": "code",
   "execution_count": 146,
   "metadata": {},
   "outputs": [
    {
     "name": "stdout",
     "output_type": "stream",
     "text": [
      "0.8502095174471132,1.3009139157395846,0.7050817978703443,0.179,0.374,0.447\n"
     ]
    }
   ],
   "source": [
    "from pandas import Series\n",
    "def calc_eval_new(pred, label):\n",
    "    # 新指标的计算明显比旧指标更利于看指标\n",
    "    import math\n",
    "    import copy\n",
    "    \n",
    "    label_new = label.copy()\n",
    "    label_new[label_new < 1] = 1\n",
    "    err = pred - label\n",
    "    sq_err = err * err\n",
    "    \n",
    "    mae = err.abs().mean()\n",
    "    mse = math.sqrt(sq_err.mean())\n",
    "    mape = (err.abs() / label_new).mean()\n",
    "    dar = (err.abs() <= label_new * 0.2).mean()\n",
    "    bigger = (err > 0.2 * label_new).mean()\n",
    "    smaller = (err < -0.2 * label_new).mean()\n",
    "    \n",
    "    return mae, mse, mape, dar, smaller, bigger\n",
    "\n",
    "pred = Series(total_outputs[:,2,0].detach().numpy())\n",
    "label = Series(total_labels[:,2,0].detach().numpy())\n",
    "#pred = Series(output[:,2,0].detach().cpu().numpy())\n",
    "#label = Series(batch['outputs'][:,2,0].detach().cpu().numpy())\n",
    "mae, mse, mape, dar, smaller, bigger = calc_eval_new(pred, label)\n",
    "print(\",\".join(map(str, [mae, mse, mape, dar, smaller, bigger])))"
   ]
  },
  {
   "cell_type": "code",
   "execution_count": null,
   "metadata": {},
   "outputs": [],
   "source": []
  }
 ],
 "metadata": {
  "kernelspec": {
   "display_name": "Python 3",
   "language": "python",
   "name": "python3"
  },
  "language_info": {
   "codemirror_mode": {
    "name": "ipython",
    "version": 3
   },
   "file_extension": ".py",
   "mimetype": "text/x-python",
   "name": "python",
   "nbconvert_exporter": "python",
   "pygments_lexer": "ipython3",
   "version": "3.7.4"
  }
 },
 "nbformat": 4,
 "nbformat_minor": 4
}
